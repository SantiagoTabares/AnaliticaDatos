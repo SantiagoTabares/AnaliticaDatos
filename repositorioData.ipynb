{
  "nbformat": 4,
  "nbformat_minor": 0,
  "metadata": {
    "colab": {
      "name": "repositorioData.ipynb",
      "provenance": [],
      "authorship_tag": "ABX9TyPIeeYe7gliQqMIEP5gU0pJ",
      "include_colab_link": true
    },
    "kernelspec": {
      "name": "python3",
      "display_name": "Python 3"
    }
  },
  "cells": [
    {
      "cell_type": "markdown",
      "metadata": {
        "id": "view-in-github",
        "colab_type": "text"
      },
      "source": [
        "<a href=\"https://colab.research.google.com/github/amalvarezme/AnaliticaDatos/blob/master/repositorioData.ipynb\" target=\"_parent\"><img src=\"https://colab.research.google.com/assets/colab-badge.svg\" alt=\"Open In Colab\"/></a>"
      ]
    },
    {
      "cell_type": "code",
      "metadata": {
        "id": "MbkPRUw8_L2N",
        "colab_type": "code",
        "colab": {
          "base_uri": "https://localhost:8080/",
          "height": 880
        },
        "outputId": "ce420bed-cb57-4bdb-8c68-7e088f8470f7"
      },
      "source": [
        "!wget --load-cookies /tmp/cookies.txt \"https://docs.google.com/uc?export=download&confirm=$(wget --quiet --save-cookies /tmp/cookies.txt --keep-session-cookies --no-check-certificate 'https://docs.google.com/uc?export=download&id=1sui-FJI5znNJuQOk0whM6PALI89XfKss' -O- | sed -rn 's/.*confirm=([0-9A-Za-z_]+).*/\\1\\n/p')&id=1sui-FJI5znNJuQOk0whM6PALI89XfKss\" -O codigos.zip && rm -rf /tmp/cookies.txt\n",
        "!unzip codigos.zip\n",
        "!dir"
      ],
      "execution_count": 37,
      "outputs": [
        {
          "output_type": "stream",
          "text": [
            "--2020-04-17 16:40:54--  https://docs.google.com/uc?export=download&confirm=yLI8&id=1sui-FJI5znNJuQOk0whM6PALI89XfKss\n",
            "Resolving docs.google.com (docs.google.com)... 74.125.23.102, 74.125.23.139, 74.125.23.138, ...\n",
            "Connecting to docs.google.com (docs.google.com)|74.125.23.102|:443... connected.\n",
            "HTTP request sent, awaiting response... 302 Moved Temporarily\n",
            "Location: https://doc-0g-5c-docs.googleusercontent.com/docs/securesc/1gm4arafc6chibo4opqt4upm6q0nv140/eu39rrt77j8o6hll7hg4lc9rhi0vkog4/1587141600000/09173029842254050324/16839818331435131169Z/1sui-FJI5znNJuQOk0whM6PALI89XfKss?e=download [following]\n",
            "--2020-04-17 16:40:54--  https://doc-0g-5c-docs.googleusercontent.com/docs/securesc/1gm4arafc6chibo4opqt4upm6q0nv140/eu39rrt77j8o6hll7hg4lc9rhi0vkog4/1587141600000/09173029842254050324/16839818331435131169Z/1sui-FJI5znNJuQOk0whM6PALI89XfKss?e=download\n",
            "Resolving doc-0g-5c-docs.googleusercontent.com (doc-0g-5c-docs.googleusercontent.com)... 74.125.203.132, 2404:6800:4008:c03::84\n",
            "Connecting to doc-0g-5c-docs.googleusercontent.com (doc-0g-5c-docs.googleusercontent.com)|74.125.203.132|:443... connected.\n",
            "HTTP request sent, awaiting response... 302 Found\n",
            "Location: https://docs.google.com/nonceSigner?nonce=nul86i4dpl8qu&continue=https://doc-0g-5c-docs.googleusercontent.com/docs/securesc/1gm4arafc6chibo4opqt4upm6q0nv140/eu39rrt77j8o6hll7hg4lc9rhi0vkog4/1587141600000/09173029842254050324/16839818331435131169Z/1sui-FJI5znNJuQOk0whM6PALI89XfKss?e%3Ddownload&hash=seff0qap72jqjgncc1v4tfrvqu3qkiq2 [following]\n",
            "--2020-04-17 16:40:55--  https://docs.google.com/nonceSigner?nonce=nul86i4dpl8qu&continue=https://doc-0g-5c-docs.googleusercontent.com/docs/securesc/1gm4arafc6chibo4opqt4upm6q0nv140/eu39rrt77j8o6hll7hg4lc9rhi0vkog4/1587141600000/09173029842254050324/16839818331435131169Z/1sui-FJI5znNJuQOk0whM6PALI89XfKss?e%3Ddownload&hash=seff0qap72jqjgncc1v4tfrvqu3qkiq2\n",
            "Connecting to docs.google.com (docs.google.com)|74.125.23.102|:443... connected.\n",
            "HTTP request sent, awaiting response... 302 Found\n",
            "Location: https://doc-0g-5c-docs.googleusercontent.com/docs/securesc/1gm4arafc6chibo4opqt4upm6q0nv140/eu39rrt77j8o6hll7hg4lc9rhi0vkog4/1587141600000/09173029842254050324/16839818331435131169Z/1sui-FJI5znNJuQOk0whM6PALI89XfKss?e=download&nonce=nul86i4dpl8qu&user=16839818331435131169Z&hash=ng335jijmk3i8uirsq3rchn5abg4lhon [following]\n",
            "--2020-04-17 16:40:56--  https://doc-0g-5c-docs.googleusercontent.com/docs/securesc/1gm4arafc6chibo4opqt4upm6q0nv140/eu39rrt77j8o6hll7hg4lc9rhi0vkog4/1587141600000/09173029842254050324/16839818331435131169Z/1sui-FJI5znNJuQOk0whM6PALI89XfKss?e=download&nonce=nul86i4dpl8qu&user=16839818331435131169Z&hash=ng335jijmk3i8uirsq3rchn5abg4lhon\n",
            "Connecting to doc-0g-5c-docs.googleusercontent.com (doc-0g-5c-docs.googleusercontent.com)|74.125.203.132|:443... connected.\n",
            "HTTP request sent, awaiting response... 200 OK\n",
            "Length: unspecified [application/zip]\n",
            "Saving to: ‘codigos.zip’\n",
            "\n",
            "codigos.zip             [   <=>              ]  96.93M   136MB/s    in 0.7s    \n",
            "\n",
            "2020-04-17 16:40:57 (136 MB/s) - ‘codigos.zip’ saved [101634977]\n",
            "\n",
            "Archive:  codigos.zip\n",
            "   creating: CodesBCIITL/\n",
            "  inflating: CodesBCIITL/main_bci2a_pca_cka_Rel.ipynb  \n",
            "  inflating: CodesBCIITL/MIfunctions.py  \n",
            "  inflating: CodesBCIITL/MiniBatchCKA.py  \n",
            "   creating: CodesBCIITL/data/\n",
            "  inflating: CodesBCIITL/data/A09T.gdf  \n",
            "  inflating: CodesBCIITL/data/A02T.gdf  \n",
            "  inflating: CodesBCIITL/data/A08T.gdf  \n",
            "  inflating: CodesBCIITL/data/A03T.gdf  \n",
            "   creating: CodesBCIITL/.ipynb_checkpoints/\n",
            "  inflating: CodesBCIITL/.ipynb_checkpoints/main_bci2a_pca_cka-checkpoint.ipynb  \n",
            "  inflating: CodesBCIITL/.ipynb_checkpoints/main_bci2a_itlML-checkpoint.ipynb  \n",
            "  inflating: CodesBCIITL/.ipynb_checkpoints/main_bci2a_pca_cka_Rel-checkpoint.ipynb  \n",
            "   creating: CodesBCIITL/__pycache__/\n",
            "  inflating: CodesBCIITL/__pycache__/MIfunctions.cpython-37.pyc  \n",
            "  inflating: CodesBCIITL/__pycache__/MiniBatchCKA.cpython-37.pyc  \n",
            "  inflating: CodesBCIITL/__pycache__/MiniBatchMLITL.cpython-37.pyc  \n",
            "   creating: CodesBCIITL/results/\n",
            "  inflating: CodesBCIITL/results/BCI2a.joblib  \n",
            "  inflating: CodesBCIITL/results/BCI2aitl.joblib  \n",
            "  inflating: CodesBCIITL/MiniBatchMLITL.py  \n",
            "  inflating: CodesBCIITL/main_bci2a_itlML.ipynb  \n",
            "CodesBCIITL  codigos.zip  sample_data\n"
          ],
          "name": "stdout"
        }
      ]
    },
    {
      "cell_type": "code",
      "metadata": {
        "id": "zCdrdVDR8tRT",
        "colab_type": "code",
        "colab": {}
      },
      "source": [
        "!rm -r CodesBCIITL"
      ],
      "execution_count": 0,
      "outputs": []
    },
    {
      "cell_type": "code",
      "metadata": {
        "id": "8zGD3fitz-Ie",
        "colab_type": "code",
        "colab": {
          "base_uri": "https://localhost:8080/",
          "height": 367
        },
        "outputId": "c423fba0-7b53-4ec2-cd17-30d38bbecf49"
      },
      "source": [
        "import zipfile\n",
        "zip_ref = zipfile.ZipFile(\"Main_People.zip\", 'r')\n",
        "#zip_ref.extractall(\"/codigos\")\n",
        "#zip_ref.close()"
      ],
      "execution_count": 22,
      "outputs": [
        {
          "output_type": "error",
          "ename": "BadZipFile",
          "evalue": "ignored",
          "traceback": [
            "\u001b[0;31m---------------------------------------------------------------------------\u001b[0m",
            "\u001b[0;31mBadZipFile\u001b[0m                                Traceback (most recent call last)",
            "\u001b[0;32m<ipython-input-22-c1380fb3210a>\u001b[0m in \u001b[0;36m<module>\u001b[0;34m()\u001b[0m\n\u001b[1;32m      1\u001b[0m \u001b[0;32mimport\u001b[0m \u001b[0mzipfile\u001b[0m\u001b[0;34m\u001b[0m\u001b[0;34m\u001b[0m\u001b[0m\n\u001b[0;32m----> 2\u001b[0;31m \u001b[0mzip_ref\u001b[0m \u001b[0;34m=\u001b[0m \u001b[0mzipfile\u001b[0m\u001b[0;34m.\u001b[0m\u001b[0mZipFile\u001b[0m\u001b[0;34m(\u001b[0m\u001b[0;34m\"Main_People.zip\"\u001b[0m\u001b[0;34m,\u001b[0m \u001b[0;34m'r'\u001b[0m\u001b[0;34m)\u001b[0m\u001b[0;34m\u001b[0m\u001b[0;34m\u001b[0m\u001b[0m\n\u001b[0m\u001b[1;32m      3\u001b[0m \u001b[0;31m#zip_ref.extractall(\"/codigos\")\u001b[0m\u001b[0;34m\u001b[0m\u001b[0;34m\u001b[0m\u001b[0;34m\u001b[0m\u001b[0m\n\u001b[1;32m      4\u001b[0m \u001b[0;31m#zip_ref.close()\u001b[0m\u001b[0;34m\u001b[0m\u001b[0;34m\u001b[0m\u001b[0;34m\u001b[0m\u001b[0m\n",
            "\u001b[0;32m/usr/lib/python3.6/zipfile.py\u001b[0m in \u001b[0;36m__init__\u001b[0;34m(self, file, mode, compression, allowZip64)\u001b[0m\n\u001b[1;32m   1129\u001b[0m         \u001b[0;32mtry\u001b[0m\u001b[0;34m:\u001b[0m\u001b[0;34m\u001b[0m\u001b[0;34m\u001b[0m\u001b[0m\n\u001b[1;32m   1130\u001b[0m             \u001b[0;32mif\u001b[0m \u001b[0mmode\u001b[0m \u001b[0;34m==\u001b[0m \u001b[0;34m'r'\u001b[0m\u001b[0;34m:\u001b[0m\u001b[0;34m\u001b[0m\u001b[0;34m\u001b[0m\u001b[0m\n\u001b[0;32m-> 1131\u001b[0;31m                 \u001b[0mself\u001b[0m\u001b[0;34m.\u001b[0m\u001b[0m_RealGetContents\u001b[0m\u001b[0;34m(\u001b[0m\u001b[0;34m)\u001b[0m\u001b[0;34m\u001b[0m\u001b[0;34m\u001b[0m\u001b[0m\n\u001b[0m\u001b[1;32m   1132\u001b[0m             \u001b[0;32melif\u001b[0m \u001b[0mmode\u001b[0m \u001b[0;32min\u001b[0m \u001b[0;34m(\u001b[0m\u001b[0;34m'w'\u001b[0m\u001b[0;34m,\u001b[0m \u001b[0;34m'x'\u001b[0m\u001b[0;34m)\u001b[0m\u001b[0;34m:\u001b[0m\u001b[0;34m\u001b[0m\u001b[0;34m\u001b[0m\u001b[0m\n\u001b[1;32m   1133\u001b[0m                 \u001b[0;31m# set the modified flag so central directory gets written\u001b[0m\u001b[0;34m\u001b[0m\u001b[0;34m\u001b[0m\u001b[0;34m\u001b[0m\u001b[0m\n",
            "\u001b[0;32m/usr/lib/python3.6/zipfile.py\u001b[0m in \u001b[0;36m_RealGetContents\u001b[0;34m(self)\u001b[0m\n\u001b[1;32m   1196\u001b[0m             \u001b[0;32mraise\u001b[0m \u001b[0mBadZipFile\u001b[0m\u001b[0;34m(\u001b[0m\u001b[0;34m\"File is not a zip file\"\u001b[0m\u001b[0;34m)\u001b[0m\u001b[0;34m\u001b[0m\u001b[0;34m\u001b[0m\u001b[0m\n\u001b[1;32m   1197\u001b[0m         \u001b[0;32mif\u001b[0m \u001b[0;32mnot\u001b[0m \u001b[0mendrec\u001b[0m\u001b[0;34m:\u001b[0m\u001b[0;34m\u001b[0m\u001b[0;34m\u001b[0m\u001b[0m\n\u001b[0;32m-> 1198\u001b[0;31m             \u001b[0;32mraise\u001b[0m \u001b[0mBadZipFile\u001b[0m\u001b[0;34m(\u001b[0m\u001b[0;34m\"File is not a zip file\"\u001b[0m\u001b[0;34m)\u001b[0m\u001b[0;34m\u001b[0m\u001b[0;34m\u001b[0m\u001b[0m\n\u001b[0m\u001b[1;32m   1199\u001b[0m         \u001b[0;32mif\u001b[0m \u001b[0mself\u001b[0m\u001b[0;34m.\u001b[0m\u001b[0mdebug\u001b[0m \u001b[0;34m>\u001b[0m \u001b[0;36m1\u001b[0m\u001b[0;34m:\u001b[0m\u001b[0;34m\u001b[0m\u001b[0;34m\u001b[0m\u001b[0m\n\u001b[1;32m   1200\u001b[0m             \u001b[0mprint\u001b[0m\u001b[0;34m(\u001b[0m\u001b[0mendrec\u001b[0m\u001b[0;34m)\u001b[0m\u001b[0;34m\u001b[0m\u001b[0;34m\u001b[0m\u001b[0m\n",
            "\u001b[0;31mBadZipFile\u001b[0m: File is not a zip file"
          ]
        }
      ]
    },
    {
      "cell_type": "code",
      "metadata": {
        "id": "bKexdCij0ms1",
        "colab_type": "code",
        "colab": {
          "base_uri": "https://localhost:8080/",
          "height": 248
        },
        "outputId": "0bdd8f68-292e-411e-f44e-9cfe0cdf681f"
      },
      "source": [
        "!wget http://github.com/amalvarezme/AnaliticaDatos/blob/master/3_DeteccionClasificacionGH/Main_People.zip"
      ],
      "execution_count": 7,
      "outputs": [
        {
          "output_type": "stream",
          "text": [
            "URL transformed to HTTPS due to an HSTS policy\n",
            "--2020-04-17 15:49:52--  https://github.com/amalvarezme/AnaliticaDatos/blob/master/3_DeteccionClasificacionGH/Main_People.zip\n",
            "Resolving github.com (github.com)... 140.82.114.4\n",
            "Connecting to github.com (github.com)|140.82.114.4|:443... connected.\n",
            "HTTP request sent, awaiting response... 200 OK\n",
            "Length: unspecified [text/html]\n",
            "Saving to: ‘Main_People.zip’\n",
            "\n",
            "Main_People.zip         [  <=>               ]  65.02K   175KB/s    in 0.4s    \n",
            "\n",
            "2020-04-17 15:49:53 (175 KB/s) - ‘Main_People.zip’ saved [66579]\n",
            "\n"
          ],
          "name": "stdout"
        }
      ]
    },
    {
      "cell_type": "code",
      "metadata": {
        "id": "WzElhu_e1HmS",
        "colab_type": "code",
        "colab": {
          "base_uri": "https://localhost:8080/",
          "height": 34
        },
        "outputId": "29c74bb7-ee83-4587-81d5-f156a6c21110"
      },
      "source": [
        "!unzip  Main_People -o data"
      ],
      "execution_count": 18,
      "outputs": [
        {
          "output_type": "stream",
          "text": [
            "unzip:  cannot find or open Main_People, Main_People.zip or Main_People.ZIP.\n"
          ],
          "name": "stdout"
        }
      ]
    },
    {
      "cell_type": "code",
      "metadata": {
        "id": "9CfnyDbz3MHc",
        "colab_type": "code",
        "colab": {
          "base_uri": "https://localhost:8080/",
          "height": 34
        },
        "outputId": "9000d3f5-0d0a-4a14-c327-45d94b5ee4ad"
      },
      "source": [
        "!rm Main_People.zip data"
      ],
      "execution_count": 17,
      "outputs": [
        {
          "output_type": "stream",
          "text": [
            "rm: cannot remove 'data': No such file or directory\n"
          ],
          "name": "stdout"
        }
      ]
    },
    {
      "cell_type": "code",
      "metadata": {
        "id": "WPrYzVBR3Y0K",
        "colab_type": "code",
        "colab": {}
      },
      "source": [
        ""
      ],
      "execution_count": 0,
      "outputs": []
    }
  ]
}