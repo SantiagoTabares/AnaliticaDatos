{
  "nbformat": 4,
  "nbformat_minor": 0,
  "metadata": {
    "kernelspec": {
      "display_name": "Python 3",
      "language": "python",
      "name": "python3"
    },
    "language_info": {
      "codemirror_mode": {
        "name": "ipython",
        "version": 3
      },
      "file_extension": ".py",
      "mimetype": "text/x-python",
      "name": "python",
      "nbconvert_exporter": "python",
      "pygments_lexer": "ipython3",
      "version": "3.7.6"
    },
    "nav_menu": {
      "height": "360px",
      "width": "416px"
    },
    "toc": {
      "navigate_menu": true,
      "number_sections": true,
      "sideBar": true,
      "threshold": 6,
      "toc_cell": false,
      "toc_section_display": "block",
      "toc_window_display": false
    },
    "colab": {
      "name": "Entrenamiento_DL.ipynb",
      "provenance": [],
      "collapsed_sections": [
        "21SH-G2pFe6d",
        "w35hOCXTFe6e",
        "QwP2LvgTFe6e",
        "lEBGpsAXFe6e",
        "rRDGx6JGFe6f",
        "YdEnwi1NFe6f",
        "i5M2aajmFe6f",
        "xHugu8RWFe6f",
        "lMsfCSYlFe6g"
      ],
      "include_colab_link": true
    },
    "accelerator": "GPU"
  },
  "cells": [
    {
      "cell_type": "markdown",
      "metadata": {
        "id": "view-in-github",
        "colab_type": "text"
      },
      "source": [
        "<a href=\"https://colab.research.google.com/github/amalvarezme/AnaliticaDatos/blob/master/6_NN_DeepLearning/Entrenamiento_DL.ipynb\" target=\"_parent\"><img src=\"https://colab.research.google.com/assets/colab-badge.svg\" alt=\"Open In Colab\"/></a>"
      ]
    },
    {
      "cell_type": "markdown",
      "metadata": {
        "id": "5BR9FcccFe6V"
      },
      "source": [
        "# **Inicializadores, normalización por lotes, optimizadores y regularizadores en DL**"
      ]
    },
    {
      "cell_type": "code",
      "metadata": {
        "id": "QtCFh9CZFe6W"
      },
      "source": [
        "# Python ≥3.5 is required\n",
        "import sys\n",
        "\n",
        "# Scikit-Learn ≥0.20 is required\n",
        "import sklearn\n",
        "\n",
        "# TensorFlow ≥2.0 is required\n",
        "import tensorflow as tf\n",
        "from tensorflow import keras\n",
        "\n",
        "\n",
        "# Common imports\n",
        "import numpy as np\n",
        "import os\n",
        "\n",
        "# to make this notebook's output stable across runs\n",
        "np.random.seed(42)\n",
        "\n",
        "# To plot pretty figures\n",
        "%matplotlib inline\n",
        "import matplotlib as mpl\n",
        "import matplotlib.pyplot as plt\n",
        "mpl.rc('axes', labelsize=14)\n",
        "mpl.rc('xtick', labelsize=12)\n",
        "mpl.rc('ytick', labelsize=12)\n",
        "\n"
      ],
      "execution_count": 1,
      "outputs": []
    },
    {
      "cell_type": "markdown",
      "metadata": {
        "id": "LLwf2genFe6W"
      },
      "source": [
        "# Vanishing/Exploding Gradients Problem\n",
        "\n",
        "# Desvanecimiento/no convergencia del gradiente\n",
        "\n",
        "- En el backpropagation el gradiente de las capas iniciales no cambia (vanishing)\n",
        "\n",
        "- En el backpropagation el gradiente se dispara\n",
        "\n",
        "- En DL se generan gradientes inestables, diferentes capas aprenden a velocidades muy distintas!\n",
        "\n",
        "- Posibles causas: incializacion tipo $\\mathcal{N}(0,1)$ y activación logística, generan que las varianzas de las salidas de las capas sean más grandes que las varianzas de las entradas de las mismas. La sigmoide tiene problemas por saturación además del nivel dc 0.5\n",
        "\n",
        "- Xavier Glorot y Yoshua Bengio demostraron dichas evidencias en 2010 [Paper](http://proceedings.mlr.press/v9/glorot10a/glorot10a.pdf?source=post_page---------------------------)"
      ]
    },
    {
      "cell_type": "code",
      "metadata": {
        "id": "mH-zkMJyFe6W"
      },
      "source": [
        "def logit(z): #funcion sigmoid\n",
        "    return 1 / (1 + np.exp(-z))"
      ],
      "execution_count": 2,
      "outputs": []
    },
    {
      "cell_type": "code",
      "metadata": {
        "id": "3f0FDSnCFe6W",
        "colab": {
          "base_uri": "https://localhost:8080/",
          "height": 285
        },
        "outputId": "b277d3f6-c30d-4f12-ac10-297db1244262"
      },
      "source": [
        "z = np.linspace(-5, 5, 200)\n",
        "\n",
        "plt.plot([-5, 5], [0, 0], 'k-')\n",
        "plt.plot([-5, 5], [1, 1], 'k--')\n",
        "plt.plot([0, 0], [-0.2, 1.2], 'k-')\n",
        "plt.plot([-5, 5], [-3/4, 7/4], 'g--')\n",
        "plt.plot(z, logit(z), \"b-\", linewidth=2)\n",
        "props = dict(facecolor='black', shrink=0.1)\n",
        "plt.annotate('Saturating', xytext=(3.5, 0.7), xy=(5, 1), arrowprops=props, fontsize=14, ha=\"center\")\n",
        "plt.annotate('Saturating', xytext=(-3.5, 0.3), xy=(-5, 0), arrowprops=props, fontsize=14, ha=\"center\")\n",
        "plt.annotate('Linear', xytext=(2, 0.2), xy=(0, 0.5), arrowprops=props, fontsize=14, ha=\"center\")\n",
        "plt.grid(True)\n",
        "plt.title(\"Sigmoid activation function\", fontsize=14)\n",
        "plt.axis([-5, 5, -0.2, 1.2])\n",
        "\n",
        "plt.show()"
      ],
      "execution_count": 3,
      "outputs": [
        {
          "output_type": "display_data",
          "data": {
            "image/png": "[encoded data removed]",
            "text/plain": [
              "<Figure size 432x288 with 1 Axes>"
            ]
          },
          "metadata": {
            "tags": [],
            "needs_background": "light"
          }
        }
      ]
    },
    {
      "cell_type": "markdown",
      "metadata": {
        "id": "Uks6xICaFe6X"
      },
      "source": [
        "## Inicializadores Xavier (Glorot) y He \n",
        "\n",
        "*   Se busca que la información fluya de forma estable en ambas direcciones: forward y backward\n",
        "*   No la información no deberia ni morir (vanishing) ni explotar o saturarse.\n",
        "\n",
        "* Clave: la varianza de las salidas de las capas se iguala a la varianza de las entradas de las capas. Además, se espera que el gradiente fluya con igual varianza antes y después de fluir por una capa.\n",
        "\n",
        "* Dado que no es posible mantenar las claves anteriores por la variabilidad en el número de neuronas y entradas en una capa (fan-in fan-out de la capa), Glorot y Bengio proponen un modelo que mantiene un buen compromiso (inicialmente definido para activaciones sigmoid):\n",
        "\n",
        "$$ w_0 \\sim \\mathcal{N}\\left(0,1/fan_{avg}\\right)$$ \n",
        "o\n",
        "$$ w_0 \\sim \\mathcal{U}\\left(-\\sqrt{3/fan_{avg}},+\\sqrt{3/fan_{avg}}\\right)$$ \n",
        "\n",
        "donde $fan_{avg}= (fan_{in}+fan_{out})/2$\n",
        "\n",
        "* Cuando $fan_{avg}=fan_{in}$ se obtiene el inicializador de Yann LeCun, o LeCun initialization (1990).\n",
        "\n",
        "* Glorot puede mejorar el rendimiento y la velocidad de entrenamiento considerablemente!\n",
        "\n",
        "Algunas otras alternativas de inicializadores se basan en las ideas de LeCun y Glorot modificando el uso de $fan_{avg}$ y $fan_{in}$ y el tipo de activación:\n",
        "\n",
        "\n",
        "|Inicializador|Función de activación| $\\sigma^2$ (Normal)|\n",
        "|---|---|---|\n",
        "|Glorot| linear, tanh, logist,softmax| 1/$fan_{avg}$|\n",
        "|He| ReLU y variantes| 2/$fan_{in}$|\n",
        "|LeCun| SELU| 1/$fan_{in}$|\n",
        "\n",
        "\n"
      ]
    },
    {
      "cell_type": "code",
      "metadata": {
        "id": "uNXD0uNjFe6X",
        "colab": {
          "base_uri": "https://localhost:8080/"
        },
        "outputId": "b26ec127-e754-4264-c768-c57f9b152859"
      },
      "source": [
        "#keras initializers\n",
        "[name for name in dir(keras.initializers) if not name.startswith(\"_\")]"
      ],
      "execution_count": 4,
      "outputs": [
        {
          "output_type": "execute_result",
          "data": {
            "text/plain": [
              "['Constant',\n",
              " 'GlorotNormal',\n",
              " 'GlorotUniform',\n",
              " 'HeNormal',\n",
              " 'HeUniform',\n",
              " 'Identity',\n",
              " 'Initializer',\n",
              " 'LecunNormal',\n",
              " 'LecunUniform',\n",
              " 'Ones',\n",
              " 'Orthogonal',\n",
              " 'RandomNormal',\n",
              " 'RandomUniform',\n",
              " 'TruncatedNormal',\n",
              " 'VarianceScaling',\n",
              " 'Zeros',\n",
              " 'constant',\n",
              " 'deserialize',\n",
              " 'get',\n",
              " 'glorot_normal',\n",
              " 'glorot_uniform',\n",
              " 'he_normal',\n",
              " 'he_uniform',\n",
              " 'identity',\n",
              " 'lecun_normal',\n",
              " 'lecun_uniform',\n",
              " 'ones',\n",
              " 'orthogonal',\n",
              " 'random_normal',\n",
              " 'random_uniform',\n",
              " 'serialize',\n",
              " 'truncated_normal',\n",
              " 'variance_scaling',\n",
              " 'zeros']"
            ]
          },
          "metadata": {
            "tags": []
          },
          "execution_count": 4
        }
      ]
    },
    {
      "cell_type": "code",
      "metadata": {
        "id": "syNv9lttFe6Y",
        "colab": {
          "base_uri": "https://localhost:8080/"
        },
        "outputId": "d1a59fab-f1e8-4f31-d0e2-a14ea1e71c74"
      },
      "source": [
        "keras.layers.Dense(10, activation=\"relu\", kernel_initializer=\"he_normal\")"
      ],
      "execution_count": 5,
      "outputs": [
        {
          "output_type": "execute_result",
          "data": {
            "text/plain": [
              "<tensorflow.python.keras.layers.core.Dense at 0x7f7d6bf7e940>"
            ]
          },
          "metadata": {
            "tags": []
          },
          "execution_count": 5
        }
      ]
    },
    {
      "cell_type": "code",
      "metadata": {
        "id": "lf5NI7TzFe6Y",
        "colab": {
          "base_uri": "https://localhost:8080/"
        },
        "outputId": "27a90f22-cbdd-4336-b33e-3aa1c15ab793"
      },
      "source": [
        "# se escala la variance o rango sobre el que se quiere muestrear\n",
        "#https://www.tensorflow.org/api_docs/python/tf/keras/initializers/VarianceScaling\n",
        "init = keras.initializers.VarianceScaling(scale=2., mode='fan_avg',\n",
        "                                          distribution='uniform')\n",
        "keras.layers.Dense(10, activation=\"relu\", kernel_initializer=init)"
      ],
      "execution_count": 6,
      "outputs": [
        {
          "output_type": "execute_result",
          "data": {
            "text/plain": [
              "<tensorflow.python.keras.layers.core.Dense at 0x7f7d6b9f62e8>"
            ]
          },
          "metadata": {
            "tags": []
          },
          "execution_count": 6
        }
      ]
    },
    {
      "cell_type": "markdown",
      "metadata": {
        "id": "mtkWOtAZFe6Y"
      },
      "source": [
        "# Funciones de activación sin saturación\n",
        "## Nonsaturating Activation Functions\n",
        "\n",
        "* Aunque la activación en neuronas biológicas se asemejan a la función sigmoide, la saturación es un problema en el entrenamiento de la red (vanishing/exploding)\n",
        "\n",
        "* Alternativa: ReLU -> simple de implementar y no saturada\n",
        "\n",
        "* Problema de ReLU: dying ReLU, algunas neuronas marcan cero a la salida por el modelo de la $ReLU(x) = \\max(0,x)$.\n",
        "\n",
        "* El problema del dying ReLU es muy evidente para learning rates grandes, dado que el gradiente es cero para salidas negativas sobre la ReLU, las neuronas seguiran generando ceros!.\n",
        "\n",
        " "
      ]
    },
    {
      "cell_type": "markdown",
      "metadata": {
        "id": "OHv_8ssWFe6Y"
      },
      "source": [
        "### Leaky ReLU\n",
        "\n",
        "$Leaky ReLU(x) = \\max(\\alpha x,x)$\n",
        "\n",
        "Algunas variantes de ReLU, buscando jugar con el factor de escala $\\alpha$ para inducir un \"coma\" en las neuronas, del cual puedan volver en algún punto del entrenamiento se pueden encontrar en el siguiente [Paper](https://arxiv.org/abs/1505.00853) 2015"
      ]
    },
    {
      "cell_type": "code",
      "metadata": {
        "id": "JzArpPRLFe6Y"
      },
      "source": [
        "def leaky_relu(z, alpha=0.01):\n",
        "    return np.maximum(alpha*z, z)"
      ],
      "execution_count": 7,
      "outputs": []
    },
    {
      "cell_type": "code",
      "metadata": {
        "id": "xa7h1TFcFe6Y",
        "colab": {
          "base_uri": "https://localhost:8080/",
          "height": 285
        },
        "outputId": "4dc265a6-16ee-48f5-c98a-c5b3d9b8a984"
      },
      "source": [
        "plt.plot(z, leaky_relu(z, 0.05), \"b-\", linewidth=2)\n",
        "plt.plot([-5, 5], [0, 0], 'k-')\n",
        "plt.plot([0, 0], [-0.5, 4.2], 'k-')\n",
        "plt.grid(True)\n",
        "props = dict(facecolor='black', shrink=0.1)\n",
        "plt.annotate('Leak', xytext=(-3.5, 0.5), xy=(-5, -0.2), arrowprops=props, fontsize=14, ha=\"center\")\n",
        "plt.title(\"Leaky ReLU activation function\", fontsize=14)\n",
        "plt.axis([-5, 5, -0.5, 4.2])\n",
        "plt.show()"
      ],
      "execution_count": 8,
      "outputs": [
        {
          "output_type": "display_data",
          "data": {
            "image/png": "[encoded data removed]",
            "text/plain": [
              "<Figure size 432x288 with 1 Axes>"
            ]
          },
          "metadata": {
            "tags": [],
            "needs_background": "light"
          }
        }
      ]
    },
    {
      "cell_type": "code",
      "metadata": {
        "id": "dyFcRX90Fe6Y",
        "colab": {
          "base_uri": "https://localhost:8080/"
        },
        "outputId": "a71a4f5a-f353-4815-f43e-0cc12c940f3e"
      },
      "source": [
        "[m for m in dir(keras.activations) if not m.startswith(\"_\")]"
      ],
      "execution_count": 9,
      "outputs": [
        {
          "output_type": "execute_result",
          "data": {
            "text/plain": [
              "['deserialize',\n",
              " 'elu',\n",
              " 'exponential',\n",
              " 'get',\n",
              " 'hard_sigmoid',\n",
              " 'linear',\n",
              " 'relu',\n",
              " 'selu',\n",
              " 'serialize',\n",
              " 'sigmoid',\n",
              " 'softmax',\n",
              " 'softplus',\n",
              " 'softsign',\n",
              " 'swish',\n",
              " 'tanh']"
            ]
          },
          "metadata": {
            "tags": []
          },
          "execution_count": 9
        }
      ]
    },
    {
      "cell_type": "code",
      "metadata": {
        "id": "Q6-0gwChFe6Y",
        "colab": {
          "base_uri": "https://localhost:8080/"
        },
        "outputId": "641bc61a-760a-49ff-9598-6c26b1158e25"
      },
      "source": [
        "[m for m in dir(keras.layers) if \"relu\" in m.lower()]"
      ],
      "execution_count": 10,
      "outputs": [
        {
          "output_type": "execute_result",
          "data": {
            "text/plain": [
              "['LeakyReLU', 'PReLU', 'ReLU', 'ThresholdedReLU']"
            ]
          },
          "metadata": {
            "tags": []
          },
          "execution_count": 10
        }
      ]
    },
    {
      "cell_type": "markdown",
      "metadata": {
        "id": "ZO2_xX4SFe6Y"
      },
      "source": [
        "Pruebas sobre Fashion MNIST en Leaky ReLU:"
      ]
    },
    {
      "cell_type": "code",
      "metadata": {
        "id": "EyaLqtFVFe6Y"
      },
      "source": [
        "(X_train_full, y_train_full), (X_test, y_test) = keras.datasets.fashion_mnist.load_data()\n",
        "X_train_full = X_train_full / 255.0\n",
        "X_test = X_test / 255.0\n",
        "X_valid, X_train = X_train_full[:5000], X_train_full[5000:]\n",
        "y_valid, y_train = y_train_full[:5000], y_train_full[5000:]"
      ],
      "execution_count": 11,
      "outputs": []
    },
    {
      "cell_type": "code",
      "metadata": {
        "id": "x-8cTitqFe6Y"
      },
      "source": [
        "tf.random.set_seed(42)\n",
        "np.random.seed(42)\n",
        "\n",
        "model = keras.models.Sequential([\n",
        "    keras.layers.Flatten(input_shape=[28, 28]),\n",
        "    keras.layers.Dense(300, kernel_initializer=\"he_normal\"),\n",
        "    keras.layers.LeakyReLU(),\n",
        "    keras.layers.Dense(100, kernel_initializer=\"he_normal\"),\n",
        "    keras.layers.LeakyReLU(),\n",
        "    keras.layers.Dense(10, activation=\"softmax\")\n",
        "])"
      ],
      "execution_count": 12,
      "outputs": []
    },
    {
      "cell_type": "code",
      "metadata": {
        "id": "l_tLEtCcFe6Y"
      },
      "source": [
        "model.compile(loss=\"sparse_categorical_crossentropy\",\n",
        "              optimizer=keras.optimizers.SGD(lr=1e-3),\n",
        "              metrics=[\"accuracy\"])"
      ],
      "execution_count": 13,
      "outputs": []
    },
    {
      "cell_type": "code",
      "metadata": {
        "scrolled": true,
        "id": "7NAivD7xFe6Y",
        "colab": {
          "base_uri": "https://localhost:8080/"
        },
        "outputId": "75730d84-7163-4a69-f950-2ec93d133f2f"
      },
      "source": [
        "history = model.fit(X_train, y_train, epochs=10,\n",
        "                    validation_data=(X_valid, y_valid))"
      ],
      "execution_count": 14,
      "outputs": [
        {
          "output_type": "stream",
          "text": [
            "Epoch 1/10\n",
            "1719/1719 [==============================] - 4s 2ms/step - loss: 1.2819 - accuracy: 0.6229 - val_loss: 0.8886 - val_accuracy: 0.7160\n",
            "Epoch 2/10\n",
            "1719/1719 [==============================] - 4s 2ms/step - loss: 0.7955 - accuracy: 0.7361 - val_loss: 0.7130 - val_accuracy: 0.7656\n",
            "Epoch 3/10\n",
            "1719/1719 [==============================] - 4s 2ms/step - loss: 0.6816 - accuracy: 0.7721 - val_loss: 0.6427 - val_accuracy: 0.7900\n",
            "Epoch 4/10\n",
            "1719/1719 [==============================] - 4s 2ms/step - loss: 0.6217 - accuracy: 0.7944 - val_loss: 0.5900 - val_accuracy: 0.8064\n",
            "Epoch 5/10\n",
            "1719/1719 [==============================] - 4s 2ms/step - loss: 0.5832 - accuracy: 0.8074 - val_loss: 0.5582 - val_accuracy: 0.8198\n",
            "Epoch 6/10\n",
            "1719/1719 [==============================] - 4s 2ms/step - loss: 0.5553 - accuracy: 0.8156 - val_loss: 0.5350 - val_accuracy: 0.8238\n",
            "Epoch 7/10\n",
            "1719/1719 [==============================] - 4s 2ms/step - loss: 0.5339 - accuracy: 0.8224 - val_loss: 0.5156 - val_accuracy: 0.8302\n",
            "Epoch 8/10\n",
            "1719/1719 [==============================] - 4s 2ms/step - loss: 0.5173 - accuracy: 0.8273 - val_loss: 0.5079 - val_accuracy: 0.8284\n",
            "Epoch 9/10\n",
            "1719/1719 [==============================] - 4s 2ms/step - loss: 0.5040 - accuracy: 0.8289 - val_loss: 0.4895 - val_accuracy: 0.8386\n",
            "Epoch 10/10\n",
            "1719/1719 [==============================] - 4s 2ms/step - loss: 0.4924 - accuracy: 0.8320 - val_loss: 0.4817 - val_accuracy: 0.8396\n"
          ],
          "name": "stdout"
        }
      ]
    },
    {
      "cell_type": "markdown",
      "metadata": {
        "id": "bM37ymrGFe6Z"
      },
      "source": [
        "Ahora con PReLU (parámetro $\\alpha$ se aprende en el entrenamiento):"
      ]
    },
    {
      "cell_type": "code",
      "metadata": {
        "id": "9R7mSvB4Fe6Z"
      },
      "source": [
        "tf.random.set_seed(42)\n",
        "np.random.seed(42)\n",
        "\n",
        "model = keras.models.Sequential([\n",
        "    keras.layers.Flatten(input_shape=[28, 28]),\n",
        "    keras.layers.Dense(300, kernel_initializer=\"he_normal\"),\n",
        "    keras.layers.PReLU(),\n",
        "    keras.layers.Dense(100, kernel_initializer=\"he_normal\"),\n",
        "    keras.layers.PReLU(),\n",
        "    keras.layers.Dense(10, activation=\"softmax\")\n",
        "])"
      ],
      "execution_count": 15,
      "outputs": []
    },
    {
      "cell_type": "code",
      "metadata": {
        "id": "CtugsWIjFe6Z"
      },
      "source": [
        "model.compile(loss=\"sparse_categorical_crossentropy\",\n",
        "              optimizer=keras.optimizers.SGD(lr=1e-3),\n",
        "              metrics=[\"accuracy\"])"
      ],
      "execution_count": 16,
      "outputs": []
    },
    {
      "cell_type": "code",
      "metadata": {
        "id": "7zA2Czo7Fe6Z",
        "colab": {
          "base_uri": "https://localhost:8080/"
        },
        "outputId": "461fab3d-a223-4a38-9664-65714cad0222"
      },
      "source": [
        "history = model.fit(X_train, y_train, epochs=10,\n",
        "                    validation_data=(X_valid, y_valid))"
      ],
      "execution_count": 17,
      "outputs": [
        {
          "output_type": "stream",
          "text": [
            "Epoch 1/10\n",
            "1719/1719 [==============================] - 5s 3ms/step - loss: 1.3461 - accuracy: 0.6209 - val_loss: 0.9255 - val_accuracy: 0.7186\n",
            "Epoch 2/10\n",
            "1719/1719 [==============================] - 5s 3ms/step - loss: 0.8197 - accuracy: 0.7355 - val_loss: 0.7305 - val_accuracy: 0.7630\n",
            "Epoch 3/10\n",
            "1719/1719 [==============================] - 5s 3ms/step - loss: 0.6965 - accuracy: 0.7693 - val_loss: 0.6565 - val_accuracy: 0.7884\n",
            "Epoch 4/10\n",
            "1719/1719 [==============================] - 5s 3ms/step - loss: 0.6331 - accuracy: 0.7910 - val_loss: 0.6003 - val_accuracy: 0.8048\n",
            "Epoch 5/10\n",
            "1719/1719 [==============================] - 4s 3ms/step - loss: 0.5917 - accuracy: 0.8058 - val_loss: 0.5656 - val_accuracy: 0.8184\n",
            "Epoch 6/10\n",
            "1719/1719 [==============================] - 4s 3ms/step - loss: 0.5618 - accuracy: 0.8134 - val_loss: 0.5406 - val_accuracy: 0.8238\n",
            "Epoch 7/10\n",
            "1719/1719 [==============================] - 4s 3ms/step - loss: 0.5390 - accuracy: 0.8205 - val_loss: 0.5196 - val_accuracy: 0.8310\n",
            "Epoch 8/10\n",
            "1719/1719 [==============================] - 4s 3ms/step - loss: 0.5213 - accuracy: 0.8257 - val_loss: 0.5113 - val_accuracy: 0.8312\n",
            "Epoch 9/10\n",
            "1719/1719 [==============================] - 4s 3ms/step - loss: 0.5070 - accuracy: 0.8288 - val_loss: 0.4916 - val_accuracy: 0.8378\n",
            "Epoch 10/10\n",
            "1719/1719 [==============================] - 4s 3ms/step - loss: 0.4945 - accuracy: 0.8315 - val_loss: 0.4826 - val_accuracy: 0.8394\n"
          ],
          "name": "stdout"
        }
      ]
    },
    {
      "cell_type": "markdown",
      "metadata": {
        "id": "7rqYrr8iFe6Z"
      },
      "source": [
        "### ELU"
      ]
    },
    {
      "cell_type": "code",
      "metadata": {
        "id": "e_qcOJAsFe6Z"
      },
      "source": [
        "def elu(z, alpha=1):\n",
        "    return np.where(z < 0, alpha * (np.exp(z) - 1), z)"
      ],
      "execution_count": 18,
      "outputs": []
    },
    {
      "cell_type": "code",
      "metadata": {
        "id": "rK7YpmQgFe6Z",
        "colab": {
          "base_uri": "https://localhost:8080/",
          "height": 287
        },
        "outputId": "c3fbef22-635c-4e5e-c461-57abc418883b"
      },
      "source": [
        "plt.plot(z, elu(z), \"b-\", linewidth=2)\n",
        "plt.plot([-5, 5], [0, 0], 'k-')\n",
        "plt.plot([-5, 5], [-1, -1], 'k--')\n",
        "plt.plot([0, 0], [-2.2, 3.2], 'k-')\n",
        "plt.grid(True)\n",
        "plt.title(r\"ELU activation function ($\\alpha=1$)\", fontsize=14)\n",
        "plt.axis([-5, 5, -2.2, 3.2])\n",
        "plt.show()"
      ],
      "execution_count": 19,
      "outputs": [
        {
          "output_type": "display_data",
          "data": {
            "image/png": "[encoded data removed]",
            "text/plain": [
              "<Figure size 432x288 with 1 Axes>"
            ]
          },
          "metadata": {
            "tags": [],
            "needs_background": "light"
          }
        }
      ]
    },
    {
      "cell_type": "markdown",
      "metadata": {
        "id": "dCCBnY75Fe6Z"
      },
      "source": [
        "\n",
        "$\n",
        "ELU_\\alpha(x) = \\left\\{\\begin{split} \\alpha(\\exp(x)-1)& \\quad if \\quad & x < 0 \\\\\n",
        "x & \\quad if \\quad & x \\geq 0 \\\\\n",
        "\\end{split}\\right. \n",
        "$\n"
      ]
    },
    {
      "cell_type": "code",
      "metadata": {
        "id": "ZP1X-_kDFe6Z",
        "colab": {
          "base_uri": "https://localhost:8080/"
        },
        "outputId": "9d36ff6d-3685-4950-eec3-fee9dc52cb1a"
      },
      "source": [
        "keras.layers.Dense(10, activation=\"elu\")"
      ],
      "execution_count": 20,
      "outputs": [
        {
          "output_type": "execute_result",
          "data": {
            "text/plain": [
              "<tensorflow.python.keras.layers.core.Dense at 0x7f7ccf7eb4e0>"
            ]
          },
          "metadata": {
            "tags": []
          },
          "execution_count": 20
        }
      ]
    },
    {
      "cell_type": "markdown",
      "metadata": {
        "id": "v4FVRC6_Fe6Z"
      },
      "source": [
        "### SELU"
      ]
    },
    {
      "cell_type": "markdown",
      "metadata": {
        "id": "yylAgjrsFe6Z"
      },
      "source": [
        "* Esta función de activación se propusó en 2017 [Paper](https://arxiv.org/pdf/1706.02515.pdf) por Günter Klambauer, Thomas Unterthiner y Andreas Mayr. \n",
        "\n",
        "* Garantiza una auto-normalización para modelos secuenciales.\n",
        "\n",
        "\n",
        "$\n",
        "SELU_\\alpha(x) = \\lambda\\left\\{\\begin{split} \\alpha(\\exp(x)-1)& \\quad if \\quad & x < 0 \\\\\n",
        "x & \\quad if \\quad & x \\geq 0 \\\\\n",
        "\\end{split}\\right. \n",
        "$\n"
      ]
    },
    {
      "cell_type": "code",
      "metadata": {
        "id": "7cBfjGa0Fe6Z"
      },
      "source": [
        "from scipy.special import erfc\n",
        "\n",
        "# alpha and scale to self normalize with mean 0 and standard deviation 1\n",
        "# (see equation 14 in the paper):\n",
        "alpha_0_1 = -np.sqrt(2 / np.pi) / (erfc(1/np.sqrt(2)) * np.exp(1/2) - 1)\n",
        "scale_0_1 = (1 - erfc(1 / np.sqrt(2)) * np.sqrt(np.e)) * np.sqrt(2 * np.pi) * (2 * erfc(np.sqrt(2))*np.e**2 + np.pi*erfc(1/np.sqrt(2))**2*np.e - 2*(2+np.pi)*erfc(1/np.sqrt(2))*np.sqrt(np.e)+np.pi+2)**(-1/2)"
      ],
      "execution_count": 21,
      "outputs": []
    },
    {
      "cell_type": "code",
      "metadata": {
        "id": "nxFWm6jqFe6Z"
      },
      "source": [
        "def selu(z, scale=scale_0_1, alpha=alpha_0_1):\n",
        "    return scale * elu(z, alpha)"
      ],
      "execution_count": 22,
      "outputs": []
    },
    {
      "cell_type": "code",
      "metadata": {
        "id": "ateR05y8Fe6Z",
        "colab": {
          "base_uri": "https://localhost:8080/",
          "height": 285
        },
        "outputId": "45535df3-8621-4839-f887-750b6e9db8ec"
      },
      "source": [
        "plt.plot(z, selu(z), \"b-\", linewidth=2)\n",
        "plt.plot([-5, 5], [0, 0], 'k-')\n",
        "plt.plot([-5, 5], [-1.758, -1.758], 'k--')\n",
        "plt.plot([0, 0], [-2.2, 3.2], 'k-')\n",
        "plt.grid(True)\n",
        "plt.title(\"SELU activation function\", fontsize=14)\n",
        "plt.axis([-5, 5, -2.2, 3.2])\n",
        "plt.show()"
      ],
      "execution_count": 23,
      "outputs": [
        {
          "output_type": "display_data",
          "data": {
            "image/png": "[encoded data removed]",
            "text/plain": [
              "<Figure size 432x288 with 1 Axes>"
            ]
          },
          "metadata": {
            "tags": [],
            "needs_background": "light"
          }
        }
      ]
    },
    {
      "cell_type": "markdown",
      "metadata": {
        "id": "LArZ1P84Fe6Z"
      },
      "source": [
        "* En general, los hiperparámetros de SELU ($\\lambda$ y $\\alpha$) se ajustan de tal forma que la salida promedio de cada neurona este cercana a 0, y la desviación estandard cercana a 1 (asumiendo que las entradas se estandarizan de igual  manera). \n",
        "\n",
        "* Para modelos profundos y densos se evita los problemas de vanishing/expoding"
      ]
    },
    {
      "cell_type": "code",
      "metadata": {
        "id": "6vaGZQufFe6Z",
        "colab": {
          "base_uri": "https://localhost:8080/"
        },
        "outputId": "8b179395-d45c-4ac5-bdb7-b06c33e98529"
      },
      "source": [
        "np.random.seed(42)\n",
        "Z = np.random.normal(size=(500, 100)) # standardized inputs\n",
        "for layer in range(1000):\n",
        "    W = np.random.normal(size=(100, 100), scale=np.sqrt(1 / 100)) # LeCun initialization\n",
        "    Z = selu(np.dot(Z, W))\n",
        "    means = np.mean(Z, axis=0).mean()\n",
        "    stds = np.std(Z, axis=0).mean()\n",
        "    if layer % 100 == 0:\n",
        "        print(\"Layer {}: mean {:.2f}, std deviation {:.2f}\".format(layer, means, stds))"
      ],
      "execution_count": 24,
      "outputs": [
        {
          "output_type": "stream",
          "text": [
            "Layer 0: mean -0.00, std deviation 1.00\n",
            "Layer 100: mean 0.02, std deviation 0.96\n",
            "Layer 200: mean 0.01, std deviation 0.90\n",
            "Layer 300: mean -0.02, std deviation 0.92\n",
            "Layer 400: mean 0.05, std deviation 0.89\n",
            "Layer 500: mean 0.01, std deviation 0.93\n",
            "Layer 600: mean 0.02, std deviation 0.92\n",
            "Layer 700: mean -0.02, std deviation 0.90\n",
            "Layer 800: mean 0.05, std deviation 0.83\n",
            "Layer 900: mean 0.02, std deviation 1.00\n"
          ],
          "name": "stdout"
        }
      ]
    },
    {
      "cell_type": "markdown",
      "metadata": {
        "id": "mFGmCmjKFe6Z"
      },
      "source": [
        "Utilizando SELU en  modelos densos:"
      ]
    },
    {
      "cell_type": "code",
      "metadata": {
        "id": "-TtO71xuFe6Z",
        "colab": {
          "base_uri": "https://localhost:8080/"
        },
        "outputId": "5eec967f-eb30-471c-c199-cd59f30a1af4"
      },
      "source": [
        "keras.layers.Dense(10, activation=\"selu\",\n",
        "                   kernel_initializer=\"lecun_normal\")"
      ],
      "execution_count": 25,
      "outputs": [
        {
          "output_type": "execute_result",
          "data": {
            "text/plain": [
              "<tensorflow.python.keras.layers.core.Dense at 0x7f7ccf6d0978>"
            ]
          },
          "metadata": {
            "tags": []
          },
          "execution_count": 25
        }
      ]
    },
    {
      "cell_type": "markdown",
      "metadata": {
        "id": "IvfLPBubFe6a"
      },
      "source": [
        "Probando en Fashion MNIST:"
      ]
    },
    {
      "cell_type": "code",
      "metadata": {
        "id": "B7nOVzwbFe6a"
      },
      "source": [
        "np.random.seed(42)\n",
        "tf.random.set_seed(42)"
      ],
      "execution_count": 26,
      "outputs": []
    },
    {
      "cell_type": "code",
      "metadata": {
        "id": "DwQSjMUhFe6a"
      },
      "source": [
        "model = keras.models.Sequential()\n",
        "model.add(keras.layers.Flatten(input_shape=[28, 28]))\n",
        "model.add(keras.layers.Dense(300, activation=\"selu\",\n",
        "                             kernel_initializer=\"lecun_normal\"))\n",
        "for layer in range(99):\n",
        "    model.add(keras.layers.Dense(100, activation=\"selu\",\n",
        "                                 kernel_initializer=\"lecun_normal\"))\n",
        "model.add(keras.layers.Dense(10, activation=\"softmax\"))"
      ],
      "execution_count": 27,
      "outputs": []
    },
    {
      "cell_type": "code",
      "metadata": {
        "id": "wO730I7yFe6a"
      },
      "source": [
        "model.compile(loss=\"sparse_categorical_crossentropy\",\n",
        "              optimizer=keras.optimizers.SGD(lr=1e-3),\n",
        "              metrics=[\"accuracy\"])"
      ],
      "execution_count": 28,
      "outputs": []
    },
    {
      "cell_type": "markdown",
      "metadata": {
        "id": "yTvdFGqiFe6a"
      },
      "source": [
        "Antes de entrenar recuerde normalizar las entradas a media 0 y std 1:"
      ]
    },
    {
      "cell_type": "code",
      "metadata": {
        "id": "RPYshbyBFe6a"
      },
      "source": [
        "pixel_means = X_train.mean(axis=0, keepdims=True)\n",
        "pixel_stds = X_train.std(axis=0, keepdims=True)\n",
        "X_train_scaled = (X_train - pixel_means) / pixel_stds\n",
        "X_valid_scaled = (X_valid - pixel_means) / pixel_stds\n",
        "X_test_scaled = (X_test - pixel_means) / pixel_stds"
      ],
      "execution_count": 29,
      "outputs": []
    },
    {
      "cell_type": "code",
      "metadata": {
        "id": "Q0e7b2ndFe6a",
        "colab": {
          "base_uri": "https://localhost:8080/"
        },
        "outputId": "f96e8ef4-2f1d-45e2-9b57-9db733158c7f"
      },
      "source": [
        "history = model.fit(X_train_scaled, y_train, epochs=5,\n",
        "                    validation_data=(X_valid_scaled, y_valid))"
      ],
      "execution_count": 30,
      "outputs": [
        {
          "output_type": "stream",
          "text": [
            "Epoch 1/5\n",
            "1719/1719 [==============================] - 19s 11ms/step - loss: 1.3528 - accuracy: 0.4809 - val_loss: 1.2061 - val_accuracy: 0.5448\n",
            "Epoch 2/5\n",
            "1719/1719 [==============================] - 18s 11ms/step - loss: 0.9559 - accuracy: 0.6278 - val_loss: 0.7618 - val_accuracy: 0.7126\n",
            "Epoch 3/5\n",
            "1719/1719 [==============================] - 18s 10ms/step - loss: 0.7271 - accuracy: 0.7231 - val_loss: 0.6875 - val_accuracy: 0.7380\n",
            "Epoch 4/5\n",
            "1719/1719 [==============================] - 18s 10ms/step - loss: 0.6208 - accuracy: 0.7722 - val_loss: 0.5628 - val_accuracy: 0.7954\n",
            "Epoch 5/5\n",
            "1719/1719 [==============================] - 18s 10ms/step - loss: 0.5611 - accuracy: 0.8014 - val_loss: 0.5175 - val_accuracy: 0.8220\n"
          ],
          "name": "stdout"
        }
      ]
    },
    {
      "cell_type": "markdown",
      "metadata": {
        "id": "U1IljELcFe6a"
      },
      "source": [
        "Si se prueba ReLU en vez de SELU:"
      ]
    },
    {
      "cell_type": "code",
      "metadata": {
        "id": "hWvGNT6RFe6a"
      },
      "source": [
        "np.random.seed(42)\n",
        "tf.random.set_seed(42)"
      ],
      "execution_count": 31,
      "outputs": []
    },
    {
      "cell_type": "code",
      "metadata": {
        "id": "faREf8qjFe6a"
      },
      "source": [
        "model = keras.models.Sequential()\n",
        "model.add(keras.layers.Flatten(input_shape=[28, 28]))\n",
        "model.add(keras.layers.Dense(300, activation=\"relu\", kernel_initializer=\"he_normal\"))\n",
        "for layer in range(99):\n",
        "    model.add(keras.layers.Dense(100, activation=\"relu\", kernel_initializer=\"he_normal\"))\n",
        "model.add(keras.layers.Dense(10, activation=\"softmax\"))"
      ],
      "execution_count": 32,
      "outputs": []
    },
    {
      "cell_type": "code",
      "metadata": {
        "id": "ZmW4t9HOFe6a"
      },
      "source": [
        "model.compile(loss=\"sparse_categorical_crossentropy\",\n",
        "              optimizer=keras.optimizers.SGD(lr=1e-3),\n",
        "              metrics=[\"accuracy\"])"
      ],
      "execution_count": 33,
      "outputs": []
    },
    {
      "cell_type": "code",
      "metadata": {
        "id": "xy1rg-wQFe6a",
        "colab": {
          "base_uri": "https://localhost:8080/"
        },
        "outputId": "2a7cc6c3-eaa1-4d32-94a5-13af3e988691"
      },
      "source": [
        "history = model.fit(X_train_scaled, y_train, epochs=5,\n",
        "                    validation_data=(X_valid_scaled, y_valid))"
      ],
      "execution_count": 34,
      "outputs": [
        {
          "output_type": "stream",
          "text": [
            "Epoch 1/5\n",
            "1719/1719 [==============================] - 19s 11ms/step - loss: 1.7818 - accuracy: 0.2725 - val_loss: 1.2527 - val_accuracy: 0.4458\n",
            "Epoch 2/5\n",
            "1719/1719 [==============================] - 18s 11ms/step - loss: 1.1336 - accuracy: 0.5337 - val_loss: 0.9433 - val_accuracy: 0.6416\n",
            "Epoch 3/5\n",
            "1719/1719 [==============================] - 18s 11ms/step - loss: 0.8754 - accuracy: 0.6527 - val_loss: 0.7847 - val_accuracy: 0.6892\n",
            "Epoch 4/5\n",
            "1719/1719 [==============================] - 18s 11ms/step - loss: 0.8052 - accuracy: 0.6863 - val_loss: 1.3040 - val_accuracy: 0.5224\n",
            "Epoch 5/5\n",
            "1719/1719 [==============================] - 18s 11ms/step - loss: 0.6990 - accuracy: 0.7388 - val_loss: 0.6137 - val_accuracy: 0.7760\n"
          ],
          "name": "stdout"
        }
      ]
    },
    {
      "cell_type": "markdown",
      "metadata": {
        "id": "a8K2zcXSFe6a"
      },
      "source": [
        "No tan buen resultado, problemas de vanishing/exploding."
      ]
    },
    {
      "cell_type": "markdown",
      "metadata": {
        "id": "EnCYz7v4cFnp"
      },
      "source": [
        "## Sugerencias:\n",
        "\n",
        "* En general, el ranking de rendimiento es el seguiente: SELU>ELU>leakyReLU>ReLU>tanh>sigmoid.\n",
        "\n",
        "* Si la red esta auto-normalizadas ELU puede rendir más que SELU (SELU no es suave en $x=0$).\n",
        "\n",
        "* Si se requiere buena velocidad de cómputo se sugiere LeakyReLU.\n",
        "\n",
        "* ReLU es la más utilizada por su buen compromiso, muchos aceleradore de cómputo están optimizados para trabajar con esta activación."
      ]
    },
    {
      "cell_type": "markdown",
      "metadata": {
        "id": "lhMqjPkkFe6a"
      },
      "source": [
        "# Normalización por lote\n",
        "## Batch Normalization - BN\n",
        "\n",
        "* Aunque un buen inicializador y una buena función de activación previenen los problemas de vanishing/exploding, al inicio del entrenamiento, durante las iteraciones el vanishing/exploding puede volver!.\n",
        "\n",
        "* En el 2015 [Paper](https://arxiv.org/abs/1502.03167), se propone la técnica Batch Normalization, que consiste en añadir una operación antes y después de cada capa.\n",
        "\n",
        "* La normalización consiste de dos operaciones: escalamiento y traslación (dos nuevos parámetros por aprender en cada capa).\n",
        "\n",
        "* Si la capa BN se añade como primera capa, entonces no es necesario escalar los datos de entrada.\n",
        "\n",
        "* BN evalua la media y std de la entrada a la capa sobre el mini-batch (mini-lote) actual, con base en:\n",
        "\n",
        "\n",
        "$\\mathbf{\\mu}_B = \\frac{1}{N_B}\\sum_{i=1}^{N_B} \\mathbf{x}^{(i)}$\n",
        "\n",
        "$\\mathbf{\\sigma}_B^2 = \\frac{1}{N_B}\\sum_{i=1}^{N_B} (\\mathbf{x}^{(i)}-\\mathbf{\\mu}_B)^2$\n",
        "\n",
        "$\\hat{\\mathbf{x}}^{(i)}= \\frac{\\mathbf{x}^{(i)}-\\mathbf{\\mu}_B}{\\sqrt{\\mathbf{\\sigma}_B^2+\\epsilon}}$\n",
        "\n",
        "$\\mathbf{z}^{(i)}=\\mathbf{\\gamma}\\otimes \\hat{\\mathbf{x}}^{(i)}+\\mathbf{\\beta}$\n",
        "\n",
        "* BN estandariza y luego reescala.\n",
        "\n",
        "* Para datos nuevos se utliza promediado movil durante el entrenamiento.\n",
        "\n",
        "* En resumen se estiman cuatro parámetros: $\\gamma$ (escala), $\\beta$ (traslación) se aprenden por backpropagation, y $\\mu$ (media  final de entrada) y $\\sigma$ (desviación final de entrada) por promediado móvil.\n",
        "\n",
        "* NOTA: $\\mu$ y $\\sigma$ se estiman en entrenamiento pero solo se usen después de entrenar para evaluar datos nuevos.\n",
        "\n",
        "* BN ha mostrado grandes resultados en procesado de imágenes, por ejemplo en ImageNet.\n",
        "\n",
        "* El problema de vanishing se reduce e incluse se pueden utlizar activaciones saturadas como tanh  y sigmoid con BN.\n",
        "\n",
        "* Además, BN es menos sensible a la inicialización de los pesos y  permite usar learning rates más grandes.\n",
        "\n",
        "* BN se puede entender también como un regularizador al escalar y trasladar el flujo de información en la red.\n",
        "\n",
        "* Problema: BN incluye más costo y operaciones en el entrenamiento y evaluación de la red.\n",
        "\n",
        "\n",
        "\n"
      ]
    },
    {
      "cell_type": "code",
      "metadata": {
        "id": "P_iA7Ei3Fe6a"
      },
      "source": [
        "model = keras.models.Sequential([\n",
        "    keras.layers.Flatten(input_shape=[28, 28]),\n",
        "    keras.layers.BatchNormalization(),\n",
        "    keras.layers.Dense(300, activation=\"relu\"),\n",
        "    keras.layers.BatchNormalization(),\n",
        "    keras.layers.Dense(100, activation=\"relu\"),\n",
        "    keras.layers.BatchNormalization(),\n",
        "    keras.layers.Dense(10, activation=\"softmax\")\n",
        "])"
      ],
      "execution_count": 35,
      "outputs": []
    },
    {
      "cell_type": "code",
      "metadata": {
        "id": "W__pQxgfFe6a",
        "colab": {
          "base_uri": "https://localhost:8080/"
        },
        "outputId": "fb59f049-590b-42c3-8473-d9026f830ace"
      },
      "source": [
        "model.summary()"
      ],
      "execution_count": 36,
      "outputs": [
        {
          "output_type": "stream",
          "text": [
            "Model: \"sequential_4\"\n",
            "_________________________________________________________________\n",
            "Layer (type)                 Output Shape              Param #   \n",
            "=================================================================\n",
            "flatten_4 (Flatten)          (None, 784)               0         \n",
            "_________________________________________________________________\n",
            "batch_normalization (BatchNo (None, 784)               3136      \n",
            "_________________________________________________________________\n",
            "dense_212 (Dense)            (None, 300)               235500    \n",
            "_________________________________________________________________\n",
            "batch_normalization_1 (Batch (None, 300)               1200      \n",
            "_________________________________________________________________\n",
            "dense_213 (Dense)            (None, 100)               30100     \n",
            "_________________________________________________________________\n",
            "batch_normalization_2 (Batch (None, 100)               400       \n",
            "_________________________________________________________________\n",
            "dense_214 (Dense)            (None, 10)                1010      \n",
            "=================================================================\n",
            "Total params: 271,346\n",
            "Trainable params: 268,978\n",
            "Non-trainable params: 2,368\n",
            "_________________________________________________________________\n"
          ],
          "name": "stdout"
        }
      ]
    },
    {
      "cell_type": "code",
      "metadata": {
        "id": "qvdqVN5PFe6a",
        "colab": {
          "base_uri": "https://localhost:8080/"
        },
        "outputId": "53b502cf-7399-420d-de8f-616c0830b380"
      },
      "source": [
        "bn1 = model.layers[1]\n",
        "[(var.name, var.trainable) for var in bn1.variables] #parámetros entrenables y no entrenables en BN"
      ],
      "execution_count": 37,
      "outputs": [
        {
          "output_type": "execute_result",
          "data": {
            "text/plain": [
              "[('batch_normalization/gamma:0', True),\n",
              " ('batch_normalization/beta:0', True),\n",
              " ('batch_normalization/moving_mean:0', False),\n",
              " ('batch_normalization/moving_variance:0', False)]"
            ]
          },
          "metadata": {
            "tags": []
          },
          "execution_count": 37
        }
      ]
    },
    {
      "cell_type": "code",
      "metadata": {
        "id": "poqRHZOuFe6a",
        "colab": {
          "base_uri": "https://localhost:8080/"
        },
        "outputId": "56a040fe-e9aa-4d9a-b664-4f534c30426a"
      },
      "source": [
        "bn1.updates #operaciones definidas en keras para promediado movil"
      ],
      "execution_count": 38,
      "outputs": [
        {
          "output_type": "stream",
          "text": [
            "WARNING:tensorflow:From <ipython-input-38-f30621ad82dd>:1: Layer.updates (from tensorflow.python.keras.engine.base_layer) is deprecated and will be removed in a future version.\n",
            "Instructions for updating:\n",
            "This property should not be used in TensorFlow 2.0, as updates are applied automatically.\n"
          ],
          "name": "stdout"
        },
        {
          "output_type": "execute_result",
          "data": {
            "text/plain": [
              "[]"
            ]
          },
          "metadata": {
            "tags": []
          },
          "execution_count": 38
        }
      ]
    },
    {
      "cell_type": "code",
      "metadata": {
        "id": "BlwjfKv0Fe6a"
      },
      "source": [
        "model.compile(loss=\"sparse_categorical_crossentropy\",\n",
        "              optimizer=keras.optimizers.SGD(lr=1e-3),\n",
        "              metrics=[\"accuracy\"])"
      ],
      "execution_count": 39,
      "outputs": []
    },
    {
      "cell_type": "code",
      "metadata": {
        "id": "M1g_StETFe6a",
        "colab": {
          "base_uri": "https://localhost:8080/"
        },
        "outputId": "031ea143-76d3-4577-bea3-48f8ab276d8d"
      },
      "source": [
        "history = model.fit(X_train, y_train, epochs=10,\n",
        "                    validation_data=(X_valid, y_valid))"
      ],
      "execution_count": 40,
      "outputs": [
        {
          "output_type": "stream",
          "text": [
            "Epoch 1/10\n",
            "1719/1719 [==============================] - 6s 4ms/step - loss: 0.8750 - accuracy: 0.7123 - val_loss: 0.5525 - val_accuracy: 0.8228\n",
            "Epoch 2/10\n",
            "1719/1719 [==============================] - 6s 4ms/step - loss: 0.5753 - accuracy: 0.8030 - val_loss: 0.4724 - val_accuracy: 0.8476\n",
            "Epoch 3/10\n",
            "1719/1719 [==============================] - 6s 4ms/step - loss: 0.5189 - accuracy: 0.8206 - val_loss: 0.4375 - val_accuracy: 0.8552\n",
            "Epoch 4/10\n",
            "1719/1719 [==============================] - 6s 4ms/step - loss: 0.4827 - accuracy: 0.8323 - val_loss: 0.4153 - val_accuracy: 0.8600\n",
            "Epoch 5/10\n",
            "1719/1719 [==============================] - 6s 4ms/step - loss: 0.4565 - accuracy: 0.8406 - val_loss: 0.3998 - val_accuracy: 0.8642\n",
            "Epoch 6/10\n",
            "1719/1719 [==============================] - 6s 4ms/step - loss: 0.4398 - accuracy: 0.8471 - val_loss: 0.3868 - val_accuracy: 0.8696\n",
            "Epoch 7/10\n",
            "1719/1719 [==============================] - 6s 4ms/step - loss: 0.4242 - accuracy: 0.8511 - val_loss: 0.3763 - val_accuracy: 0.8708\n",
            "Epoch 8/10\n",
            "1719/1719 [==============================] - 6s 4ms/step - loss: 0.4144 - accuracy: 0.8541 - val_loss: 0.3712 - val_accuracy: 0.8738\n",
            "Epoch 9/10\n",
            "1719/1719 [==============================] - 6s 4ms/step - loss: 0.4024 - accuracy: 0.8582 - val_loss: 0.3631 - val_accuracy: 0.8754\n",
            "Epoch 10/10\n",
            "1719/1719 [==============================] - 6s 4ms/step - loss: 0.3914 - accuracy: 0.8623 - val_loss: 0.3572 - val_accuracy: 0.8760\n"
          ],
          "name": "stdout"
        }
      ]
    },
    {
      "cell_type": "markdown",
      "metadata": {
        "id": "uWpAmDy5Fe6a"
      },
      "source": [
        "* En algunos casos se sugiere incluir BN antes de las funciones de activación (no hay evidencia completa al respecto).\n",
        "\n",
        "* La capa antes de BN no necesita el bias dado que el BN lo incluye"
      ]
    },
    {
      "cell_type": "code",
      "metadata": {
        "id": "EZQTO_dIFe6a"
      },
      "source": [
        "model = keras.models.Sequential([\n",
        "    keras.layers.Flatten(input_shape=[28, 28]),\n",
        "    keras.layers.BatchNormalization(),\n",
        "    keras.layers.Dense(300, use_bias=False),\n",
        "    keras.layers.BatchNormalization(),\n",
        "    keras.layers.Activation(\"relu\"),\n",
        "    keras.layers.Dense(100, use_bias=False),\n",
        "    keras.layers.BatchNormalization(),\n",
        "    keras.layers.Activation(\"relu\"),\n",
        "    keras.layers.Dense(10, activation=\"softmax\")\n",
        "])"
      ],
      "execution_count": 41,
      "outputs": []
    },
    {
      "cell_type": "code",
      "metadata": {
        "id": "IHeWxOR_Fe6a"
      },
      "source": [
        "model.compile(loss=\"sparse_categorical_crossentropy\",\n",
        "              optimizer=keras.optimizers.SGD(lr=1e-3),\n",
        "              metrics=[\"accuracy\"])"
      ],
      "execution_count": 42,
      "outputs": []
    },
    {
      "cell_type": "code",
      "metadata": {
        "id": "-Qi8k0McFe6b",
        "colab": {
          "base_uri": "https://localhost:8080/"
        },
        "outputId": "661689c4-f5cc-46f3-cb9f-9c13af66bae3"
      },
      "source": [
        "history = model.fit(X_train, y_train, epochs=10,\n",
        "                    validation_data=(X_valid, y_valid))"
      ],
      "execution_count": 43,
      "outputs": [
        {
          "output_type": "stream",
          "text": [
            "Epoch 1/10\n",
            "1719/1719 [==============================] - 6s 4ms/step - loss: 1.0317 - accuracy: 0.6757 - val_loss: 0.6767 - val_accuracy: 0.7810\n",
            "Epoch 2/10\n",
            "1719/1719 [==============================] - 6s 4ms/step - loss: 0.6790 - accuracy: 0.7793 - val_loss: 0.5566 - val_accuracy: 0.8180\n",
            "Epoch 3/10\n",
            "1719/1719 [==============================] - 7s 4ms/step - loss: 0.5960 - accuracy: 0.8037 - val_loss: 0.5007 - val_accuracy: 0.8360\n",
            "Epoch 4/10\n",
            "1719/1719 [==============================] - 7s 4ms/step - loss: 0.5447 - accuracy: 0.8192 - val_loss: 0.4666 - val_accuracy: 0.8446\n",
            "Epoch 5/10\n",
            "1719/1719 [==============================] - 6s 4ms/step - loss: 0.5109 - accuracy: 0.8280 - val_loss: 0.4433 - val_accuracy: 0.8534\n",
            "Epoch 6/10\n",
            "1719/1719 [==============================] - 6s 4ms/step - loss: 0.4898 - accuracy: 0.8338 - val_loss: 0.4263 - val_accuracy: 0.8550\n",
            "Epoch 7/10\n",
            "1719/1719 [==============================] - 6s 4ms/step - loss: 0.4712 - accuracy: 0.8395 - val_loss: 0.4130 - val_accuracy: 0.8564\n",
            "Epoch 8/10\n",
            "1719/1719 [==============================] - 6s 4ms/step - loss: 0.4560 - accuracy: 0.8440 - val_loss: 0.4035 - val_accuracy: 0.8608\n",
            "Epoch 9/10\n",
            "1719/1719 [==============================] - 6s 4ms/step - loss: 0.4441 - accuracy: 0.8475 - val_loss: 0.3943 - val_accuracy: 0.8638\n",
            "Epoch 10/10\n",
            "1719/1719 [==============================] - 6s 4ms/step - loss: 0.4332 - accuracy: 0.8504 - val_loss: 0.3875 - val_accuracy: 0.8662\n"
          ],
          "name": "stdout"
        }
      ]
    },
    {
      "cell_type": "code",
      "metadata": {
        "id": "m8vzgQo7HfyA"
      },
      "source": [
        ""
      ],
      "execution_count": 43,
      "outputs": []
    },
    {
      "cell_type": "markdown",
      "metadata": {
        "id": "24Im4o78Fe6b"
      },
      "source": [
        "# Recorte del gradiente\n",
        "## Gradient Clipping\n",
        "\n",
        "* Para evitar el problema de exploding se recorta (clip) el gradiente para que no supere un umbral dado.\n",
        "\n",
        "* Método muy utilizado en modelos recurrentes.\n",
        "\n",
        "* BN dificil de acoplar en RNN (escaldo y traslación de series temporales)\n",
        "\n",
        "* Para evitar problemas de dirección, se sugiere trabajar con recorte por umbral sobre la norma del gradiente y no sobre los valores puntuales del mismo."
      ]
    },
    {
      "cell_type": "markdown",
      "metadata": {
        "id": "p1tvgtIjFe6b"
      },
      "source": [
        "Los optimizadores de keras incluyen `clipnorm` y `clipvalue`:"
      ]
    },
    {
      "cell_type": "code",
      "metadata": {
        "id": "NGKBEqWVFe6b"
      },
      "source": [
        "optimizer = keras.optimizers.SGD(clipvalue=1.0)"
      ],
      "execution_count": 44,
      "outputs": []
    },
    {
      "cell_type": "code",
      "metadata": {
        "id": "XWx4oNm8Fe6b"
      },
      "source": [
        "optimizer = keras.optimizers.SGD(clipnorm=1.0)"
      ],
      "execution_count": 45,
      "outputs": []
    },
    {
      "cell_type": "markdown",
      "metadata": {
        "id": "zIDL9Of9Fe6b"
      },
      "source": [
        "# Reutilizar redes pre-entrenadas para evitar sobreajuste y problemas de convergencia (transfer  learning)\n"
      ]
    },
    {
      "cell_type": "code",
      "metadata": {
        "id": "YEfkHHukFe6b"
      },
      "source": [
        "def split_dataset(X, y): # particionar Fashion MNIST \n",
        "    y_5_or_6 = (y == 5) | (y == 6) # sandals or shirts\n",
        "    y_A = y[~y_5_or_6]\n",
        "    y_A[y_A > 6] -= 2 # class indices 7, 8, 9 should be moved to 5, 6, 7\n",
        "    y_B = (y[y_5_or_6] == 6).astype(np.float32) # binary classification task: is it a shirt (class 6)?\n",
        "    return ((X[~y_5_or_6], y_A),\n",
        "            (X[y_5_or_6], y_B))\n",
        "\n",
        "(X_train_A, y_train_A), (X_train_B, y_train_B) = split_dataset(X_train, y_train)\n",
        "(X_valid_A, y_valid_A), (X_valid_B, y_valid_B) = split_dataset(X_valid, y_valid)\n",
        "(X_test_A, y_test_A), (X_test_B, y_test_B) = split_dataset(X_test, y_test)\n",
        "X_train_B = X_train_B[:200]\n",
        "y_train_B = y_train_B[:200]"
      ],
      "execution_count": 46,
      "outputs": []
    },
    {
      "cell_type": "code",
      "metadata": {
        "id": "VQrLHPVgFe6b",
        "colab": {
          "base_uri": "https://localhost:8080/"
        },
        "outputId": "879259ae-0b7d-4a63-e8ea-5af33592aa82"
      },
      "source": [
        "X_train_A.shape"
      ],
      "execution_count": 47,
      "outputs": [
        {
          "output_type": "execute_result",
          "data": {
            "text/plain": [
              "(43986, 28, 28)"
            ]
          },
          "metadata": {
            "tags": []
          },
          "execution_count": 47
        }
      ]
    },
    {
      "cell_type": "code",
      "metadata": {
        "id": "QrJK_CjQFe6b",
        "colab": {
          "base_uri": "https://localhost:8080/"
        },
        "outputId": "6f8e70ad-b9af-4321-d2a2-db5bb0736a28"
      },
      "source": [
        "X_train_B.shape"
      ],
      "execution_count": 48,
      "outputs": [
        {
          "output_type": "execute_result",
          "data": {
            "text/plain": [
              "(200, 28, 28)"
            ]
          },
          "metadata": {
            "tags": []
          },
          "execution_count": 48
        }
      ]
    },
    {
      "cell_type": "code",
      "metadata": {
        "id": "fOZRxz0DFe6b",
        "colab": {
          "base_uri": "https://localhost:8080/"
        },
        "outputId": "e1b973a3-9e48-4d4f-b9ec-3edbf249500c"
      },
      "source": [
        "y_train_A[:30]\n"
      ],
      "execution_count": 49,
      "outputs": [
        {
          "output_type": "execute_result",
          "data": {
            "text/plain": [
              "array([4, 0, 5, 7, 7, 7, 4, 4, 3, 4, 0, 1, 6, 3, 4, 3, 2, 6, 5, 3, 4, 5,\n",
              "       1, 3, 4, 2, 0, 6, 7, 1], dtype=uint8)"
            ]
          },
          "metadata": {
            "tags": []
          },
          "execution_count": 49
        }
      ]
    },
    {
      "cell_type": "code",
      "metadata": {
        "id": "bdvPmHCvFe6b",
        "colab": {
          "base_uri": "https://localhost:8080/"
        },
        "outputId": "08bfdd1a-5f22-4839-92a9-bcdd1cd4f4fa"
      },
      "source": [
        "y_train_B[:30]"
      ],
      "execution_count": 50,
      "outputs": [
        {
          "output_type": "execute_result",
          "data": {
            "text/plain": [
              "array([1., 1., 0., 0., 0., 0., 1., 1., 1., 0., 0., 1., 1., 0., 0., 0., 0.,\n",
              "       0., 0., 1., 1., 0., 0., 1., 1., 0., 1., 1., 1., 1.], dtype=float32)"
            ]
          },
          "metadata": {
            "tags": []
          },
          "execution_count": 50
        }
      ]
    },
    {
      "cell_type": "code",
      "metadata": {
        "colab": {
          "base_uri": "https://localhost:8080/"
        },
        "id": "X7ICsR8HI1QL",
        "outputId": "47242ed4-c784-4659-e10a-82986af8fccd"
      },
      "source": [
        "print(np.unique(y_train_A),np.unique(y_train_B))"
      ],
      "execution_count": 51,
      "outputs": [
        {
          "output_type": "stream",
          "text": [
            "[0 1 2 3 4 5 6 7] [0. 1.]\n"
          ],
          "name": "stdout"
        }
      ]
    },
    {
      "cell_type": "code",
      "metadata": {
        "id": "60jMvG-nFe6b"
      },
      "source": [
        "tf.random.set_seed(42)\n",
        "np.random.seed(42)"
      ],
      "execution_count": 52,
      "outputs": []
    },
    {
      "cell_type": "code",
      "metadata": {
        "id": "hllPs2PeFe6b"
      },
      "source": [
        "model_A = keras.models.Sequential()\n",
        "model_A.add(keras.layers.Flatten(input_shape=[28, 28]))\n",
        "for n_hidden in (300, 100, 50, 50, 50):\n",
        "    model_A.add(keras.layers.Dense(n_hidden, activation=\"selu\"))\n",
        "model_A.add(keras.layers.Dense(8, activation=\"softmax\"))"
      ],
      "execution_count": 53,
      "outputs": []
    },
    {
      "cell_type": "code",
      "metadata": {
        "id": "h4u8F960Fe6b"
      },
      "source": [
        "model_A.compile(loss=\"sparse_categorical_crossentropy\",\n",
        "                optimizer=keras.optimizers.SGD(lr=1e-3),\n",
        "                metrics=[\"accuracy\"])"
      ],
      "execution_count": 54,
      "outputs": []
    },
    {
      "cell_type": "code",
      "metadata": {
        "id": "b45VsyRcFe6b",
        "colab": {
          "base_uri": "https://localhost:8080/"
        },
        "outputId": "58d681c1-d5d7-4868-c18d-853e20070a1b"
      },
      "source": [
        "history = model_A.fit(X_train_A, y_train_A, epochs=20,\n",
        "                    validation_data=(X_valid_A, y_valid_A))"
      ],
      "execution_count": 55,
      "outputs": [
        {
          "output_type": "stream",
          "text": [
            "Epoch 1/20\n",
            "1375/1375 [==============================] - 4s 3ms/step - loss: 0.5927 - accuracy: 0.8103 - val_loss: 0.3894 - val_accuracy: 0.8662\n",
            "Epoch 2/20\n",
            "1375/1375 [==============================] - 3s 3ms/step - loss: 0.3523 - accuracy: 0.8786 - val_loss: 0.3289 - val_accuracy: 0.8827\n",
            "Epoch 3/20\n",
            "1375/1375 [==============================] - 3s 3ms/step - loss: 0.3170 - accuracy: 0.8895 - val_loss: 0.3013 - val_accuracy: 0.8989\n",
            "Epoch 4/20\n",
            "1375/1375 [==============================] - 4s 3ms/step - loss: 0.2974 - accuracy: 0.8974 - val_loss: 0.2896 - val_accuracy: 0.9018\n",
            "Epoch 5/20\n",
            "1375/1375 [==============================] - 3s 3ms/step - loss: 0.2835 - accuracy: 0.9019 - val_loss: 0.2774 - val_accuracy: 0.9063\n",
            "Epoch 6/20\n",
            "1375/1375 [==============================] - 4s 3ms/step - loss: 0.2730 - accuracy: 0.9060 - val_loss: 0.2734 - val_accuracy: 0.9071\n",
            "Epoch 7/20\n",
            "1375/1375 [==============================] - 4s 3ms/step - loss: 0.2642 - accuracy: 0.9092 - val_loss: 0.2721 - val_accuracy: 0.9088\n",
            "Epoch 8/20\n",
            "1375/1375 [==============================] - 3s 3ms/step - loss: 0.2573 - accuracy: 0.9126 - val_loss: 0.2590 - val_accuracy: 0.9141\n",
            "Epoch 9/20\n",
            "1375/1375 [==============================] - 4s 3ms/step - loss: 0.2519 - accuracy: 0.9136 - val_loss: 0.2562 - val_accuracy: 0.9143\n",
            "Epoch 10/20\n",
            "1375/1375 [==============================] - 3s 3ms/step - loss: 0.2469 - accuracy: 0.9153 - val_loss: 0.2541 - val_accuracy: 0.9160\n",
            "Epoch 11/20\n",
            "1375/1375 [==============================] - 4s 3ms/step - loss: 0.2423 - accuracy: 0.9177 - val_loss: 0.2496 - val_accuracy: 0.9153\n",
            "Epoch 12/20\n",
            "1375/1375 [==============================] - 3s 3ms/step - loss: 0.2382 - accuracy: 0.9186 - val_loss: 0.2513 - val_accuracy: 0.9126\n",
            "Epoch 13/20\n",
            "1375/1375 [==============================] - 4s 3ms/step - loss: 0.2350 - accuracy: 0.9198 - val_loss: 0.2445 - val_accuracy: 0.9153\n",
            "Epoch 14/20\n",
            "1375/1375 [==============================] - 4s 3ms/step - loss: 0.2315 - accuracy: 0.9213 - val_loss: 0.2415 - val_accuracy: 0.9168\n",
            "Epoch 15/20\n",
            "1375/1375 [==============================] - 4s 3ms/step - loss: 0.2287 - accuracy: 0.9213 - val_loss: 0.2443 - val_accuracy: 0.9188\n",
            "Epoch 16/20\n",
            "1375/1375 [==============================] - 3s 3ms/step - loss: 0.2254 - accuracy: 0.9221 - val_loss: 0.2386 - val_accuracy: 0.9193\n",
            "Epoch 17/20\n",
            "1375/1375 [==============================] - 3s 3ms/step - loss: 0.2230 - accuracy: 0.9234 - val_loss: 0.2407 - val_accuracy: 0.9175\n",
            "Epoch 18/20\n",
            "1375/1375 [==============================] - 4s 3ms/step - loss: 0.2201 - accuracy: 0.9245 - val_loss: 0.2428 - val_accuracy: 0.9158\n",
            "Epoch 19/20\n",
            "1375/1375 [==============================] - 4s 3ms/step - loss: 0.2178 - accuracy: 0.9254 - val_loss: 0.2331 - val_accuracy: 0.9200\n",
            "Epoch 20/20\n",
            "1375/1375 [==============================] - 4s 3ms/step - loss: 0.2156 - accuracy: 0.9260 - val_loss: 0.2333 - val_accuracy: 0.9205\n"
          ],
          "name": "stdout"
        }
      ]
    },
    {
      "cell_type": "code",
      "metadata": {
        "id": "pMGQ83DgFe6b"
      },
      "source": [
        "model_A.save(\"my_model_A.h5\")"
      ],
      "execution_count": 56,
      "outputs": []
    },
    {
      "cell_type": "code",
      "metadata": {
        "id": "gKmgd5jIFe6b"
      },
      "source": [
        "model_B = keras.models.Sequential()\n",
        "model_B.add(keras.layers.Flatten(input_shape=[28, 28]))\n",
        "for n_hidden in (300, 100, 50, 50, 50):\n",
        "    model_B.add(keras.layers.Dense(n_hidden, activation=\"selu\"))\n",
        "model_B.add(keras.layers.Dense(1, activation=\"sigmoid\"))"
      ],
      "execution_count": 57,
      "outputs": []
    },
    {
      "cell_type": "code",
      "metadata": {
        "id": "V1QpnIhVFe6b"
      },
      "source": [
        "model_B.compile(loss=\"binary_crossentropy\",\n",
        "                optimizer=keras.optimizers.SGD(lr=1e-3),\n",
        "                metrics=[\"accuracy\"])"
      ],
      "execution_count": 58,
      "outputs": []
    },
    {
      "cell_type": "code",
      "metadata": {
        "id": "5gfVpyxBFe6b",
        "colab": {
          "base_uri": "https://localhost:8080/"
        },
        "outputId": "2b245ef6-e3c1-4468-a68c-7baac94403bc"
      },
      "source": [
        "history = model_B.fit(X_train_B, y_train_B, epochs=20,\n",
        "                      validation_data=(X_valid_B, y_valid_B))"
      ],
      "execution_count": 59,
      "outputs": [
        {
          "output_type": "stream",
          "text": [
            "Epoch 1/20\n",
            "7/7 [==============================] - 0s 31ms/step - loss: 0.9573 - accuracy: 0.4650 - val_loss: 0.6314 - val_accuracy: 0.6004\n",
            "Epoch 2/20\n",
            "7/7 [==============================] - 0s 12ms/step - loss: 0.5692 - accuracy: 0.7450 - val_loss: 0.4784 - val_accuracy: 0.8529\n",
            "Epoch 3/20\n",
            "7/7 [==============================] - 0s 13ms/step - loss: 0.4503 - accuracy: 0.8650 - val_loss: 0.4102 - val_accuracy: 0.8945\n",
            "Epoch 4/20\n",
            "7/7 [==============================] - 0s 13ms/step - loss: 0.3879 - accuracy: 0.8950 - val_loss: 0.3647 - val_accuracy: 0.9178\n",
            "Epoch 5/20\n",
            "7/7 [==============================] - 0s 12ms/step - loss: 0.3435 - accuracy: 0.9250 - val_loss: 0.3300 - val_accuracy: 0.9320\n",
            "Epoch 6/20\n",
            "7/7 [==============================] - 0s 12ms/step - loss: 0.3081 - accuracy: 0.9300 - val_loss: 0.3019 - val_accuracy: 0.9402\n",
            "Epoch 7/20\n",
            "7/7 [==============================] - 0s 14ms/step - loss: 0.2800 - accuracy: 0.9350 - val_loss: 0.2804 - val_accuracy: 0.9422\n",
            "Epoch 8/20\n",
            "7/7 [==============================] - 0s 12ms/step - loss: 0.2564 - accuracy: 0.9450 - val_loss: 0.2606 - val_accuracy: 0.9473\n",
            "Epoch 9/20\n",
            "7/7 [==============================] - 0s 12ms/step - loss: 0.2362 - accuracy: 0.9550 - val_loss: 0.2428 - val_accuracy: 0.9523\n",
            "Epoch 10/20\n",
            "7/7 [==============================] - 0s 12ms/step - loss: 0.2188 - accuracy: 0.9600 - val_loss: 0.2281 - val_accuracy: 0.9544\n",
            "Epoch 11/20\n",
            "7/7 [==============================] - 0s 12ms/step - loss: 0.2036 - accuracy: 0.9700 - val_loss: 0.2150 - val_accuracy: 0.9584\n",
            "Epoch 12/20\n",
            "7/7 [==============================] - 0s 13ms/step - loss: 0.1898 - accuracy: 0.9700 - val_loss: 0.2036 - val_accuracy: 0.9584\n",
            "Epoch 13/20\n",
            "7/7 [==============================] - 0s 12ms/step - loss: 0.1773 - accuracy: 0.9750 - val_loss: 0.1931 - val_accuracy: 0.9615\n",
            "Epoch 14/20\n",
            "7/7 [==============================] - 0s 12ms/step - loss: 0.1668 - accuracy: 0.9800 - val_loss: 0.1838 - val_accuracy: 0.9635\n",
            "Epoch 15/20\n",
            "7/7 [==============================] - 0s 12ms/step - loss: 0.1570 - accuracy: 0.9900 - val_loss: 0.1746 - val_accuracy: 0.9686\n",
            "Epoch 16/20\n",
            "7/7 [==============================] - 0s 12ms/step - loss: 0.1481 - accuracy: 0.9900 - val_loss: 0.1674 - val_accuracy: 0.9686\n",
            "Epoch 17/20\n",
            "7/7 [==============================] - 0s 12ms/step - loss: 0.1406 - accuracy: 0.9900 - val_loss: 0.1604 - val_accuracy: 0.9706\n",
            "Epoch 18/20\n",
            "7/7 [==============================] - 0s 12ms/step - loss: 0.1334 - accuracy: 0.9900 - val_loss: 0.1539 - val_accuracy: 0.9706\n",
            "Epoch 19/20\n",
            "7/7 [==============================] - 0s 12ms/step - loss: 0.1268 - accuracy: 0.9900 - val_loss: 0.1482 - val_accuracy: 0.9716\n",
            "Epoch 20/20\n",
            "7/7 [==============================] - 0s 13ms/step - loss: 0.1208 - accuracy: 0.9900 - val_loss: 0.1431 - val_accuracy: 0.9716\n"
          ],
          "name": "stdout"
        }
      ]
    },
    {
      "cell_type": "code",
      "metadata": {
        "id": "4HCP__CjFe6c",
        "colab": {
          "base_uri": "https://localhost:8080/"
        },
        "outputId": "d71cd4b7-1360-4635-a496-cfa3eb4317e2"
      },
      "source": [
        "model.summary()"
      ],
      "execution_count": 60,
      "outputs": [
        {
          "output_type": "stream",
          "text": [
            "Model: \"sequential_5\"\n",
            "_________________________________________________________________\n",
            "Layer (type)                 Output Shape              Param #   \n",
            "=================================================================\n",
            "flatten_5 (Flatten)          (None, 784)               0         \n",
            "_________________________________________________________________\n",
            "batch_normalization_3 (Batch (None, 784)               3136      \n",
            "_________________________________________________________________\n",
            "dense_215 (Dense)            (None, 300)               235200    \n",
            "_________________________________________________________________\n",
            "batch_normalization_4 (Batch (None, 300)               1200      \n",
            "_________________________________________________________________\n",
            "activation (Activation)      (None, 300)               0         \n",
            "_________________________________________________________________\n",
            "dense_216 (Dense)            (None, 100)               30000     \n",
            "_________________________________________________________________\n",
            "batch_normalization_5 (Batch (None, 100)               400       \n",
            "_________________________________________________________________\n",
            "activation_1 (Activation)    (None, 100)               0         \n",
            "_________________________________________________________________\n",
            "dense_217 (Dense)            (None, 10)                1010      \n",
            "=================================================================\n",
            "Total params: 270,946\n",
            "Trainable params: 268,578\n",
            "Non-trainable params: 2,368\n",
            "_________________________________________________________________\n"
          ],
          "name": "stdout"
        }
      ]
    },
    {
      "cell_type": "code",
      "metadata": {
        "id": "8X2klhcgFe6c"
      },
      "source": [
        "model_A = keras.models.load_model(\"my_model_A.h5\")\n",
        "model_B_on_A = keras.models.Sequential(model_A.layers[:-1])\n",
        "model_B_on_A.add(keras.layers.Dense(1, activation=\"sigmoid\"))"
      ],
      "execution_count": 61,
      "outputs": []
    },
    {
      "cell_type": "code",
      "metadata": {
        "id": "b5kIlVqGFe6c"
      },
      "source": [
        "model_A_clone = keras.models.clone_model(model_A)\n",
        "model_A_clone.set_weights(model_A.get_weights())"
      ],
      "execution_count": 62,
      "outputs": []
    },
    {
      "cell_type": "code",
      "metadata": {
        "id": "z6FmMPGPFe6c"
      },
      "source": [
        "for layer in model_B_on_A.layers[:-1]: #definir capas no entrenables\n",
        "    layer.trainable = False\n",
        "\n",
        "model_B_on_A.compile(loss=\"binary_crossentropy\",\n",
        "                     optimizer=keras.optimizers.SGD(lr=1e-3),\n",
        "                     metrics=[\"accuracy\"])"
      ],
      "execution_count": 63,
      "outputs": []
    },
    {
      "cell_type": "code",
      "metadata": {
        "id": "BzkMz_CoFe6c",
        "colab": {
          "base_uri": "https://localhost:8080/"
        },
        "outputId": "06542128-a1e9-4413-96a6-1424348029d2"
      },
      "source": [
        "history = model_B_on_A.fit(X_train_B, y_train_B, epochs=4,\n",
        "                           validation_data=(X_valid_B, y_valid_B))\n",
        "\n",
        "for layer in model_B_on_A.layers[:-1]:\n",
        "    layer.trainable = True\n",
        "\n",
        "model_B_on_A.compile(loss=\"binary_crossentropy\",\n",
        "                     optimizer=keras.optimizers.SGD(lr=1e-3),\n",
        "                     metrics=[\"accuracy\"])\n",
        "history = model_B_on_A.fit(X_train_B, y_train_B, epochs=16,\n",
        "                           validation_data=(X_valid_B, y_valid_B))"
      ],
      "execution_count": 64,
      "outputs": [
        {
          "output_type": "stream",
          "text": [
            "Epoch 1/4\n",
            "7/7 [==============================] - 0s 29ms/step - loss: 0.5785 - accuracy: 0.6500 - val_loss: 0.5829 - val_accuracy: 0.6349\n",
            "Epoch 2/4\n",
            "7/7 [==============================] - 0s 13ms/step - loss: 0.5420 - accuracy: 0.6800 - val_loss: 0.5455 - val_accuracy: 0.6805\n",
            "Epoch 3/4\n",
            "7/7 [==============================] - 0s 13ms/step - loss: 0.5052 - accuracy: 0.7250 - val_loss: 0.5134 - val_accuracy: 0.7120\n",
            "Epoch 4/4\n",
            "7/7 [==============================] - 0s 13ms/step - loss: 0.4737 - accuracy: 0.7450 - val_loss: 0.4848 - val_accuracy: 0.7353\n",
            "Epoch 1/16\n",
            "7/7 [==============================] - 0s 28ms/step - loss: 0.3954 - accuracy: 0.8150 - val_loss: 0.3456 - val_accuracy: 0.8661\n",
            "Epoch 2/16\n",
            "7/7 [==============================] - 0s 12ms/step - loss: 0.2794 - accuracy: 0.9350 - val_loss: 0.2601 - val_accuracy: 0.9290\n",
            "Epoch 3/16\n",
            "7/7 [==============================] - 0s 13ms/step - loss: 0.2081 - accuracy: 0.9650 - val_loss: 0.2109 - val_accuracy: 0.9554\n",
            "Epoch 4/16\n",
            "7/7 [==============================] - 0s 12ms/step - loss: 0.1668 - accuracy: 0.9800 - val_loss: 0.1789 - val_accuracy: 0.9696\n",
            "Epoch 5/16\n",
            "7/7 [==============================] - 0s 12ms/step - loss: 0.1396 - accuracy: 0.9800 - val_loss: 0.1560 - val_accuracy: 0.9767\n",
            "Epoch 6/16\n",
            "7/7 [==============================] - 0s 12ms/step - loss: 0.1196 - accuracy: 0.9950 - val_loss: 0.1392 - val_accuracy: 0.9797\n",
            "Epoch 7/16\n",
            "7/7 [==============================] - 0s 12ms/step - loss: 0.1049 - accuracy: 0.9950 - val_loss: 0.1265 - val_accuracy: 0.9848\n",
            "Epoch 8/16\n",
            "7/7 [==============================] - 0s 12ms/step - loss: 0.0936 - accuracy: 1.0000 - val_loss: 0.1162 - val_accuracy: 0.9858\n",
            "Epoch 9/16\n",
            "7/7 [==============================] - 0s 12ms/step - loss: 0.0846 - accuracy: 1.0000 - val_loss: 0.1065 - val_accuracy: 0.9888\n",
            "Epoch 10/16\n",
            "7/7 [==============================] - 0s 12ms/step - loss: 0.0762 - accuracy: 1.0000 - val_loss: 0.0999 - val_accuracy: 0.9899\n",
            "Epoch 11/16\n",
            "7/7 [==============================] - 0s 12ms/step - loss: 0.0703 - accuracy: 1.0000 - val_loss: 0.0939 - val_accuracy: 0.9899\n",
            "Epoch 12/16\n",
            "7/7 [==============================] - 0s 12ms/step - loss: 0.0649 - accuracy: 1.0000 - val_loss: 0.0887 - val_accuracy: 0.9899\n",
            "Epoch 13/16\n",
            "7/7 [==============================] - 0s 12ms/step - loss: 0.0602 - accuracy: 1.0000 - val_loss: 0.0838 - val_accuracy: 0.9899\n",
            "Epoch 14/16\n",
            "7/7 [==============================] - 0s 13ms/step - loss: 0.0559 - accuracy: 1.0000 - val_loss: 0.0802 - val_accuracy: 0.9899\n",
            "Epoch 15/16\n",
            "7/7 [==============================] - 0s 12ms/step - loss: 0.0525 - accuracy: 1.0000 - val_loss: 0.0768 - val_accuracy: 0.9899\n",
            "Epoch 16/16\n",
            "7/7 [==============================] - 0s 12ms/step - loss: 0.0496 - accuracy: 1.0000 - val_loss: 0.0738 - val_accuracy: 0.9899\n"
          ],
          "name": "stdout"
        }
      ]
    },
    {
      "cell_type": "markdown",
      "metadata": {
        "id": "Ne_M5LHtFe6c"
      },
      "source": [
        "Evaluaciones:"
      ]
    },
    {
      "cell_type": "code",
      "metadata": {
        "id": "h0BUdT9bFe6c",
        "colab": {
          "base_uri": "https://localhost:8080/"
        },
        "outputId": "f4f14af4-fcb3-49e6-fe25-e689c0645cb4"
      },
      "source": [
        "model_B.evaluate(X_test_B, y_test_B)"
      ],
      "execution_count": 65,
      "outputs": [
        {
          "output_type": "stream",
          "text": [
            "63/63 [==============================] - 0s 2ms/step - loss: 0.1408 - accuracy: 0.9705\n"
          ],
          "name": "stdout"
        },
        {
          "output_type": "execute_result",
          "data": {
            "text/plain": [
              "[0.1408407837152481, 0.9704999923706055]"
            ]
          },
          "metadata": {
            "tags": []
          },
          "execution_count": 65
        }
      ]
    },
    {
      "cell_type": "code",
      "metadata": {
        "id": "wF1JPr6QFe6c",
        "colab": {
          "base_uri": "https://localhost:8080/"
        },
        "outputId": "fc9b0dea-9920-4536-a8c1-834770beada3"
      },
      "source": [
        "model_B_on_A.evaluate(X_test_B, y_test_B)"
      ],
      "execution_count": 66,
      "outputs": [
        {
          "output_type": "stream",
          "text": [
            "63/63 [==============================] - 0s 2ms/step - loss: 0.0682 - accuracy: 0.9930\n"
          ],
          "name": "stdout"
        },
        {
          "output_type": "execute_result",
          "data": {
            "text/plain": [
              "[0.06819140166044235, 0.9929999709129333]"
            ]
          },
          "metadata": {
            "tags": []
          },
          "execution_count": 66
        }
      ]
    },
    {
      "cell_type": "markdown",
      "metadata": {
        "id": "3eLK2IvsFe6c"
      },
      "source": [
        "Se obtiene  una mejora!"
      ]
    },
    {
      "cell_type": "code",
      "metadata": {
        "id": "aVCWChw0Fe6c",
        "colab": {
          "base_uri": "https://localhost:8080/"
        },
        "outputId": "9326e180-51cd-47cf-d573-6f3f202f99c3"
      },
      "source": [
        "(100 - 96.95) / (100 - 99.25)"
      ],
      "execution_count": 67,
      "outputs": [
        {
          "output_type": "execute_result",
          "data": {
            "text/plain": [
              "4.066666666666663"
            ]
          },
          "metadata": {
            "tags": []
          },
          "execution_count": 67
        }
      ]
    },
    {
      "cell_type": "markdown",
      "metadata": {
        "id": "M3vJWIdcFe6c"
      },
      "source": [
        "# Optimizadores\n",
        "\n",
        "* Gradiente  descendiente:\n",
        "\n",
        "$$\\theta \\leftarrow \\theta -\\eta \\nabla_\\theta J(\\theta)$$\n",
        "\n",
        "* Momentum: considera gradientes previos\n",
        "\n",
        "$$m  \\leftarrow \\beta m - \\nabla_\\theta J(\\theta)$$\n",
        "\n",
        "$$\\theta \\leftarrow \\theta + m $$\n",
        "\n",
        "$\\beta$: hiperparámetro momentum\n",
        "\n",
        "\n",
        "* Los algoritmos basados en momentum añaden mayor velocidad de \n",
        "convergencia.\n",
        "\n",
        "* En keras el optimizador SGD permite incluir el hiperparámetro de momentum.\n",
        "\n",
        "* Además, algunas variantes alrededor de los filosofía de mementum incluyen Nestrov, AdaGrad, RMSProp, Adam, Nadam, AdaDelta"
      ]
    },
    {
      "cell_type": "code",
      "metadata": {
        "id": "nl8Li9rRFe6c"
      },
      "source": [
        "optimizer = keras.optimizers.SGD(lr=0.001, momentum=0.9) #como incluir momentum en SGD"
      ],
      "execution_count": 68,
      "outputs": []
    },
    {
      "cell_type": "markdown",
      "metadata": {
        "id": "4GRIa__9Fe6c"
      },
      "source": [
        "## Nesterov Accelerated Gradient"
      ]
    },
    {
      "cell_type": "code",
      "metadata": {
        "id": "6X-UvAwwFe6c"
      },
      "source": [
        "optimizer = keras.optimizers.SGD(lr=0.001, momentum=0.9, nesterov=True) #nestrov cálcula el gradiente teniendo en cuenta la dirección del momentum"
      ],
      "execution_count": 69,
      "outputs": []
    },
    {
      "cell_type": "markdown",
      "metadata": {
        "id": "MXPn1c_FFe6d"
      },
      "source": [
        "## AdaGrad"
      ]
    },
    {
      "cell_type": "code",
      "metadata": {
        "id": "6SLITD7YFe6d"
      },
      "source": [
        "optimizer = keras.optimizers.Adagrad(lr=0.001) # incluye correción de dirección"
      ],
      "execution_count": 70,
      "outputs": []
    },
    {
      "cell_type": "markdown",
      "metadata": {
        "id": "oTYifGJbFe6d"
      },
      "source": [
        "## RMSProp"
      ]
    },
    {
      "cell_type": "code",
      "metadata": {
        "id": "0A76_N1bFe6d"
      },
      "source": [
        "optimizer = keras.optimizers.RMSprop(lr=0.001, rho=0.9) # Mejora adaGrad para estabilizar la convergencia"
      ],
      "execution_count": 71,
      "outputs": []
    },
    {
      "cell_type": "markdown",
      "metadata": {
        "id": "6r2Gro0VFe6d"
      },
      "source": [
        "## Adam Optimization"
      ]
    },
    {
      "cell_type": "code",
      "metadata": {
        "id": "dg-abKHIFe6d"
      },
      "source": [
        "optimizer = keras.optimizers.Adam(lr=0.001, beta_1=0.9, beta_2=0.999) # cálcula el momentum de forma adaptativa"
      ],
      "execution_count": 72,
      "outputs": []
    },
    {
      "cell_type": "markdown",
      "metadata": {
        "id": "eaBxFqkaFe6d"
      },
      "source": [
        "## Adamax Optimization"
      ]
    },
    {
      "cell_type": "code",
      "metadata": {
        "id": "lK8e4bZjFe6d"
      },
      "source": [
        "optimizer = keras.optimizers.Adamax(lr=0.001, beta_1=0.9, beta_2=0.999) #cambia la norma l2 en adam con norma infinito"
      ],
      "execution_count": 73,
      "outputs": []
    },
    {
      "cell_type": "markdown",
      "metadata": {
        "id": "yK0ZisDSFe6d"
      },
      "source": [
        "## Nadam Optimization"
      ]
    },
    {
      "cell_type": "code",
      "metadata": {
        "id": "ezGc_yFzFe6d"
      },
      "source": [
        "optimizer = keras.optimizers.Nadam(lr=0.001, beta_1=0.9, beta_2=0.999) # adam + Nestrov -> cálcula gradiente de función con desplazamiento por momentum"
      ],
      "execution_count": 74,
      "outputs": []
    },
    {
      "cell_type": "markdown",
      "metadata": {
        "id": "9jsYaDJIPCwc"
      },
      "source": [
        "# Comparación de los optimizadores:"
      ]
    },
    {
      "cell_type": "code",
      "metadata": {
        "colab": {
          "base_uri": "https://localhost:8080/",
          "height": 501
        },
        "id": "5TvChYXALW9v",
        "outputId": "9144d8bf-d796-45a4-f49e-e5534b4c86d6"
      },
      "source": [
        "from IPython.display import Image\n",
        "Image(url=\"https://gitcdn.xyz/cdn/Tony607/blog_statics/e1a0b1e060e783bd1978a141acff897ae71bd021/images/optimizer/optimizer.gif\")"
      ],
      "execution_count": 75,
      "outputs": [
        {
          "output_type": "execute_result",
          "data": {
            "text/html": [
              "<img src=\"https://gitcdn.xyz/cdn/Tony607/blog_statics/e1a0b1e060e783bd1978a141acff897ae71bd021/images/optimizer/optimizer.gif\"/>"
            ],
            "text/plain": [
              "<IPython.core.display.Image object>"
            ]
          },
          "metadata": {
            "tags": []
          },
          "execution_count": 75
        }
      ]
    },
    {
      "cell_type": "markdown",
      "metadata": {
        "id": "QJl7w9mUFe6d"
      },
      "source": [
        "## Learning Rate Scheduling"
      ]
    },
    {
      "cell_type": "markdown",
      "metadata": {
        "id": "BSI3x9QEFe6d"
      },
      "source": [
        "### Power Scheduling"
      ]
    },
    {
      "cell_type": "markdown",
      "metadata": {
        "id": "VYgGvwl2Fe6d"
      },
      "source": [
        "```lr = lr0 / (1 + steps / s)**c```\n",
        "\n",
        "* Keras usa `c=1` y `s = 1 / decay`"
      ]
    },
    {
      "cell_type": "code",
      "metadata": {
        "id": "yFomKbjeFe6d"
      },
      "source": [
        "optimizer = keras.optimizers.SGD(lr=0.01, decay=1e-4)"
      ],
      "execution_count": 76,
      "outputs": []
    },
    {
      "cell_type": "code",
      "metadata": {
        "id": "03RtQ_2vFe6d"
      },
      "source": [
        "model = keras.models.Sequential([\n",
        "    keras.layers.Flatten(input_shape=[28, 28]),\n",
        "    keras.layers.Dense(300, activation=\"selu\", kernel_initializer=\"lecun_normal\"),\n",
        "    keras.layers.Dense(100, activation=\"selu\", kernel_initializer=\"lecun_normal\"),\n",
        "    keras.layers.Dense(10, activation=\"softmax\")\n",
        "])\n",
        "model.compile(loss=\"sparse_categorical_crossentropy\", optimizer=optimizer, metrics=[\"accuracy\"])"
      ],
      "execution_count": 77,
      "outputs": []
    },
    {
      "cell_type": "code",
      "metadata": {
        "id": "RBLA7qRcFe6d",
        "colab": {
          "base_uri": "https://localhost:8080/"
        },
        "outputId": "0e0c5e0c-221a-4ff6-e1d2-592874212e0e"
      },
      "source": [
        "n_epochs = 25\n",
        "history = model.fit(X_train_scaled, y_train, epochs=n_epochs,\n",
        "                    validation_data=(X_valid_scaled, y_valid))"
      ],
      "execution_count": 78,
      "outputs": [
        {
          "output_type": "stream",
          "text": [
            "Epoch 1/25\n",
            "1719/1719 [==============================] - 4s 2ms/step - loss: 0.4855 - accuracy: 0.8303 - val_loss: 0.4029 - val_accuracy: 0.8604\n",
            "Epoch 2/25\n",
            "1719/1719 [==============================] - 4s 2ms/step - loss: 0.3781 - accuracy: 0.8659 - val_loss: 0.3717 - val_accuracy: 0.8728\n",
            "Epoch 3/25\n",
            "1719/1719 [==============================] - 4s 2ms/step - loss: 0.3458 - accuracy: 0.8770 - val_loss: 0.3747 - val_accuracy: 0.8746\n",
            "Epoch 4/25\n",
            "1719/1719 [==============================] - 4s 2ms/step - loss: 0.3251 - accuracy: 0.8827 - val_loss: 0.3501 - val_accuracy: 0.8802\n",
            "Epoch 5/25\n",
            "1719/1719 [==============================] - 4s 2ms/step - loss: 0.3102 - accuracy: 0.8893 - val_loss: 0.3448 - val_accuracy: 0.8786\n",
            "Epoch 6/25\n",
            "1719/1719 [==============================] - 4s 2ms/step - loss: 0.2966 - accuracy: 0.8934 - val_loss: 0.3414 - val_accuracy: 0.8832\n",
            "Epoch 7/25\n",
            "1719/1719 [==============================] - 4s 2ms/step - loss: 0.2868 - accuracy: 0.8974 - val_loss: 0.3355 - val_accuracy: 0.8868\n",
            "Epoch 8/25\n",
            "1719/1719 [==============================] - 4s 2ms/step - loss: 0.2778 - accuracy: 0.9010 - val_loss: 0.3408 - val_accuracy: 0.8836\n",
            "Epoch 9/25\n",
            "1719/1719 [==============================] - 4s 2ms/step - loss: 0.2698 - accuracy: 0.9018 - val_loss: 0.3291 - val_accuracy: 0.8886\n",
            "Epoch 10/25\n",
            "1719/1719 [==============================] - 4s 2ms/step - loss: 0.2629 - accuracy: 0.9050 - val_loss: 0.3260 - val_accuracy: 0.8880\n",
            "Epoch 11/25\n",
            "1719/1719 [==============================] - 4s 2ms/step - loss: 0.2571 - accuracy: 0.9079 - val_loss: 0.3267 - val_accuracy: 0.8874\n",
            "Epoch 12/25\n",
            "1719/1719 [==============================] - 4s 2ms/step - loss: 0.2513 - accuracy: 0.9096 - val_loss: 0.3332 - val_accuracy: 0.8828\n",
            "Epoch 13/25\n",
            "1719/1719 [==============================] - 4s 2ms/step - loss: 0.2461 - accuracy: 0.9126 - val_loss: 0.3252 - val_accuracy: 0.8888\n",
            "Epoch 14/25\n",
            "1719/1719 [==============================] - 4s 2ms/step - loss: 0.2423 - accuracy: 0.9132 - val_loss: 0.3287 - val_accuracy: 0.8888\n",
            "Epoch 15/25\n",
            "1719/1719 [==============================] - 4s 2ms/step - loss: 0.2375 - accuracy: 0.9149 - val_loss: 0.3239 - val_accuracy: 0.8886\n",
            "Epoch 16/25\n",
            "1719/1719 [==============================] - 4s 2ms/step - loss: 0.2336 - accuracy: 0.9172 - val_loss: 0.3202 - val_accuracy: 0.8906\n",
            "Epoch 17/25\n",
            "1719/1719 [==============================] - 4s 2ms/step - loss: 0.2300 - accuracy: 0.9179 - val_loss: 0.3233 - val_accuracy: 0.8908\n",
            "Epoch 18/25\n",
            "1719/1719 [==============================] - 4s 2ms/step - loss: 0.2263 - accuracy: 0.9196 - val_loss: 0.3187 - val_accuracy: 0.8938\n",
            "Epoch 19/25\n",
            "1719/1719 [==============================] - 4s 2ms/step - loss: 0.2233 - accuracy: 0.9206 - val_loss: 0.3227 - val_accuracy: 0.8896\n",
            "Epoch 20/25\n",
            "1719/1719 [==============================] - 4s 2ms/step - loss: 0.2201 - accuracy: 0.9221 - val_loss: 0.3206 - val_accuracy: 0.8926\n",
            "Epoch 21/25\n",
            "1719/1719 [==============================] - 4s 2ms/step - loss: 0.2168 - accuracy: 0.9232 - val_loss: 0.3205 - val_accuracy: 0.8910\n",
            "Epoch 22/25\n",
            "1719/1719 [==============================] - 4s 2ms/step - loss: 0.2144 - accuracy: 0.9243 - val_loss: 0.3177 - val_accuracy: 0.8948\n",
            "Epoch 23/25\n",
            "1719/1719 [==============================] - 4s 2ms/step - loss: 0.2117 - accuracy: 0.9250 - val_loss: 0.3191 - val_accuracy: 0.8912\n",
            "Epoch 24/25\n",
            "1719/1719 [==============================] - 4s 2ms/step - loss: 0.2089 - accuracy: 0.9264 - val_loss: 0.3209 - val_accuracy: 0.8890\n",
            "Epoch 25/25\n",
            "1719/1719 [==============================] - 4s 2ms/step - loss: 0.2069 - accuracy: 0.9262 - val_loss: 0.3208 - val_accuracy: 0.8938\n"
          ],
          "name": "stdout"
        }
      ]
    },
    {
      "cell_type": "code",
      "metadata": {
        "id": "iNvGPfPoFe6d",
        "colab": {
          "base_uri": "https://localhost:8080/",
          "height": 303
        },
        "outputId": "559ac8c4-7080-4b09-89d5-4992d004b957"
      },
      "source": [
        "learning_rate = 0.01\n",
        "decay = 1e-4\n",
        "batch_size = 32\n",
        "n_steps_per_epoch = len(X_train) // batch_size\n",
        "epochs = np.arange(n_epochs)\n",
        "lrs = learning_rate / (1 + decay * epochs * n_steps_per_epoch)\n",
        "\n",
        "plt.plot(epochs, lrs,  \"o-\")\n",
        "plt.axis([0, n_epochs - 1, 0, 0.01])\n",
        "plt.xlabel(\"Epoch\")\n",
        "plt.ylabel(\"Learning Rate\")\n",
        "plt.title(\"Power Scheduling\", fontsize=14)\n",
        "plt.grid(True)\n",
        "plt.show()"
      ],
      "execution_count": 79,
      "outputs": [
        {
          "output_type": "display_data",
          "data": {
            "image/png": "[encoded data removed]",
            "text/plain": [
              "<Figure size 432x288 with 1 Axes>"
            ]
          },
          "metadata": {
            "tags": [],
            "needs_background": "light"
          }
        }
      ]
    },
    {
      "cell_type": "markdown",
      "metadata": {
        "id": "21SH-G2pFe6d"
      },
      "source": [
        "### Exponential Scheduling"
      ]
    },
    {
      "cell_type": "markdown",
      "metadata": {
        "id": "3Qw-pfayFe6d"
      },
      "source": [
        "```lr = lr0 * 0.1**(epoch / s)```"
      ]
    },
    {
      "cell_type": "code",
      "metadata": {
        "id": "4bXgkCknFe6d"
      },
      "source": [
        "def exponential_decay_fn(epoch):\n",
        "    return 0.01 * 0.1**(epoch / 20)"
      ],
      "execution_count": 80,
      "outputs": []
    },
    {
      "cell_type": "code",
      "metadata": {
        "id": "zJQ5Bh9SFe6d"
      },
      "source": [
        "def exponential_decay(lr0, s):\n",
        "    def exponential_decay_fn(epoch):\n",
        "        return lr0 * 0.1**(epoch / s)\n",
        "    return exponential_decay_fn\n",
        "\n",
        "exponential_decay_fn = exponential_decay(lr0=0.01, s=20)"
      ],
      "execution_count": 81,
      "outputs": []
    },
    {
      "cell_type": "code",
      "metadata": {
        "id": "YWPb6StKFe6d"
      },
      "source": [
        "model = keras.models.Sequential([\n",
        "    keras.layers.Flatten(input_shape=[28, 28]),\n",
        "    keras.layers.Dense(300, activation=\"selu\", kernel_initializer=\"lecun_normal\"),\n",
        "    keras.layers.Dense(100, activation=\"selu\", kernel_initializer=\"lecun_normal\"),\n",
        "    keras.layers.Dense(10, activation=\"softmax\")\n",
        "])\n",
        "model.compile(loss=\"sparse_categorical_crossentropy\", optimizer=\"nadam\", metrics=[\"accuracy\"])\n",
        "n_epochs = 25"
      ],
      "execution_count": 82,
      "outputs": []
    },
    {
      "cell_type": "code",
      "metadata": {
        "id": "Rg3FLC1jFe6d",
        "colab": {
          "base_uri": "https://localhost:8080/"
        },
        "outputId": "e91933ce-5a56-478d-d54c-1a8856f370ec"
      },
      "source": [
        "lr_scheduler = keras.callbacks.LearningRateScheduler(exponential_decay_fn)\n",
        "history = model.fit(X_train_scaled, y_train, epochs=n_epochs,\n",
        "                    validation_data=(X_valid_scaled, y_valid),\n",
        "                    callbacks=[lr_scheduler])"
      ],
      "execution_count": 83,
      "outputs": [
        {
          "output_type": "stream",
          "text": [
            "Epoch 1/25\n",
            "1719/1719 [==============================] - 6s 3ms/step - loss: 0.8680 - accuracy: 0.7514 - val_loss: 1.2005 - val_accuracy: 0.7024\n",
            "Epoch 2/25\n",
            "1719/1719 [==============================] - 6s 3ms/step - loss: 0.7432 - accuracy: 0.7770 - val_loss: 0.5946 - val_accuracy: 0.8354\n",
            "Epoch 3/25\n",
            "1719/1719 [==============================] - 6s 3ms/step - loss: 0.6198 - accuracy: 0.8083 - val_loss: 1.7773 - val_accuracy: 0.6222\n",
            "Epoch 4/25\n",
            "1719/1719 [==============================] - 6s 3ms/step - loss: 0.5614 - accuracy: 0.8248 - val_loss: 0.5190 - val_accuracy: 0.8336\n",
            "Epoch 5/25\n",
            "1719/1719 [==============================] - 6s 3ms/step - loss: 0.4940 - accuracy: 0.8425 - val_loss: 0.5360 - val_accuracy: 0.8584\n",
            "Epoch 6/25\n",
            "1719/1719 [==============================] - 6s 3ms/step - loss: 0.4603 - accuracy: 0.8546 - val_loss: 0.5344 - val_accuracy: 0.8380\n",
            "Epoch 7/25\n",
            "1719/1719 [==============================] - 6s 3ms/step - loss: 0.4355 - accuracy: 0.8621 - val_loss: 0.5241 - val_accuracy: 0.8526\n",
            "Epoch 8/25\n",
            "1719/1719 [==============================] - 6s 3ms/step - loss: 0.3838 - accuracy: 0.8743 - val_loss: 0.5214 - val_accuracy: 0.8434\n",
            "Epoch 9/25\n",
            "1719/1719 [==============================] - 6s 3ms/step - loss: 0.3624 - accuracy: 0.8818 - val_loss: 0.5144 - val_accuracy: 0.8508\n",
            "Epoch 10/25\n",
            "1719/1719 [==============================] - 6s 3ms/step - loss: 0.3379 - accuracy: 0.8879 - val_loss: 0.4635 - val_accuracy: 0.8788\n",
            "Epoch 11/25\n",
            "1719/1719 [==============================] - 6s 3ms/step - loss: 0.3124 - accuracy: 0.8960 - val_loss: 0.4457 - val_accuracy: 0.8696\n",
            "Epoch 12/25\n",
            "1719/1719 [==============================] - 6s 3ms/step - loss: 0.2868 - accuracy: 0.9028 - val_loss: 0.4396 - val_accuracy: 0.8696\n",
            "Epoch 13/25\n",
            "1719/1719 [==============================] - 6s 3ms/step - loss: 0.2684 - accuracy: 0.9089 - val_loss: 0.4637 - val_accuracy: 0.8810\n",
            "Epoch 14/25\n",
            "1719/1719 [==============================] - 6s 3ms/step - loss: 0.2480 - accuracy: 0.9150 - val_loss: 0.4599 - val_accuracy: 0.8774\n",
            "Epoch 15/25\n",
            "1719/1719 [==============================] - 6s 3ms/step - loss: 0.2341 - accuracy: 0.9206 - val_loss: 0.4709 - val_accuracy: 0.8824\n",
            "Epoch 16/25\n",
            "1719/1719 [==============================] - 6s 4ms/step - loss: 0.2177 - accuracy: 0.9263 - val_loss: 0.4585 - val_accuracy: 0.8890\n",
            "Epoch 17/25\n",
            "1719/1719 [==============================] - 6s 3ms/step - loss: 0.2002 - accuracy: 0.9314 - val_loss: 0.4734 - val_accuracy: 0.8832\n",
            "Epoch 18/25\n",
            "1719/1719 [==============================] - 6s 3ms/step - loss: 0.1866 - accuracy: 0.9367 - val_loss: 0.4696 - val_accuracy: 0.8872\n",
            "Epoch 19/25\n",
            "1719/1719 [==============================] - 6s 3ms/step - loss: 0.1752 - accuracy: 0.9402 - val_loss: 0.5022 - val_accuracy: 0.8918\n",
            "Epoch 20/25\n",
            "1719/1719 [==============================] - 6s 3ms/step - loss: 0.1643 - accuracy: 0.9440 - val_loss: 0.4985 - val_accuracy: 0.8916\n",
            "Epoch 21/25\n",
            "1719/1719 [==============================] - 6s 3ms/step - loss: 0.1536 - accuracy: 0.9477 - val_loss: 0.5204 - val_accuracy: 0.8950\n",
            "Epoch 22/25\n",
            "1719/1719 [==============================] - 6s 3ms/step - loss: 0.1433 - accuracy: 0.9514 - val_loss: 0.5275 - val_accuracy: 0.8930\n",
            "Epoch 23/25\n",
            "1719/1719 [==============================] - 6s 3ms/step - loss: 0.1363 - accuracy: 0.9542 - val_loss: 0.6091 - val_accuracy: 0.8894\n",
            "Epoch 24/25\n",
            "1719/1719 [==============================] - 6s 3ms/step - loss: 0.1284 - accuracy: 0.9569 - val_loss: 0.5779 - val_accuracy: 0.8898\n",
            "Epoch 25/25\n",
            "1719/1719 [==============================] - 6s 3ms/step - loss: 0.1224 - accuracy: 0.9597 - val_loss: 0.5818 - val_accuracy: 0.8898\n"
          ],
          "name": "stdout"
        }
      ]
    },
    {
      "cell_type": "code",
      "metadata": {
        "id": "dr-lBZJkFe6d",
        "colab": {
          "base_uri": "https://localhost:8080/",
          "height": 303
        },
        "outputId": "c96a0daf-7549-4647-b537-130278edc750"
      },
      "source": [
        "plt.plot(history.epoch, history.history[\"lr\"], \"o-\")\n",
        "plt.axis([0, n_epochs - 1, 0, 0.011])\n",
        "plt.xlabel(\"Epoch\")\n",
        "plt.ylabel(\"Learning Rate\")\n",
        "plt.title(\"Exponential Scheduling\", fontsize=14)\n",
        "plt.grid(True)\n",
        "plt.show()"
      ],
      "execution_count": 84,
      "outputs": [
        {
          "output_type": "display_data",
          "data": {
            "image/png": "[encoded data removed]",
            "text/plain": [
              "<Figure size 432x288 with 1 Axes>"
            ]
          },
          "metadata": {
            "tags": [],
            "needs_background": "light"
          }
        }
      ]
    },
    {
      "cell_type": "markdown",
      "metadata": {
        "id": "cAq1k4pOFe6e"
      },
      "source": [
        "The schedule function can take the current learning rate as a second argument:"
      ]
    },
    {
      "cell_type": "code",
      "metadata": {
        "id": "6hVLH5hFFe6e"
      },
      "source": [
        "def exponential_decay_fn(epoch, lr):\n",
        "    return lr * 0.1**(1 / 20)"
      ],
      "execution_count": 85,
      "outputs": []
    },
    {
      "cell_type": "markdown",
      "metadata": {
        "id": "NrJcYGepFe6e"
      },
      "source": [
        "If you want to update the learning rate at each iteration rather than at each epoch, you must write your own callback class:"
      ]
    },
    {
      "cell_type": "code",
      "metadata": {
        "id": "CKD-F7WMFe6e",
        "colab": {
          "base_uri": "https://localhost:8080/"
        },
        "outputId": "5472db0e-dfcc-4e3a-96e5-83c008d85538"
      },
      "source": [
        "K = keras.backend\n",
        "\n",
        "class ExponentialDecay(keras.callbacks.Callback):\n",
        "    def __init__(self, s=40000):\n",
        "        super().__init__()\n",
        "        self.s = s\n",
        "\n",
        "    def on_batch_begin(self, batch, logs=None):\n",
        "        # Note: the `batch` argument is reset at each epoch\n",
        "        lr = K.get_value(self.model.optimizer.lr)\n",
        "        K.set_value(self.model.optimizer.lr, lr * 0.1**(1 / s))\n",
        "\n",
        "    def on_epoch_end(self, epoch, logs=None):\n",
        "        logs = logs or {}\n",
        "        logs['lr'] = K.get_value(self.model.optimizer.lr)\n",
        "\n",
        "model = keras.models.Sequential([\n",
        "    keras.layers.Flatten(input_shape=[28, 28]),\n",
        "    keras.layers.Dense(300, activation=\"selu\", kernel_initializer=\"lecun_normal\"),\n",
        "    keras.layers.Dense(100, activation=\"selu\", kernel_initializer=\"lecun_normal\"),\n",
        "    keras.layers.Dense(10, activation=\"softmax\")\n",
        "])\n",
        "lr0 = 0.01\n",
        "optimizer = keras.optimizers.Nadam(lr=lr0)\n",
        "model.compile(loss=\"sparse_categorical_crossentropy\", optimizer=optimizer, metrics=[\"accuracy\"])\n",
        "n_epochs = 25\n",
        "\n",
        "s = 20 * len(X_train) // 32 # number of steps in 20 epochs (batch size = 32)\n",
        "exp_decay = ExponentialDecay(s)\n",
        "history = model.fit(X_train_scaled, y_train, epochs=n_epochs,\n",
        "                    validation_data=(X_valid_scaled, y_valid),\n",
        "                    callbacks=[exp_decay])"
      ],
      "execution_count": 86,
      "outputs": [
        {
          "output_type": "stream",
          "text": [
            "Epoch 1/25\n",
            "   1/1719 [..............................] - ETA: 0s - loss: 2.7142 - accuracy: 0.2812WARNING:tensorflow:Callbacks method `on_train_batch_begin` is slow compared to the batch time (batch time: 0.0025s vs `on_train_batch_begin` time: 0.0038s). Check your callbacks.\n",
            "1719/1719 [==============================] - 7s 4ms/step - loss: 0.8047 - accuracy: 0.7648 - val_loss: 0.7934 - val_accuracy: 0.7638\n",
            "Epoch 2/25\n",
            "1719/1719 [==============================] - 7s 4ms/step - loss: 0.6547 - accuracy: 0.7982 - val_loss: 0.5054 - val_accuracy: 0.8426\n",
            "Epoch 3/25\n",
            "1719/1719 [==============================] - 7s 4ms/step - loss: 0.5437 - accuracy: 0.8283 - val_loss: 0.6026 - val_accuracy: 0.8074\n",
            "Epoch 4/25\n",
            "1719/1719 [==============================] - 7s 4ms/step - loss: 0.5315 - accuracy: 0.8347 - val_loss: 0.4816 - val_accuracy: 0.8538\n",
            "Epoch 5/25\n",
            "1719/1719 [==============================] - 7s 4ms/step - loss: 0.4878 - accuracy: 0.8504 - val_loss: 0.4530 - val_accuracy: 0.8616\n",
            "Epoch 6/25\n",
            "1719/1719 [==============================] - 7s 4ms/step - loss: 0.4186 - accuracy: 0.8650 - val_loss: 0.5545 - val_accuracy: 0.8558\n",
            "Epoch 7/25\n",
            "1719/1719 [==============================] - 7s 4ms/step - loss: 0.4012 - accuracy: 0.8721 - val_loss: 0.4371 - val_accuracy: 0.8622\n",
            "Epoch 8/25\n",
            "1719/1719 [==============================] - 7s 4ms/step - loss: 0.3658 - accuracy: 0.8806 - val_loss: 0.5244 - val_accuracy: 0.8486\n",
            "Epoch 9/25\n",
            "1719/1719 [==============================] - 7s 4ms/step - loss: 0.3418 - accuracy: 0.8893 - val_loss: 0.4819 - val_accuracy: 0.8660\n",
            "Epoch 10/25\n",
            "1719/1719 [==============================] - 7s 4ms/step - loss: 0.3165 - accuracy: 0.8942 - val_loss: 0.4400 - val_accuracy: 0.8826\n",
            "Epoch 11/25\n",
            "1719/1719 [==============================] - 7s 4ms/step - loss: 0.2864 - accuracy: 0.9026 - val_loss: 0.4316 - val_accuracy: 0.8820\n",
            "Epoch 12/25\n",
            "1719/1719 [==============================] - 7s 4ms/step - loss: 0.2686 - accuracy: 0.9079 - val_loss: 0.4187 - val_accuracy: 0.8736\n",
            "Epoch 13/25\n",
            "1719/1719 [==============================] - 7s 4ms/step - loss: 0.2495 - accuracy: 0.9147 - val_loss: 0.4233 - val_accuracy: 0.8842\n",
            "Epoch 14/25\n",
            "1719/1719 [==============================] - 7s 4ms/step - loss: 0.2312 - accuracy: 0.9208 - val_loss: 0.4174 - val_accuracy: 0.8762\n",
            "Epoch 15/25\n",
            "1719/1719 [==============================] - 7s 4ms/step - loss: 0.2138 - accuracy: 0.9262 - val_loss: 0.4299 - val_accuracy: 0.8822\n",
            "Epoch 16/25\n",
            "1719/1719 [==============================] - 7s 4ms/step - loss: 0.2018 - accuracy: 0.9314 - val_loss: 0.4198 - val_accuracy: 0.8900\n",
            "Epoch 17/25\n",
            "1719/1719 [==============================] - 7s 4ms/step - loss: 0.1870 - accuracy: 0.9352 - val_loss: 0.4730 - val_accuracy: 0.8820\n",
            "Epoch 18/25\n",
            "1719/1719 [==============================] - 7s 4ms/step - loss: 0.1728 - accuracy: 0.9402 - val_loss: 0.4547 - val_accuracy: 0.8884\n",
            "Epoch 19/25\n",
            "1719/1719 [==============================] - 7s 4ms/step - loss: 0.1600 - accuracy: 0.9452 - val_loss: 0.4720 - val_accuracy: 0.8920\n",
            "Epoch 20/25\n",
            "1719/1719 [==============================] - 7s 4ms/step - loss: 0.1505 - accuracy: 0.9481 - val_loss: 0.4764 - val_accuracy: 0.8866\n",
            "Epoch 21/25\n",
            "1719/1719 [==============================] - 7s 4ms/step - loss: 0.1402 - accuracy: 0.9523 - val_loss: 0.5207 - val_accuracy: 0.8864\n",
            "Epoch 22/25\n",
            "1719/1719 [==============================] - 7s 4ms/step - loss: 0.1323 - accuracy: 0.9562 - val_loss: 0.5348 - val_accuracy: 0.8886\n",
            "Epoch 23/25\n",
            "1719/1719 [==============================] - 7s 4ms/step - loss: 0.1235 - accuracy: 0.9593 - val_loss: 0.5606 - val_accuracy: 0.8838\n",
            "Epoch 24/25\n",
            "1719/1719 [==============================] - 7s 4ms/step - loss: 0.1172 - accuracy: 0.9613 - val_loss: 0.5878 - val_accuracy: 0.8890\n",
            "Epoch 25/25\n",
            "1719/1719 [==============================] - 7s 4ms/step - loss: 0.1094 - accuracy: 0.9642 - val_loss: 0.5615 - val_accuracy: 0.8878\n"
          ],
          "name": "stdout"
        }
      ]
    },
    {
      "cell_type": "code",
      "metadata": {
        "id": "bbaUWQ7ZFe6e"
      },
      "source": [
        "n_steps = n_epochs * len(X_train) // 32\n",
        "steps = np.arange(n_steps)\n",
        "lrs = lr0 * 0.1**(steps / s)"
      ],
      "execution_count": 87,
      "outputs": []
    },
    {
      "cell_type": "code",
      "metadata": {
        "scrolled": true,
        "id": "1BbpyxlsFe6e",
        "colab": {
          "base_uri": "https://localhost:8080/",
          "height": 303
        },
        "outputId": "34022c6b-a3e6-496b-d812-b0d57a514404"
      },
      "source": [
        "plt.plot(steps, lrs, \"-\", linewidth=2)\n",
        "plt.axis([0, n_steps - 1, 0, lr0 * 1.1])\n",
        "plt.xlabel(\"Batch\")\n",
        "plt.ylabel(\"Learning Rate\")\n",
        "plt.title(\"Exponential Scheduling (per batch)\", fontsize=14)\n",
        "plt.grid(True)\n",
        "plt.show()"
      ],
      "execution_count": 88,
      "outputs": [
        {
          "output_type": "display_data",
          "data": {
            "image/png": "[encoded data removed]",
            "text/plain": [
              "<Figure size 432x288 with 1 Axes>"
            ]
          },
          "metadata": {
            "tags": [],
            "needs_background": "light"
          }
        }
      ]
    },
    {
      "cell_type": "markdown",
      "metadata": {
        "id": "w35hOCXTFe6e"
      },
      "source": [
        "### Piecewise Constant Scheduling"
      ]
    },
    {
      "cell_type": "code",
      "metadata": {
        "id": "xD-961VRFe6e"
      },
      "source": [
        "def piecewise_constant_fn(epoch):\n",
        "    if epoch < 5:\n",
        "        return 0.01\n",
        "    elif epoch < 15:\n",
        "        return 0.005\n",
        "    else:\n",
        "        return 0.001"
      ],
      "execution_count": 89,
      "outputs": []
    },
    {
      "cell_type": "code",
      "metadata": {
        "id": "9MP0Axp0Fe6e"
      },
      "source": [
        "def piecewise_constant(boundaries, values):\n",
        "    boundaries = np.array([0] + boundaries)\n",
        "    values = np.array(values)\n",
        "    def piecewise_constant_fn(epoch):\n",
        "        return values[np.argmax(boundaries > epoch) - 1]\n",
        "    return piecewise_constant_fn\n",
        "\n",
        "piecewise_constant_fn = piecewise_constant([5, 15], [0.01, 0.005, 0.001])"
      ],
      "execution_count": 90,
      "outputs": []
    },
    {
      "cell_type": "code",
      "metadata": {
        "id": "SWIByIucFe6e",
        "colab": {
          "base_uri": "https://localhost:8080/"
        },
        "outputId": "b537f849-70e0-44f7-dfbe-f2002aa55fb0"
      },
      "source": [
        "lr_scheduler = keras.callbacks.LearningRateScheduler(piecewise_constant_fn)\n",
        "\n",
        "model = keras.models.Sequential([\n",
        "    keras.layers.Flatten(input_shape=[28, 28]),\n",
        "    keras.layers.Dense(300, activation=\"selu\", kernel_initializer=\"lecun_normal\"),\n",
        "    keras.layers.Dense(100, activation=\"selu\", kernel_initializer=\"lecun_normal\"),\n",
        "    keras.layers.Dense(10, activation=\"softmax\")\n",
        "])\n",
        "model.compile(loss=\"sparse_categorical_crossentropy\", optimizer=\"nadam\", metrics=[\"accuracy\"])\n",
        "n_epochs = 25\n",
        "history = model.fit(X_train_scaled, y_train, epochs=n_epochs,\n",
        "                    validation_data=(X_valid_scaled, y_valid),\n",
        "                    callbacks=[lr_scheduler])"
      ],
      "execution_count": 91,
      "outputs": [
        {
          "output_type": "stream",
          "text": [
            "Epoch 1/25\n",
            "1719/1719 [==============================] - 6s 3ms/step - loss: 0.8695 - accuracy: 0.7559 - val_loss: 1.0141 - val_accuracy: 0.7006\n",
            "Epoch 2/25\n",
            "1719/1719 [==============================] - 6s 3ms/step - loss: 0.8120 - accuracy: 0.7647 - val_loss: 0.6786 - val_accuracy: 0.7860\n",
            "Epoch 3/25\n",
            "1719/1719 [==============================] - 6s 3ms/step - loss: 0.8244 - accuracy: 0.7588 - val_loss: 1.1512 - val_accuracy: 0.6078\n",
            "Epoch 4/25\n",
            "1719/1719 [==============================] - 6s 3ms/step - loss: 0.9944 - accuracy: 0.6976 - val_loss: 0.9520 - val_accuracy: 0.6888\n",
            "Epoch 5/25\n",
            "1719/1719 [==============================] - 6s 3ms/step - loss: 0.8230 - accuracy: 0.7593 - val_loss: 0.8562 - val_accuracy: 0.8110\n",
            "Epoch 6/25\n",
            "1719/1719 [==============================] - 6s 3ms/step - loss: 0.4992 - accuracy: 0.8488 - val_loss: 0.4879 - val_accuracy: 0.8600\n",
            "Epoch 7/25\n",
            "1719/1719 [==============================] - 6s 3ms/step - loss: 0.4725 - accuracy: 0.8570 - val_loss: 0.5353 - val_accuracy: 0.8476\n",
            "Epoch 8/25\n",
            "1719/1719 [==============================] - 6s 3ms/step - loss: 0.4628 - accuracy: 0.8621 - val_loss: 0.5720 - val_accuracy: 0.8264\n",
            "Epoch 9/25\n",
            "1719/1719 [==============================] - 6s 3ms/step - loss: 0.4430 - accuracy: 0.8671 - val_loss: 0.7305 - val_accuracy: 0.7984\n",
            "Epoch 10/25\n",
            "1719/1719 [==============================] - 6s 3ms/step - loss: 0.4624 - accuracy: 0.8656 - val_loss: 0.5151 - val_accuracy: 0.8642\n",
            "Epoch 11/25\n",
            "1719/1719 [==============================] - 6s 3ms/step - loss: 0.4361 - accuracy: 0.8733 - val_loss: 0.4866 - val_accuracy: 0.8680\n",
            "Epoch 12/25\n",
            "1719/1719 [==============================] - 6s 3ms/step - loss: 0.4254 - accuracy: 0.8752 - val_loss: 0.5543 - val_accuracy: 0.8538\n",
            "Epoch 13/25\n",
            "1719/1719 [==============================] - 6s 3ms/step - loss: 0.4204 - accuracy: 0.8784 - val_loss: 0.5951 - val_accuracy: 0.8466\n",
            "Epoch 14/25\n",
            "1719/1719 [==============================] - 6s 3ms/step - loss: 0.4335 - accuracy: 0.8764 - val_loss: 0.5365 - val_accuracy: 0.8606\n",
            "Epoch 15/25\n",
            "1719/1719 [==============================] - 6s 4ms/step - loss: 0.4140 - accuracy: 0.8825 - val_loss: 0.7272 - val_accuracy: 0.8628\n",
            "Epoch 16/25\n",
            "1719/1719 [==============================] - 6s 3ms/step - loss: 0.2836 - accuracy: 0.9102 - val_loss: 0.4475 - val_accuracy: 0.8820\n",
            "Epoch 17/25\n",
            "1719/1719 [==============================] - 6s 3ms/step - loss: 0.2536 - accuracy: 0.9177 - val_loss: 0.4703 - val_accuracy: 0.8810\n",
            "Epoch 18/25\n",
            "1719/1719 [==============================] - 6s 3ms/step - loss: 0.2424 - accuracy: 0.9206 - val_loss: 0.4577 - val_accuracy: 0.8852\n",
            "Epoch 19/25\n",
            "1719/1719 [==============================] - 6s 3ms/step - loss: 0.2344 - accuracy: 0.9233 - val_loss: 0.4632 - val_accuracy: 0.8884\n",
            "Epoch 20/25\n",
            "1719/1719 [==============================] - 6s 3ms/step - loss: 0.2220 - accuracy: 0.9270 - val_loss: 0.4805 - val_accuracy: 0.8842\n",
            "Epoch 21/25\n",
            "1719/1719 [==============================] - 6s 3ms/step - loss: 0.2161 - accuracy: 0.9299 - val_loss: 0.5306 - val_accuracy: 0.8822\n",
            "Epoch 22/25\n",
            "1719/1719 [==============================] - 6s 3ms/step - loss: 0.2100 - accuracy: 0.9313 - val_loss: 0.4951 - val_accuracy: 0.8846\n",
            "Epoch 23/25\n",
            "1719/1719 [==============================] - 6s 3ms/step - loss: 0.2033 - accuracy: 0.9342 - val_loss: 0.5137 - val_accuracy: 0.8824\n",
            "Epoch 24/25\n",
            "1719/1719 [==============================] - 6s 3ms/step - loss: 0.1978 - accuracy: 0.9363 - val_loss: 0.5500 - val_accuracy: 0.8876\n",
            "Epoch 25/25\n",
            "1719/1719 [==============================] - 6s 3ms/step - loss: 0.1927 - accuracy: 0.9382 - val_loss: 0.5330 - val_accuracy: 0.8788\n"
          ],
          "name": "stdout"
        }
      ]
    },
    {
      "cell_type": "code",
      "metadata": {
        "id": "LzduWZ3mFe6e",
        "colab": {
          "base_uri": "https://localhost:8080/",
          "height": 303
        },
        "outputId": "938e5747-6b10-458f-d94f-cacf57a548f7"
      },
      "source": [
        "plt.plot(history.epoch, [piecewise_constant_fn(epoch) for epoch in history.epoch], \"o-\")\n",
        "plt.axis([0, n_epochs - 1, 0, 0.011])\n",
        "plt.xlabel(\"Epoch\")\n",
        "plt.ylabel(\"Learning Rate\")\n",
        "plt.title(\"Piecewise Constant Scheduling\", fontsize=14)\n",
        "plt.grid(True)\n",
        "plt.show()"
      ],
      "execution_count": 92,
      "outputs": [
        {
          "output_type": "display_data",
          "data": {
            "image/png": "[encoded data removed]",
            "text/plain": [
              "<Figure size 432x288 with 1 Axes>"
            ]
          },
          "metadata": {
            "tags": [],
            "needs_background": "light"
          }
        }
      ]
    },
    {
      "cell_type": "markdown",
      "metadata": {
        "id": "QwP2LvgTFe6e"
      },
      "source": [
        "### Performance Scheduling"
      ]
    },
    {
      "cell_type": "code",
      "metadata": {
        "id": "KSIKN7JlFe6e"
      },
      "source": [
        "tf.random.set_seed(42)\n",
        "np.random.seed(42)"
      ],
      "execution_count": 93,
      "outputs": []
    },
    {
      "cell_type": "code",
      "metadata": {
        "id": "SEd94S5FFe6e",
        "colab": {
          "base_uri": "https://localhost:8080/"
        },
        "outputId": "aa05704d-881a-4809-b901-2054022f2666"
      },
      "source": [
        "lr_scheduler = keras.callbacks.ReduceLROnPlateau(factor=0.5, patience=5)\n",
        "\n",
        "model = keras.models.Sequential([\n",
        "    keras.layers.Flatten(input_shape=[28, 28]),\n",
        "    keras.layers.Dense(300, activation=\"selu\", kernel_initializer=\"lecun_normal\"),\n",
        "    keras.layers.Dense(100, activation=\"selu\", kernel_initializer=\"lecun_normal\"),\n",
        "    keras.layers.Dense(10, activation=\"softmax\")\n",
        "])\n",
        "optimizer = keras.optimizers.SGD(lr=0.02, momentum=0.9)\n",
        "model.compile(loss=\"sparse_categorical_crossentropy\", optimizer=optimizer, metrics=[\"accuracy\"])\n",
        "n_epochs = 25\n",
        "history = model.fit(X_train_scaled, y_train, epochs=n_epochs,\n",
        "                    validation_data=(X_valid_scaled, y_valid),\n",
        "                    callbacks=[lr_scheduler])"
      ],
      "execution_count": 94,
      "outputs": [
        {
          "output_type": "stream",
          "text": [
            "Epoch 1/25\n",
            "1719/1719 [==============================] - 4s 2ms/step - loss: 0.5887 - accuracy: 0.8076 - val_loss: 0.4943 - val_accuracy: 0.8420\n",
            "Epoch 2/25\n",
            "1719/1719 [==============================] - 4s 2ms/step - loss: 0.5005 - accuracy: 0.8401 - val_loss: 0.5357 - val_accuracy: 0.8434\n",
            "Epoch 3/25\n",
            "1719/1719 [==============================] - 4s 2ms/step - loss: 0.5120 - accuracy: 0.8411 - val_loss: 0.4684 - val_accuracy: 0.8610\n",
            "Epoch 4/25\n",
            "1719/1719 [==============================] - 4s 2ms/step - loss: 0.5205 - accuracy: 0.8469 - val_loss: 0.4873 - val_accuracy: 0.8538\n",
            "Epoch 5/25\n",
            "1719/1719 [==============================] - 4s 2ms/step - loss: 0.5261 - accuracy: 0.8472 - val_loss: 0.5343 - val_accuracy: 0.8536\n",
            "Epoch 6/25\n",
            "1719/1719 [==============================] - 4s 2ms/step - loss: 0.5156 - accuracy: 0.8514 - val_loss: 0.6081 - val_accuracy: 0.8450\n",
            "Epoch 7/25\n",
            "1719/1719 [==============================] - 4s 2ms/step - loss: 0.5278 - accuracy: 0.8527 - val_loss: 0.6395 - val_accuracy: 0.8402\n",
            "Epoch 8/25\n",
            "1719/1719 [==============================] - 4s 2ms/step - loss: 0.5113 - accuracy: 0.8564 - val_loss: 0.6793 - val_accuracy: 0.7996\n",
            "Epoch 9/25\n",
            "1719/1719 [==============================] - 4s 2ms/step - loss: 0.3015 - accuracy: 0.8948 - val_loss: 0.4060 - val_accuracy: 0.8738\n",
            "Epoch 10/25\n",
            "1719/1719 [==============================] - 4s 2ms/step - loss: 0.2509 - accuracy: 0.9090 - val_loss: 0.3944 - val_accuracy: 0.8862\n",
            "Epoch 11/25\n",
            "1719/1719 [==============================] - 4s 2ms/step - loss: 0.2274 - accuracy: 0.9159 - val_loss: 0.4200 - val_accuracy: 0.8860\n",
            "Epoch 12/25\n",
            "1719/1719 [==============================] - 4s 2ms/step - loss: 0.2129 - accuracy: 0.9211 - val_loss: 0.4605 - val_accuracy: 0.8778\n",
            "Epoch 13/25\n",
            "1719/1719 [==============================] - 4s 2ms/step - loss: 0.1994 - accuracy: 0.9257 - val_loss: 0.4201 - val_accuracy: 0.8880\n",
            "Epoch 14/25\n",
            "1719/1719 [==============================] - 4s 2ms/step - loss: 0.1892 - accuracy: 0.9287 - val_loss: 0.4349 - val_accuracy: 0.8842\n",
            "Epoch 15/25\n",
            "1719/1719 [==============================] - 4s 2ms/step - loss: 0.1835 - accuracy: 0.9315 - val_loss: 0.4593 - val_accuracy: 0.8850\n",
            "Epoch 16/25\n",
            "1719/1719 [==============================] - 4s 2ms/step - loss: 0.1242 - accuracy: 0.9518 - val_loss: 0.4440 - val_accuracy: 0.8894\n",
            "Epoch 17/25\n",
            "1719/1719 [==============================] - 4s 2ms/step - loss: 0.1104 - accuracy: 0.9571 - val_loss: 0.4617 - val_accuracy: 0.8892\n",
            "Epoch 18/25\n",
            "1719/1719 [==============================] - 4s 2ms/step - loss: 0.1003 - accuracy: 0.9605 - val_loss: 0.4971 - val_accuracy: 0.8816\n",
            "Epoch 19/25\n",
            "1719/1719 [==============================] - 4s 2ms/step - loss: 0.0956 - accuracy: 0.9630 - val_loss: 0.4951 - val_accuracy: 0.8918\n",
            "Epoch 20/25\n",
            "1719/1719 [==============================] - 4s 2ms/step - loss: 0.0881 - accuracy: 0.9653 - val_loss: 0.5284 - val_accuracy: 0.8924\n",
            "Epoch 21/25\n",
            "1719/1719 [==============================] - 4s 2ms/step - loss: 0.0692 - accuracy: 0.9738 - val_loss: 0.5165 - val_accuracy: 0.8916\n",
            "Epoch 22/25\n",
            "1719/1719 [==============================] - 4s 2ms/step - loss: 0.0638 - accuracy: 0.9764 - val_loss: 0.5389 - val_accuracy: 0.8926\n",
            "Epoch 23/25\n",
            "1719/1719 [==============================] - 4s 2ms/step - loss: 0.0605 - accuracy: 0.9776 - val_loss: 0.5395 - val_accuracy: 0.8906\n",
            "Epoch 24/25\n",
            "1719/1719 [==============================] - 4s 2ms/step - loss: 0.0570 - accuracy: 0.9792 - val_loss: 0.5754 - val_accuracy: 0.8918\n",
            "Epoch 25/25\n",
            "1719/1719 [==============================] - 4s 2ms/step - loss: 0.0546 - accuracy: 0.9801 - val_loss: 0.5693 - val_accuracy: 0.8908\n"
          ],
          "name": "stdout"
        }
      ]
    },
    {
      "cell_type": "code",
      "metadata": {
        "id": "YaY01hyoFe6e",
        "colab": {
          "base_uri": "https://localhost:8080/",
          "height": 303
        },
        "outputId": "5cbe98b5-f4d5-4283-88d3-1019652bbfb2"
      },
      "source": [
        "plt.plot(history.epoch, history.history[\"lr\"], \"bo-\")\n",
        "plt.xlabel(\"Epoch\")\n",
        "plt.ylabel(\"Learning Rate\", color='b')\n",
        "plt.tick_params('y', colors='b')\n",
        "plt.gca().set_xlim(0, n_epochs - 1)\n",
        "plt.grid(True)\n",
        "\n",
        "ax2 = plt.gca().twinx()\n",
        "ax2.plot(history.epoch, history.history[\"val_loss\"], \"r^-\")\n",
        "ax2.set_ylabel('Validation Loss', color='r')\n",
        "ax2.tick_params('y', colors='r')\n",
        "\n",
        "plt.title(\"Reduce LR on Plateau\", fontsize=14)\n",
        "plt.show()"
      ],
      "execution_count": 95,
      "outputs": [
        {
          "output_type": "display_data",
          "data": {
            "image/png": "[encoded data removed]",
            "text/plain": [
              "<Figure size 432x288 with 2 Axes>"
            ]
          },
          "metadata": {
            "tags": [],
            "needs_background": "light"
          }
        }
      ]
    },
    {
      "cell_type": "markdown",
      "metadata": {
        "id": "lEBGpsAXFe6e"
      },
      "source": [
        "### tf.keras schedulers"
      ]
    },
    {
      "cell_type": "code",
      "metadata": {
        "id": "R1dBj8IdFe6f",
        "colab": {
          "base_uri": "https://localhost:8080/"
        },
        "outputId": "27b510b9-516c-47b1-f565-ae6b7119bf94"
      },
      "source": [
        "model = keras.models.Sequential([\n",
        "    keras.layers.Flatten(input_shape=[28, 28]),\n",
        "    keras.layers.Dense(300, activation=\"selu\", kernel_initializer=\"lecun_normal\"),\n",
        "    keras.layers.Dense(100, activation=\"selu\", kernel_initializer=\"lecun_normal\"),\n",
        "    keras.layers.Dense(10, activation=\"softmax\")\n",
        "])\n",
        "s = 20 * len(X_train) // 32 # number of steps in 20 epochs (batch size = 32)\n",
        "learning_rate = keras.optimizers.schedules.ExponentialDecay(0.01, s, 0.1)\n",
        "optimizer = keras.optimizers.SGD(learning_rate)\n",
        "model.compile(loss=\"sparse_categorical_crossentropy\", optimizer=optimizer, metrics=[\"accuracy\"])\n",
        "n_epochs = 25\n",
        "history = model.fit(X_train_scaled, y_train, epochs=n_epochs,\n",
        "                    validation_data=(X_valid_scaled, y_valid))"
      ],
      "execution_count": 96,
      "outputs": [
        {
          "output_type": "stream",
          "text": [
            "Epoch 1/25\n",
            "1719/1719 [==============================] - 4s 2ms/step - loss: 0.4894 - accuracy: 0.8273 - val_loss: 0.4091 - val_accuracy: 0.8610\n",
            "Epoch 2/25\n",
            "1719/1719 [==============================] - 4s 2ms/step - loss: 0.3820 - accuracy: 0.8650 - val_loss: 0.3738 - val_accuracy: 0.8688\n",
            "Epoch 3/25\n",
            "1719/1719 [==============================] - 4s 2ms/step - loss: 0.3486 - accuracy: 0.8765 - val_loss: 0.3730 - val_accuracy: 0.8692\n",
            "Epoch 4/25\n",
            "1719/1719 [==============================] - 4s 2ms/step - loss: 0.3264 - accuracy: 0.8835 - val_loss: 0.3494 - val_accuracy: 0.8800\n",
            "Epoch 5/25\n",
            "1719/1719 [==============================] - 4s 2ms/step - loss: 0.3104 - accuracy: 0.8895 - val_loss: 0.3429 - val_accuracy: 0.8796\n",
            "Epoch 6/25\n",
            "1719/1719 [==============================] - 4s 2ms/step - loss: 0.2958 - accuracy: 0.8952 - val_loss: 0.3410 - val_accuracy: 0.8824\n",
            "Epoch 7/25\n",
            "1719/1719 [==============================] - 4s 2ms/step - loss: 0.2853 - accuracy: 0.8988 - val_loss: 0.3351 - val_accuracy: 0.8810\n",
            "Epoch 8/25\n",
            "1719/1719 [==============================] - 4s 2ms/step - loss: 0.2760 - accuracy: 0.9014 - val_loss: 0.3358 - val_accuracy: 0.8818\n",
            "Epoch 9/25\n",
            "1719/1719 [==============================] - 4s 2ms/step - loss: 0.2677 - accuracy: 0.9055 - val_loss: 0.3261 - val_accuracy: 0.8856\n",
            "Epoch 10/25\n",
            "1719/1719 [==============================] - 4s 2ms/step - loss: 0.2608 - accuracy: 0.9069 - val_loss: 0.3237 - val_accuracy: 0.8854\n",
            "Epoch 11/25\n",
            "1719/1719 [==============================] - 4s 2ms/step - loss: 0.2551 - accuracy: 0.9090 - val_loss: 0.3247 - val_accuracy: 0.8866\n",
            "Epoch 12/25\n",
            "1719/1719 [==============================] - 4s 2ms/step - loss: 0.2497 - accuracy: 0.9125 - val_loss: 0.3297 - val_accuracy: 0.8816\n",
            "Epoch 13/25\n",
            "1719/1719 [==============================] - 4s 2ms/step - loss: 0.2449 - accuracy: 0.9140 - val_loss: 0.3217 - val_accuracy: 0.8852\n",
            "Epoch 14/25\n",
            "1719/1719 [==============================] - 4s 2ms/step - loss: 0.2415 - accuracy: 0.9144 - val_loss: 0.3220 - val_accuracy: 0.8868\n",
            "Epoch 15/25\n",
            "1719/1719 [==============================] - 4s 2ms/step - loss: 0.2375 - accuracy: 0.9166 - val_loss: 0.3205 - val_accuracy: 0.8870\n",
            "Epoch 16/25\n",
            "1719/1719 [==============================] - 4s 2ms/step - loss: 0.2343 - accuracy: 0.9175 - val_loss: 0.3181 - val_accuracy: 0.8890\n",
            "Epoch 17/25\n",
            "1719/1719 [==============================] - 4s 2ms/step - loss: 0.2317 - accuracy: 0.9186 - val_loss: 0.3194 - val_accuracy: 0.8904\n",
            "Epoch 18/25\n",
            "1719/1719 [==============================] - 4s 2ms/step - loss: 0.2291 - accuracy: 0.9199 - val_loss: 0.3167 - val_accuracy: 0.8894\n",
            "Epoch 19/25\n",
            "1719/1719 [==============================] - 4s 2ms/step - loss: 0.2270 - accuracy: 0.9204 - val_loss: 0.3195 - val_accuracy: 0.8894\n",
            "Epoch 20/25\n",
            "1719/1719 [==============================] - 4s 2ms/step - loss: 0.2250 - accuracy: 0.9219 - val_loss: 0.3167 - val_accuracy: 0.8894\n",
            "Epoch 21/25\n",
            "1719/1719 [==============================] - 4s 2ms/step - loss: 0.2229 - accuracy: 0.9226 - val_loss: 0.3178 - val_accuracy: 0.8902\n",
            "Epoch 22/25\n",
            "1719/1719 [==============================] - 4s 2ms/step - loss: 0.2216 - accuracy: 0.9221 - val_loss: 0.3161 - val_accuracy: 0.8920\n",
            "Epoch 23/25\n",
            "1719/1719 [==============================] - 4s 2ms/step - loss: 0.2201 - accuracy: 0.9231 - val_loss: 0.3169 - val_accuracy: 0.8900\n",
            "Epoch 24/25\n",
            "1719/1719 [==============================] - 4s 2ms/step - loss: 0.2188 - accuracy: 0.9241 - val_loss: 0.3164 - val_accuracy: 0.8902\n",
            "Epoch 25/25\n",
            "1719/1719 [==============================] - 4s 2ms/step - loss: 0.2179 - accuracy: 0.9237 - val_loss: 0.3163 - val_accuracy: 0.8908\n"
          ],
          "name": "stdout"
        }
      ]
    },
    {
      "cell_type": "markdown",
      "metadata": {
        "id": "jYvaP-l4Fe6f"
      },
      "source": [
        "Para scheduling constantes:"
      ]
    },
    {
      "cell_type": "code",
      "metadata": {
        "id": "FcgVASjpFe6f"
      },
      "source": [
        "learning_rate = keras.optimizers.schedules.PiecewiseConstantDecay(\n",
        "    boundaries=[5. * n_steps_per_epoch, 15. * n_steps_per_epoch],\n",
        "    values=[0.01, 0.005, 0.001])"
      ],
      "execution_count": 97,
      "outputs": []
    },
    {
      "cell_type": "markdown",
      "metadata": {
        "id": "rRDGx6JGFe6f"
      },
      "source": [
        "### 1Cycle scheduling"
      ]
    },
    {
      "cell_type": "code",
      "metadata": {
        "id": "sLkRuOihFe6f"
      },
      "source": [
        "K = keras.backend\n",
        "\n",
        "class ExponentialLearningRate(keras.callbacks.Callback):\n",
        "    def __init__(self, factor):\n",
        "        self.factor = factor\n",
        "        self.rates = []\n",
        "        self.losses = []\n",
        "    def on_batch_end(self, batch, logs):\n",
        "        self.rates.append(K.get_value(self.model.optimizer.lr))\n",
        "        self.losses.append(logs[\"loss\"])\n",
        "        K.set_value(self.model.optimizer.lr, self.model.optimizer.lr * self.factor)\n",
        "\n",
        "def find_learning_rate(model, X, y, epochs=1, batch_size=32, min_rate=10**-5, max_rate=10):\n",
        "    init_weights = model.get_weights()\n",
        "    iterations = len(X) // batch_size * epochs\n",
        "    factor = np.exp(np.log(max_rate / min_rate) / iterations)\n",
        "    init_lr = K.get_value(model.optimizer.lr)\n",
        "    K.set_value(model.optimizer.lr, min_rate)\n",
        "    exp_lr = ExponentialLearningRate(factor)\n",
        "    history = model.fit(X, y, epochs=epochs, batch_size=batch_size,\n",
        "                        callbacks=[exp_lr])\n",
        "    K.set_value(model.optimizer.lr, init_lr)\n",
        "    model.set_weights(init_weights)\n",
        "    return exp_lr.rates, exp_lr.losses\n",
        "\n",
        "def plot_lr_vs_loss(rates, losses):\n",
        "    plt.plot(rates, losses)\n",
        "    plt.gca().set_xscale('log')\n",
        "    plt.hlines(min(losses), min(rates), max(rates))\n",
        "    plt.axis([min(rates), max(rates), min(losses), (losses[0] + min(losses)) / 2])\n",
        "    plt.xlabel(\"Learning rate\")\n",
        "    plt.ylabel(\"Loss\")"
      ],
      "execution_count": 98,
      "outputs": []
    },
    {
      "cell_type": "code",
      "metadata": {
        "id": "q0W3aiddFe6f"
      },
      "source": [
        "tf.random.set_seed(42)\n",
        "np.random.seed(42)\n",
        "\n",
        "model = keras.models.Sequential([\n",
        "    keras.layers.Flatten(input_shape=[28, 28]),\n",
        "    keras.layers.Dense(300, activation=\"selu\", kernel_initializer=\"lecun_normal\"),\n",
        "    keras.layers.Dense(100, activation=\"selu\", kernel_initializer=\"lecun_normal\"),\n",
        "    keras.layers.Dense(10, activation=\"softmax\")\n",
        "])\n",
        "model.compile(loss=\"sparse_categorical_crossentropy\",\n",
        "              optimizer=keras.optimizers.SGD(lr=1e-3),\n",
        "              metrics=[\"accuracy\"])"
      ],
      "execution_count": 99,
      "outputs": []
    },
    {
      "cell_type": "code",
      "metadata": {
        "id": "8yWoOVhiFe6f",
        "colab": {
          "base_uri": "https://localhost:8080/",
          "height": 307
        },
        "outputId": "830399a5-e6d0-4a4f-f7c1-98817bfc0639"
      },
      "source": [
        "batch_size = 128\n",
        "rates, losses = find_learning_rate(model, X_train_scaled, y_train, epochs=1, batch_size=batch_size)\n",
        "plot_lr_vs_loss(rates, losses)"
      ],
      "execution_count": 100,
      "outputs": [
        {
          "output_type": "stream",
          "text": [
            "430/430 [==============================] - 1s 3ms/step - loss: nan - accuracy: 0.3912\n"
          ],
          "name": "stdout"
        },
        {
          "output_type": "display_data",
          "data": {
            "image/png": "[encoded data removed]",
            "text/plain": [
              "<Figure size 432x288 with 1 Axes>"
            ]
          },
          "metadata": {
            "tags": [],
            "needs_background": "light"
          }
        }
      ]
    },
    {
      "cell_type": "code",
      "metadata": {
        "id": "Dz99KLaaFe6f"
      },
      "source": [
        "class OneCycleScheduler(keras.callbacks.Callback):\n",
        "    def __init__(self, iterations, max_rate, start_rate=None,\n",
        "                 last_iterations=None, last_rate=None):\n",
        "        self.iterations = iterations\n",
        "        self.max_rate = max_rate\n",
        "        self.start_rate = start_rate or max_rate / 10\n",
        "        self.last_iterations = last_iterations or iterations // 10 + 1\n",
        "        self.half_iteration = (iterations - self.last_iterations) // 2\n",
        "        self.last_rate = last_rate or self.start_rate / 1000\n",
        "        self.iteration = 0\n",
        "    def _interpolate(self, iter1, iter2, rate1, rate2):\n",
        "        return ((rate2 - rate1) * (self.iteration - iter1)\n",
        "                / (iter2 - iter1) + rate1)\n",
        "    def on_batch_begin(self, batch, logs):\n",
        "        if self.iteration < self.half_iteration:\n",
        "            rate = self._interpolate(0, self.half_iteration, self.start_rate, self.max_rate)\n",
        "        elif self.iteration < 2 * self.half_iteration:\n",
        "            rate = self._interpolate(self.half_iteration, 2 * self.half_iteration,\n",
        "                                     self.max_rate, self.start_rate)\n",
        "        else:\n",
        "            rate = self._interpolate(2 * self.half_iteration, self.iterations,\n",
        "                                     self.start_rate, self.last_rate)\n",
        "            rate = max(rate, self.last_rate)\n",
        "        self.iteration += 1\n",
        "        K.set_value(self.model.optimizer.lr, rate)"
      ],
      "execution_count": 101,
      "outputs": []
    },
    {
      "cell_type": "code",
      "metadata": {
        "id": "4g2I4sFAFe6f",
        "colab": {
          "base_uri": "https://localhost:8080/"
        },
        "outputId": "78dbf327-8c79-4f81-a40b-1aacc4710ea0"
      },
      "source": [
        "n_epochs = 25\n",
        "onecycle = OneCycleScheduler(len(X_train) // batch_size * n_epochs, max_rate=0.05)\n",
        "history = model.fit(X_train_scaled, y_train, epochs=n_epochs, batch_size=batch_size,\n",
        "                    validation_data=(X_valid_scaled, y_valid),\n",
        "                    callbacks=[onecycle])"
      ],
      "execution_count": 102,
      "outputs": [
        {
          "output_type": "stream",
          "text": [
            "Epoch 1/25\n",
            "430/430 [==============================] - 1s 3ms/step - loss: 0.6572 - accuracy: 0.7739 - val_loss: 0.4871 - val_accuracy: 0.8336\n",
            "Epoch 2/25\n",
            "430/430 [==============================] - 1s 3ms/step - loss: 0.4581 - accuracy: 0.8396 - val_loss: 0.4274 - val_accuracy: 0.8524\n",
            "Epoch 3/25\n",
            "430/430 [==============================] - 1s 3ms/step - loss: 0.4121 - accuracy: 0.8545 - val_loss: 0.4115 - val_accuracy: 0.8586\n",
            "Epoch 4/25\n",
            "430/430 [==============================] - 1s 3ms/step - loss: 0.3837 - accuracy: 0.8642 - val_loss: 0.3869 - val_accuracy: 0.8686\n",
            "Epoch 5/25\n",
            "430/430 [==============================] - 1s 3ms/step - loss: 0.3639 - accuracy: 0.8718 - val_loss: 0.3765 - val_accuracy: 0.8688\n",
            "Epoch 6/25\n",
            "430/430 [==============================] - 1s 3ms/step - loss: 0.3456 - accuracy: 0.8773 - val_loss: 0.3739 - val_accuracy: 0.8708\n",
            "Epoch 7/25\n",
            "430/430 [==============================] - 1s 3ms/step - loss: 0.3329 - accuracy: 0.8810 - val_loss: 0.3635 - val_accuracy: 0.8710\n",
            "Epoch 8/25\n",
            "430/430 [==============================] - 1s 3ms/step - loss: 0.3183 - accuracy: 0.8858 - val_loss: 0.3953 - val_accuracy: 0.8612\n",
            "Epoch 9/25\n",
            "430/430 [==============================] - 1s 3ms/step - loss: 0.3064 - accuracy: 0.8890 - val_loss: 0.3485 - val_accuracy: 0.8762\n",
            "Epoch 10/25\n",
            "430/430 [==============================] - 1s 3ms/step - loss: 0.2943 - accuracy: 0.8929 - val_loss: 0.3397 - val_accuracy: 0.8810\n",
            "Epoch 11/25\n",
            "430/430 [==============================] - 1s 3ms/step - loss: 0.2838 - accuracy: 0.8960 - val_loss: 0.3457 - val_accuracy: 0.8804\n",
            "Epoch 12/25\n",
            "430/430 [==============================] - 1s 3ms/step - loss: 0.2706 - accuracy: 0.9023 - val_loss: 0.3636 - val_accuracy: 0.8700\n",
            "Epoch 13/25\n",
            "430/430 [==============================] - 1s 3ms/step - loss: 0.2534 - accuracy: 0.9086 - val_loss: 0.3356 - val_accuracy: 0.8846\n",
            "Epoch 14/25\n",
            "430/430 [==============================] - 1s 3ms/step - loss: 0.2402 - accuracy: 0.9138 - val_loss: 0.3465 - val_accuracy: 0.8806\n",
            "Epoch 15/25\n",
            "430/430 [==============================] - 1s 3ms/step - loss: 0.2278 - accuracy: 0.9186 - val_loss: 0.3263 - val_accuracy: 0.8854\n",
            "Epoch 16/25\n",
            "430/430 [==============================] - 1s 3ms/step - loss: 0.2158 - accuracy: 0.9231 - val_loss: 0.3295 - val_accuracy: 0.8838\n",
            "Epoch 17/25\n",
            "430/430 [==============================] - 1s 3ms/step - loss: 0.2060 - accuracy: 0.9268 - val_loss: 0.3353 - val_accuracy: 0.8864\n",
            "Epoch 18/25\n",
            "430/430 [==============================] - 1s 3ms/step - loss: 0.1977 - accuracy: 0.9301 - val_loss: 0.3247 - val_accuracy: 0.8900\n",
            "Epoch 19/25\n",
            "430/430 [==============================] - 1s 3ms/step - loss: 0.1891 - accuracy: 0.9342 - val_loss: 0.3235 - val_accuracy: 0.8910\n",
            "Epoch 20/25\n",
            "430/430 [==============================] - 1s 3ms/step - loss: 0.1820 - accuracy: 0.9369 - val_loss: 0.3228 - val_accuracy: 0.8930\n",
            "Epoch 21/25\n",
            "430/430 [==============================] - 1s 3ms/step - loss: 0.1752 - accuracy: 0.9400 - val_loss: 0.3224 - val_accuracy: 0.8912\n",
            "Epoch 22/25\n",
            "430/430 [==============================] - 1s 3ms/step - loss: 0.1700 - accuracy: 0.9417 - val_loss: 0.3188 - val_accuracy: 0.8960\n",
            "Epoch 23/25\n",
            "430/430 [==============================] - 1s 3ms/step - loss: 0.1654 - accuracy: 0.9439 - val_loss: 0.3190 - val_accuracy: 0.8942\n",
            "Epoch 24/25\n",
            "430/430 [==============================] - 1s 3ms/step - loss: 0.1627 - accuracy: 0.9456 - val_loss: 0.3182 - val_accuracy: 0.8932\n",
            "Epoch 25/25\n",
            "430/430 [==============================] - 1s 3ms/step - loss: 0.1610 - accuracy: 0.9462 - val_loss: 0.3174 - val_accuracy: 0.8936\n"
          ],
          "name": "stdout"
        }
      ]
    },
    {
      "cell_type": "markdown",
      "metadata": {
        "id": "hdsNIgt9Fe6f"
      },
      "source": [
        "# Avoiding Overfitting Through Regularization"
      ]
    },
    {
      "cell_type": "markdown",
      "metadata": {
        "id": "YdEnwi1NFe6f"
      },
      "source": [
        "## $\\ell_1$ and $\\ell_2$ regularization"
      ]
    },
    {
      "cell_type": "code",
      "metadata": {
        "id": "MGO4BUsbFe6f"
      },
      "source": [
        "layer = keras.layers.Dense(100, activation=\"elu\",\n",
        "                           kernel_initializer=\"he_normal\",\n",
        "                           kernel_regularizer=keras.regularizers.l2(0.01))\n",
        "# or l1(0.1) for ℓ1 regularization with a factor or 0.1\n",
        "# or l1_l2(0.1, 0.01) for both ℓ1 and ℓ2 regularization, with factors 0.1 and 0.01 respectively"
      ],
      "execution_count": 103,
      "outputs": []
    },
    {
      "cell_type": "code",
      "metadata": {
        "id": "lm0zckhdFe6f",
        "colab": {
          "base_uri": "https://localhost:8080/"
        },
        "outputId": "cca54b68-5748-4819-a5b6-6c04e8dbb7cc"
      },
      "source": [
        "model = keras.models.Sequential([\n",
        "    keras.layers.Flatten(input_shape=[28, 28]),\n",
        "    keras.layers.Dense(300, activation=\"elu\",\n",
        "                       kernel_initializer=\"he_normal\",\n",
        "                       kernel_regularizer=keras.regularizers.l2(0.01)),\n",
        "    keras.layers.Dense(100, activation=\"elu\",\n",
        "                       kernel_initializer=\"he_normal\",\n",
        "                       kernel_regularizer=keras.regularizers.l2(0.01)),\n",
        "    keras.layers.Dense(10, activation=\"softmax\",\n",
        "                       kernel_regularizer=keras.regularizers.l2(0.01))\n",
        "])\n",
        "model.compile(loss=\"sparse_categorical_crossentropy\", optimizer=\"nadam\", metrics=[\"accuracy\"])\n",
        "n_epochs = 2\n",
        "history = model.fit(X_train_scaled, y_train, epochs=n_epochs,\n",
        "                    validation_data=(X_valid_scaled, y_valid))"
      ],
      "execution_count": 104,
      "outputs": [
        {
          "output_type": "stream",
          "text": [
            "Epoch 1/2\n",
            "1719/1719 [==============================] - 6s 4ms/step - loss: 1.5956 - accuracy: 0.8124 - val_loss: 0.7169 - val_accuracy: 0.8340\n",
            "Epoch 2/2\n",
            "1719/1719 [==============================] - 6s 4ms/step - loss: 0.7197 - accuracy: 0.8274 - val_loss: 0.6850 - val_accuracy: 0.8376\n"
          ],
          "name": "stdout"
        }
      ]
    },
    {
      "cell_type": "code",
      "metadata": {
        "id": "5kY1s1diFe6f",
        "colab": {
          "base_uri": "https://localhost:8080/"
        },
        "outputId": "d538220f-ea62-4183-8bdc-3ddc571f0bb0"
      },
      "source": [
        "from functools import partial\n",
        "\n",
        "RegularizedDense = partial(keras.layers.Dense,\n",
        "                           activation=\"elu\",\n",
        "                           kernel_initializer=\"he_normal\",\n",
        "                           kernel_regularizer=keras.regularizers.l2(0.01))\n",
        "\n",
        "model = keras.models.Sequential([\n",
        "    keras.layers.Flatten(input_shape=[28, 28]),\n",
        "    RegularizedDense(300),\n",
        "    RegularizedDense(100),\n",
        "    RegularizedDense(10, activation=\"softmax\")\n",
        "])\n",
        "model.compile(loss=\"sparse_categorical_crossentropy\", optimizer=\"nadam\", metrics=[\"accuracy\"])\n",
        "n_epochs = 2\n",
        "history = model.fit(X_train_scaled, y_train, epochs=n_epochs,\n",
        "                    validation_data=(X_valid_scaled, y_valid))"
      ],
      "execution_count": 105,
      "outputs": [
        {
          "output_type": "stream",
          "text": [
            "Epoch 1/2\n",
            "1719/1719 [==============================] - 6s 4ms/step - loss: 1.6313 - accuracy: 0.8113 - val_loss: 0.7218 - val_accuracy: 0.8310\n",
            "Epoch 2/2\n",
            "1719/1719 [==============================] - 6s 4ms/step - loss: 0.7187 - accuracy: 0.8273 - val_loss: 0.6826 - val_accuracy: 0.8382\n"
          ],
          "name": "stdout"
        }
      ]
    },
    {
      "cell_type": "markdown",
      "metadata": {
        "id": "i5M2aajmFe6f"
      },
      "source": [
        "## Dropout"
      ]
    },
    {
      "cell_type": "code",
      "metadata": {
        "id": "_p9DcmrFFe6f",
        "colab": {
          "base_uri": "https://localhost:8080/"
        },
        "outputId": "8c9b5dbb-6c7b-4f22-be09-f02167628c8d"
      },
      "source": [
        "model = keras.models.Sequential([\n",
        "    keras.layers.Flatten(input_shape=[28, 28]),\n",
        "    keras.layers.Dropout(rate=0.2),\n",
        "    keras.layers.Dense(300, activation=\"elu\", kernel_initializer=\"he_normal\"),\n",
        "    keras.layers.Dropout(rate=0.2),\n",
        "    keras.layers.Dense(100, activation=\"elu\", kernel_initializer=\"he_normal\"),\n",
        "    keras.layers.Dropout(rate=0.2),\n",
        "    keras.layers.Dense(10, activation=\"softmax\")\n",
        "])\n",
        "model.compile(loss=\"sparse_categorical_crossentropy\", optimizer=\"nadam\", metrics=[\"accuracy\"])\n",
        "n_epochs = 2\n",
        "history = model.fit(X_train_scaled, y_train, epochs=n_epochs,\n",
        "                    validation_data=(X_valid_scaled, y_valid))"
      ],
      "execution_count": 106,
      "outputs": [
        {
          "output_type": "stream",
          "text": [
            "Epoch 1/2\n",
            "1719/1719 [==============================] - 6s 4ms/step - loss: 0.5838 - accuracy: 0.7998 - val_loss: 0.3730 - val_accuracy: 0.8644\n",
            "Epoch 2/2\n",
            "1719/1719 [==============================] - 6s 3ms/step - loss: 0.4209 - accuracy: 0.8443 - val_loss: 0.3406 - val_accuracy: 0.8726\n"
          ],
          "name": "stdout"
        }
      ]
    },
    {
      "cell_type": "markdown",
      "metadata": {
        "id": "xHugu8RWFe6f"
      },
      "source": [
        "## Alpha Dropout"
      ]
    },
    {
      "cell_type": "code",
      "metadata": {
        "id": "HzLpYv-fFe6f"
      },
      "source": [
        "tf.random.set_seed(42)\n",
        "np.random.seed(42)"
      ],
      "execution_count": 107,
      "outputs": []
    },
    {
      "cell_type": "code",
      "metadata": {
        "id": "Y31jAF0fFe6g",
        "colab": {
          "base_uri": "https://localhost:8080/"
        },
        "outputId": "e8a2db38-393d-4da5-a59b-a9e06f4a4fed"
      },
      "source": [
        "model = keras.models.Sequential([\n",
        "    keras.layers.Flatten(input_shape=[28, 28]),\n",
        "    keras.layers.AlphaDropout(rate=0.2),\n",
        "    keras.layers.Dense(300, activation=\"selu\", kernel_initializer=\"lecun_normal\"),\n",
        "    keras.layers.AlphaDropout(rate=0.2),\n",
        "    keras.layers.Dense(100, activation=\"selu\", kernel_initializer=\"lecun_normal\"),\n",
        "    keras.layers.AlphaDropout(rate=0.2),\n",
        "    keras.layers.Dense(10, activation=\"softmax\")\n",
        "])\n",
        "optimizer = keras.optimizers.SGD(lr=0.01, momentum=0.9, nesterov=True)\n",
        "model.compile(loss=\"sparse_categorical_crossentropy\", optimizer=optimizer, metrics=[\"accuracy\"])\n",
        "n_epochs = 20\n",
        "history = model.fit(X_train_scaled, y_train, epochs=n_epochs,\n",
        "                    validation_data=(X_valid_scaled, y_valid))"
      ],
      "execution_count": 108,
      "outputs": [
        {
          "output_type": "stream",
          "text": [
            "Epoch 1/20\n",
            "1719/1719 [==============================] - 5s 3ms/step - loss: 0.6654 - accuracy: 0.7595 - val_loss: 0.5929 - val_accuracy: 0.8406\n",
            "Epoch 2/20\n",
            "1719/1719 [==============================] - 5s 3ms/step - loss: 0.5605 - accuracy: 0.7933 - val_loss: 0.5605 - val_accuracy: 0.8400\n",
            "Epoch 3/20\n",
            "1719/1719 [==============================] - 5s 3ms/step - loss: 0.5283 - accuracy: 0.8047 - val_loss: 0.4837 - val_accuracy: 0.8600\n",
            "Epoch 4/20\n",
            "1719/1719 [==============================] - 5s 3ms/step - loss: 0.5072 - accuracy: 0.8121 - val_loss: 0.4642 - val_accuracy: 0.8590\n",
            "Epoch 5/20\n",
            "1719/1719 [==============================] - 5s 3ms/step - loss: 0.4915 - accuracy: 0.8184 - val_loss: 0.4717 - val_accuracy: 0.8562\n",
            "Epoch 6/20\n",
            "1719/1719 [==============================] - 5s 3ms/step - loss: 0.4867 - accuracy: 0.8193 - val_loss: 0.4775 - val_accuracy: 0.8632\n",
            "Epoch 7/20\n",
            "1719/1719 [==============================] - 4s 3ms/step - loss: 0.4725 - accuracy: 0.8245 - val_loss: 0.4750 - val_accuracy: 0.8656\n",
            "Epoch 8/20\n",
            "1719/1719 [==============================] - 4s 3ms/step - loss: 0.4638 - accuracy: 0.8280 - val_loss: 0.4597 - val_accuracy: 0.8656\n",
            "Epoch 9/20\n",
            "1719/1719 [==============================] - 4s 3ms/step - loss: 0.4584 - accuracy: 0.8305 - val_loss: 0.4058 - val_accuracy: 0.8720\n",
            "Epoch 10/20\n",
            "1719/1719 [==============================] - 4s 3ms/step - loss: 0.4528 - accuracy: 0.8322 - val_loss: 0.4654 - val_accuracy: 0.8664\n",
            "Epoch 11/20\n",
            "1719/1719 [==============================] - 4s 3ms/step - loss: 0.4485 - accuracy: 0.8327 - val_loss: 0.4263 - val_accuracy: 0.8654\n",
            "Epoch 12/20\n",
            "1719/1719 [==============================] - 5s 3ms/step - loss: 0.4468 - accuracy: 0.8334 - val_loss: 0.5428 - val_accuracy: 0.8490\n",
            "Epoch 13/20\n",
            "1719/1719 [==============================] - 5s 3ms/step - loss: 0.4420 - accuracy: 0.8364 - val_loss: 0.4544 - val_accuracy: 0.8660\n",
            "Epoch 14/20\n",
            "1719/1719 [==============================] - 5s 3ms/step - loss: 0.4320 - accuracy: 0.8385 - val_loss: 0.4498 - val_accuracy: 0.8700\n",
            "Epoch 15/20\n",
            "1719/1719 [==============================] - 4s 3ms/step - loss: 0.4331 - accuracy: 0.8370 - val_loss: 0.4362 - val_accuracy: 0.8674\n",
            "Epoch 16/20\n",
            "1719/1719 [==============================] - 5s 3ms/step - loss: 0.4318 - accuracy: 0.8414 - val_loss: 0.4229 - val_accuracy: 0.8726\n",
            "Epoch 17/20\n",
            "1719/1719 [==============================] - 5s 3ms/step - loss: 0.4271 - accuracy: 0.8409 - val_loss: 0.5424 - val_accuracy: 0.8590\n",
            "Epoch 18/20\n",
            "1719/1719 [==============================] - 5s 3ms/step - loss: 0.4264 - accuracy: 0.8417 - val_loss: 0.5061 - val_accuracy: 0.8706\n",
            "Epoch 19/20\n",
            "1719/1719 [==============================] - 5s 3ms/step - loss: 0.4202 - accuracy: 0.8444 - val_loss: 0.4918 - val_accuracy: 0.8696\n",
            "Epoch 20/20\n",
            "1719/1719 [==============================] - 5s 3ms/step - loss: 0.4235 - accuracy: 0.8429 - val_loss: 0.4130 - val_accuracy: 0.8714\n"
          ],
          "name": "stdout"
        }
      ]
    },
    {
      "cell_type": "code",
      "metadata": {
        "id": "G_rJ0TPMFe6g",
        "colab": {
          "base_uri": "https://localhost:8080/"
        },
        "outputId": "6a371fd8-4f9e-49cf-fba4-5d3ce637b4d7"
      },
      "source": [
        "model.evaluate(X_test_scaled, y_test)"
      ],
      "execution_count": 109,
      "outputs": [
        {
          "output_type": "stream",
          "text": [
            "313/313 [==============================] - 1s 2ms/step - loss: 0.4436 - accuracy: 0.8673\n"
          ],
          "name": "stdout"
        },
        {
          "output_type": "execute_result",
          "data": {
            "text/plain": [
              "[0.4435863792896271, 0.8672999739646912]"
            ]
          },
          "metadata": {
            "tags": []
          },
          "execution_count": 109
        }
      ]
    },
    {
      "cell_type": "code",
      "metadata": {
        "id": "OrRVWqWYFe6g",
        "colab": {
          "base_uri": "https://localhost:8080/"
        },
        "outputId": "ac7901d8-d3c7-4bea-8a29-d277738200b1"
      },
      "source": [
        "model.evaluate(X_train_scaled, y_train)"
      ],
      "execution_count": 110,
      "outputs": [
        {
          "output_type": "stream",
          "text": [
            "1719/1719 [==============================] - 3s 2ms/step - loss: 0.3346 - accuracy: 0.8864\n"
          ],
          "name": "stdout"
        },
        {
          "output_type": "execute_result",
          "data": {
            "text/plain": [
              "[0.3346101641654968, 0.8864181637763977]"
            ]
          },
          "metadata": {
            "tags": []
          },
          "execution_count": 110
        }
      ]
    },
    {
      "cell_type": "code",
      "metadata": {
        "id": "Td0I0sEHFe6g",
        "colab": {
          "base_uri": "https://localhost:8080/"
        },
        "outputId": "4d0dba08-ae3b-4427-a58a-cf3edef4ce67"
      },
      "source": [
        "history = model.fit(X_train_scaled, y_train)"
      ],
      "execution_count": 111,
      "outputs": [
        {
          "output_type": "stream",
          "text": [
            "1719/1719 [==============================] - 4s 2ms/step - loss: 0.4164 - accuracy: 0.8466\n"
          ],
          "name": "stdout"
        }
      ]
    },
    {
      "cell_type": "markdown",
      "metadata": {
        "id": "lMsfCSYlFe6g"
      },
      "source": [
        "## MC Dropout"
      ]
    },
    {
      "cell_type": "code",
      "metadata": {
        "id": "0XnNoF19Fe6g"
      },
      "source": [
        "tf.random.set_seed(42)\n",
        "np.random.seed(42)"
      ],
      "execution_count": 112,
      "outputs": []
    },
    {
      "cell_type": "code",
      "metadata": {
        "id": "9RTnHkP0Fe6g"
      },
      "source": [
        "y_probas = np.stack([model(X_test_scaled, training=True)\n",
        "                     for sample in range(100)])\n",
        "y_proba = y_probas.mean(axis=0)\n",
        "y_std = y_probas.std(axis=0)"
      ],
      "execution_count": 113,
      "outputs": []
    },
    {
      "cell_type": "code",
      "metadata": {
        "id": "piDHtTu0Fe6g",
        "colab": {
          "base_uri": "https://localhost:8080/"
        },
        "outputId": "06c2b2b9-efd1-4d2f-bbbf-2e85637c0336"
      },
      "source": [
        "np.round(model.predict(X_test_scaled[:1]), 2)"
      ],
      "execution_count": 114,
      "outputs": [
        {
          "output_type": "execute_result",
          "data": {
            "text/plain": [
              "array([[0., 0., 0., 0., 0., 0., 0., 0., 0., 1.]], dtype=float32)"
            ]
          },
          "metadata": {
            "tags": []
          },
          "execution_count": 114
        }
      ]
    },
    {
      "cell_type": "code",
      "metadata": {
        "id": "mHgGGV6jFe6g",
        "colab": {
          "base_uri": "https://localhost:8080/"
        },
        "outputId": "cbc70e1c-a7bb-49f1-d6ad-ba83f12b8b3b"
      },
      "source": [
        "np.round(y_probas[:, :1], 2)"
      ],
      "execution_count": 115,
      "outputs": [
        {
          "output_type": "execute_result",
          "data": {
            "text/plain": [
              "array([[[0.  , 0.  , 0.  , 0.  , 0.  , 0.16, 0.  , 0.23, 0.  , 0.62]],\n",
              "\n",
              "       [[0.  , 0.  , 0.  , 0.  , 0.  , 0.01, 0.  , 0.74, 0.  , 0.26]],\n",
              "\n",
              "       [[0.  , 0.  , 0.  , 0.  , 0.  , 0.29, 0.  , 0.  , 0.  , 0.71]],\n",
              "\n",
              "       [[0.  , 0.  , 0.  , 0.  , 0.  , 0.04, 0.  , 0.16, 0.  , 0.8 ]],\n",
              "\n",
              "       [[0.  , 0.  , 0.  , 0.  , 0.  , 0.15, 0.  , 0.17, 0.  , 0.68]],\n",
              "\n",
              "       [[0.  , 0.  , 0.  , 0.  , 0.  , 0.  , 0.  , 0.29, 0.  , 0.71]],\n",
              "\n",
              "       [[0.  , 0.  , 0.  , 0.  , 0.  , 0.35, 0.  , 0.09, 0.  , 0.56]],\n",
              "\n",
              "       [[0.  , 0.  , 0.  , 0.  , 0.  , 0.  , 0.  , 0.36, 0.  , 0.64]],\n",
              "\n",
              "       [[0.  , 0.  , 0.  , 0.  , 0.  , 0.6 , 0.  , 0.03, 0.  , 0.37]],\n",
              "\n",
              "       [[0.  , 0.  , 0.  , 0.  , 0.  , 0.06, 0.  , 0.06, 0.  , 0.88]],\n",
              "\n",
              "       [[0.  , 0.  , 0.  , 0.  , 0.  , 0.02, 0.  , 0.03, 0.  , 0.96]],\n",
              "\n",
              "       [[0.  , 0.  , 0.  , 0.  , 0.  , 0.33, 0.  , 0.  , 0.  , 0.67]],\n",
              "\n",
              "       [[0.  , 0.  , 0.  , 0.  , 0.  , 0.68, 0.  , 0.05, 0.  , 0.27]],\n",
              "\n",
              "       [[0.  , 0.  , 0.  , 0.  , 0.  , 0.28, 0.  , 0.03, 0.  , 0.69]],\n",
              "\n",
              "       [[0.  , 0.  , 0.  , 0.  , 0.  , 0.01, 0.  , 0.03, 0.  , 0.97]],\n",
              "\n",
              "       [[0.  , 0.  , 0.  , 0.  , 0.  , 0.51, 0.  , 0.02, 0.  , 0.47]],\n",
              "\n",
              "       [[0.  , 0.  , 0.  , 0.  , 0.  , 0.03, 0.  , 0.  , 0.  , 0.97]],\n",
              "\n",
              "       [[0.  , 0.  , 0.  , 0.  , 0.  , 0.01, 0.  , 0.04, 0.  , 0.95]],\n",
              "\n",
              "       [[0.  , 0.  , 0.  , 0.  , 0.  , 0.01, 0.  , 0.47, 0.  , 0.52]],\n",
              "\n",
              "       [[0.  , 0.  , 0.  , 0.  , 0.  , 0.1 , 0.  , 0.04, 0.  , 0.86]],\n",
              "\n",
              "       [[0.  , 0.  , 0.  , 0.  , 0.  , 0.51, 0.  , 0.02, 0.  , 0.47]],\n",
              "\n",
              "       [[0.  , 0.  , 0.  , 0.  , 0.  , 0.87, 0.  , 0.02, 0.  , 0.11]],\n",
              "\n",
              "       [[0.  , 0.  , 0.  , 0.  , 0.  , 0.  , 0.  , 0.  , 0.  , 1.  ]],\n",
              "\n",
              "       [[0.  , 0.  , 0.  , 0.  , 0.  , 0.  , 0.  , 0.01, 0.  , 0.99]],\n",
              "\n",
              "       [[0.  , 0.  , 0.  , 0.  , 0.  , 0.01, 0.  , 0.  , 0.  , 0.99]],\n",
              "\n",
              "       [[0.  , 0.  , 0.  , 0.  , 0.  , 0.62, 0.  , 0.2 , 0.  , 0.19]],\n",
              "\n",
              "       [[0.  , 0.  , 0.  , 0.  , 0.  , 0.16, 0.  , 0.14, 0.  , 0.7 ]],\n",
              "\n",
              "       [[0.  , 0.  , 0.  , 0.  , 0.  , 0.66, 0.  , 0.03, 0.  , 0.31]],\n",
              "\n",
              "       [[0.  , 0.  , 0.  , 0.  , 0.  , 0.55, 0.  , 0.  , 0.  , 0.45]],\n",
              "\n",
              "       [[0.  , 0.  , 0.  , 0.  , 0.  , 0.15, 0.  , 0.47, 0.  , 0.38]],\n",
              "\n",
              "       [[0.  , 0.  , 0.  , 0.  , 0.  , 0.29, 0.  , 0.01, 0.  , 0.7 ]],\n",
              "\n",
              "       [[0.  , 0.  , 0.  , 0.  , 0.  , 0.04, 0.  , 0.01, 0.  , 0.95]],\n",
              "\n",
              "       [[0.  , 0.  , 0.  , 0.  , 0.  , 0.2 , 0.  , 0.01, 0.  , 0.79]],\n",
              "\n",
              "       [[0.  , 0.  , 0.  , 0.  , 0.  , 0.82, 0.  , 0.08, 0.  , 0.1 ]],\n",
              "\n",
              "       [[0.  , 0.  , 0.  , 0.  , 0.  , 0.09, 0.  , 0.03, 0.  , 0.89]],\n",
              "\n",
              "       [[0.  , 0.  , 0.  , 0.  , 0.  , 0.23, 0.  , 0.2 , 0.  , 0.57]],\n",
              "\n",
              "       [[0.  , 0.  , 0.  , 0.  , 0.  , 0.  , 0.  , 0.  , 0.  , 1.  ]],\n",
              "\n",
              "       [[0.  , 0.  , 0.  , 0.  , 0.  , 0.47, 0.  , 0.04, 0.  , 0.49]],\n",
              "\n",
              "       [[0.  , 0.  , 0.  , 0.  , 0.  , 0.08, 0.  , 0.04, 0.  , 0.88]],\n",
              "\n",
              "       [[0.  , 0.  , 0.  , 0.  , 0.  , 0.57, 0.  , 0.  , 0.  , 0.43]],\n",
              "\n",
              "       [[0.  , 0.  , 0.  , 0.  , 0.  , 0.05, 0.  , 0.01, 0.  , 0.94]],\n",
              "\n",
              "       [[0.  , 0.  , 0.  , 0.  , 0.  , 0.01, 0.  , 0.  , 0.  , 0.99]],\n",
              "\n",
              "       [[0.  , 0.  , 0.  , 0.  , 0.  , 0.2 , 0.  , 0.09, 0.  , 0.71]],\n",
              "\n",
              "       [[0.  , 0.  , 0.  , 0.  , 0.  , 0.  , 0.  , 0.01, 0.  , 0.99]],\n",
              "\n",
              "       [[0.  , 0.  , 0.  , 0.  , 0.  , 0.  , 0.  , 0.02, 0.  , 0.97]],\n",
              "\n",
              "       [[0.  , 0.  , 0.  , 0.  , 0.  , 0.  , 0.  , 0.  , 0.  , 1.  ]],\n",
              "\n",
              "       [[0.  , 0.  , 0.  , 0.  , 0.  , 0.07, 0.  , 0.09, 0.  , 0.84]],\n",
              "\n",
              "       [[0.  , 0.  , 0.  , 0.  , 0.  , 0.01, 0.  , 0.18, 0.  , 0.81]],\n",
              "\n",
              "       [[0.  , 0.  , 0.  , 0.  , 0.  , 0.  , 0.  , 0.07, 0.  , 0.93]],\n",
              "\n",
              "       [[0.  , 0.  , 0.  , 0.  , 0.  , 0.04, 0.  , 0.2 , 0.  , 0.76]],\n",
              "\n",
              "       [[0.  , 0.  , 0.  , 0.  , 0.  , 0.35, 0.  , 0.15, 0.  , 0.5 ]],\n",
              "\n",
              "       [[0.  , 0.  , 0.  , 0.  , 0.  , 0.42, 0.  , 0.11, 0.  , 0.46]],\n",
              "\n",
              "       [[0.  , 0.  , 0.  , 0.  , 0.  , 0.  , 0.  , 0.  , 0.  , 1.  ]],\n",
              "\n",
              "       [[0.  , 0.  , 0.  , 0.  , 0.  , 0.18, 0.  , 0.01, 0.  , 0.81]],\n",
              "\n",
              "       [[0.  , 0.  , 0.  , 0.  , 0.  , 0.21, 0.  , 0.01, 0.  , 0.78]],\n",
              "\n",
              "       [[0.  , 0.  , 0.  , 0.  , 0.  , 0.03, 0.  , 0.12, 0.  , 0.86]],\n",
              "\n",
              "       [[0.  , 0.  , 0.  , 0.  , 0.  , 0.02, 0.  , 0.36, 0.  , 0.63]],\n",
              "\n",
              "       [[0.  , 0.  , 0.  , 0.  , 0.  , 0.1 , 0.  , 0.66, 0.  , 0.23]],\n",
              "\n",
              "       [[0.  , 0.  , 0.  , 0.  , 0.  , 0.03, 0.  , 0.5 , 0.  , 0.47]],\n",
              "\n",
              "       [[0.  , 0.  , 0.  , 0.  , 0.  , 0.11, 0.  , 0.04, 0.  , 0.84]],\n",
              "\n",
              "       [[0.  , 0.  , 0.  , 0.  , 0.  , 0.33, 0.  , 0.03, 0.  , 0.64]],\n",
              "\n",
              "       [[0.  , 0.  , 0.  , 0.  , 0.  , 0.04, 0.  , 0.01, 0.  , 0.95]],\n",
              "\n",
              "       [[0.  , 0.  , 0.  , 0.  , 0.  , 0.16, 0.  , 0.01, 0.  , 0.82]],\n",
              "\n",
              "       [[0.  , 0.  , 0.  , 0.  , 0.  , 0.01, 0.  , 0.03, 0.  , 0.96]],\n",
              "\n",
              "       [[0.  , 0.  , 0.  , 0.  , 0.  , 0.26, 0.  , 0.01, 0.  , 0.73]],\n",
              "\n",
              "       [[0.  , 0.  , 0.  , 0.  , 0.  , 0.19, 0.  , 0.12, 0.  , 0.69]],\n",
              "\n",
              "       [[0.  , 0.  , 0.  , 0.  , 0.  , 0.47, 0.  , 0.05, 0.  , 0.48]],\n",
              "\n",
              "       [[0.  , 0.  , 0.  , 0.  , 0.  , 0.  , 0.  , 0.  , 0.  , 0.99]],\n",
              "\n",
              "       [[0.  , 0.  , 0.  , 0.  , 0.  , 0.13, 0.  , 0.07, 0.  , 0.81]],\n",
              "\n",
              "       [[0.  , 0.  , 0.  , 0.  , 0.  , 0.03, 0.  , 0.05, 0.  , 0.92]],\n",
              "\n",
              "       [[0.  , 0.  , 0.  , 0.  , 0.  , 0.  , 0.  , 0.01, 0.  , 0.99]],\n",
              "\n",
              "       [[0.  , 0.  , 0.  , 0.  , 0.  , 0.03, 0.  , 0.03, 0.  , 0.94]],\n",
              "\n",
              "       [[0.  , 0.  , 0.  , 0.  , 0.  , 0.22, 0.  , 0.05, 0.  , 0.74]],\n",
              "\n",
              "       [[0.  , 0.  , 0.  , 0.  , 0.  , 0.01, 0.  , 0.01, 0.  , 0.98]],\n",
              "\n",
              "       [[0.  , 0.  , 0.  , 0.  , 0.  , 0.14, 0.  , 0.02, 0.  , 0.84]],\n",
              "\n",
              "       [[0.  , 0.  , 0.  , 0.  , 0.  , 0.  , 0.  , 0.01, 0.  , 0.99]],\n",
              "\n",
              "       [[0.  , 0.  , 0.  , 0.  , 0.  , 0.01, 0.  , 0.01, 0.  , 0.99]],\n",
              "\n",
              "       [[0.  , 0.  , 0.  , 0.  , 0.  , 0.44, 0.  , 0.17, 0.  , 0.39]],\n",
              "\n",
              "       [[0.  , 0.  , 0.  , 0.  , 0.  , 0.01, 0.  , 0.05, 0.  , 0.93]],\n",
              "\n",
              "       [[0.  , 0.  , 0.  , 0.  , 0.  , 0.01, 0.  , 0.02, 0.  , 0.97]],\n",
              "\n",
              "       [[0.  , 0.  , 0.  , 0.  , 0.  , 0.01, 0.  , 0.22, 0.  , 0.78]],\n",
              "\n",
              "       [[0.  , 0.  , 0.  , 0.  , 0.  , 0.2 , 0.  , 0.  , 0.  , 0.8 ]],\n",
              "\n",
              "       [[0.  , 0.  , 0.  , 0.  , 0.  , 0.  , 0.  , 0.  , 0.  , 1.  ]],\n",
              "\n",
              "       [[0.  , 0.  , 0.  , 0.  , 0.  , 0.03, 0.  , 0.03, 0.  , 0.95]],\n",
              "\n",
              "       [[0.  , 0.  , 0.  , 0.  , 0.  , 0.04, 0.  , 0.08, 0.  , 0.88]],\n",
              "\n",
              "       [[0.  , 0.  , 0.  , 0.  , 0.  , 0.22, 0.  , 0.02, 0.  , 0.76]],\n",
              "\n",
              "       [[0.  , 0.  , 0.  , 0.  , 0.  , 0.98, 0.  , 0.  , 0.  , 0.02]],\n",
              "\n",
              "       [[0.  , 0.  , 0.  , 0.  , 0.  , 0.15, 0.  , 0.  , 0.  , 0.84]],\n",
              "\n",
              "       [[0.  , 0.  , 0.  , 0.  , 0.  , 0.02, 0.  , 0.01, 0.  , 0.97]],\n",
              "\n",
              "       [[0.  , 0.  , 0.  , 0.  , 0.  , 0.01, 0.  , 0.  , 0.  , 0.99]],\n",
              "\n",
              "       [[0.  , 0.  , 0.  , 0.  , 0.  , 0.02, 0.  , 0.  , 0.  , 0.98]],\n",
              "\n",
              "       [[0.  , 0.  , 0.  , 0.  , 0.  , 0.14, 0.  , 0.12, 0.  , 0.74]],\n",
              "\n",
              "       [[0.  , 0.  , 0.  , 0.  , 0.  , 0.9 , 0.  , 0.03, 0.  , 0.07]],\n",
              "\n",
              "       [[0.  , 0.  , 0.  , 0.  , 0.  , 0.78, 0.  , 0.01, 0.  , 0.21]],\n",
              "\n",
              "       [[0.  , 0.  , 0.  , 0.  , 0.  , 0.25, 0.  , 0.03, 0.  , 0.72]],\n",
              "\n",
              "       [[0.  , 0.  , 0.  , 0.  , 0.  , 0.02, 0.  , 0.01, 0.  , 0.97]],\n",
              "\n",
              "       [[0.  , 0.  , 0.  , 0.  , 0.  , 0.01, 0.  , 0.01, 0.  , 0.98]],\n",
              "\n",
              "       [[0.  , 0.  , 0.  , 0.  , 0.  , 0.01, 0.  , 0.  , 0.  , 0.98]],\n",
              "\n",
              "       [[0.  , 0.  , 0.  , 0.  , 0.  , 0.35, 0.  , 0.01, 0.  , 0.64]],\n",
              "\n",
              "       [[0.  , 0.  , 0.  , 0.  , 0.  , 0.6 , 0.  , 0.01, 0.  , 0.39]]],\n",
              "      dtype=float32)"
            ]
          },
          "metadata": {
            "tags": []
          },
          "execution_count": 115
        }
      ]
    },
    {
      "cell_type": "code",
      "metadata": {
        "id": "u2Pq_-pjFe6g",
        "colab": {
          "base_uri": "https://localhost:8080/"
        },
        "outputId": "9ce9aa97-9c80-487a-ffce-a86c44193ffe"
      },
      "source": [
        "np.round(y_proba[:1], 2)"
      ],
      "execution_count": 116,
      "outputs": [
        {
          "output_type": "execute_result",
          "data": {
            "text/plain": [
              "array([[0.  , 0.  , 0.  , 0.  , 0.  , 0.19, 0.  , 0.08, 0.  , 0.73]],\n",
              "      dtype=float32)"
            ]
          },
          "metadata": {
            "tags": []
          },
          "execution_count": 116
        }
      ]
    },
    {
      "cell_type": "code",
      "metadata": {
        "id": "0w91yuhYFe6g",
        "colab": {
          "base_uri": "https://localhost:8080/"
        },
        "outputId": "206be698-595e-42e4-bf25-f13e199845a4"
      },
      "source": [
        "y_std = y_probas.std(axis=0)\n",
        "np.round(y_std[:1], 2)"
      ],
      "execution_count": 117,
      "outputs": [
        {
          "output_type": "execute_result",
          "data": {
            "text/plain": [
              "array([[0.  , 0.  , 0.  , 0.  , 0.  , 0.24, 0.  , 0.14, 0.  , 0.26]],\n",
              "      dtype=float32)"
            ]
          },
          "metadata": {
            "tags": []
          },
          "execution_count": 117
        }
      ]
    },
    {
      "cell_type": "code",
      "metadata": {
        "id": "lL-RPjlGFe6g"
      },
      "source": [
        "y_pred = np.argmax(y_proba, axis=1)"
      ],
      "execution_count": 118,
      "outputs": []
    },
    {
      "cell_type": "code",
      "metadata": {
        "id": "9OIaqQraFe6h",
        "colab": {
          "base_uri": "https://localhost:8080/"
        },
        "outputId": "a7a1ccc2-0177-4c86-828c-08953812f2ef"
      },
      "source": [
        "accuracy = np.sum(y_pred == y_test) / len(y_test)\n",
        "accuracy"
      ],
      "execution_count": 119,
      "outputs": [
        {
          "output_type": "execute_result",
          "data": {
            "text/plain": [
              "0.8671"
            ]
          },
          "metadata": {
            "tags": []
          },
          "execution_count": 119
        }
      ]
    },
    {
      "cell_type": "code",
      "metadata": {
        "id": "7_AiUroXFe6h"
      },
      "source": [
        "class MCDropout(keras.layers.Dropout):\n",
        "    def call(self, inputs):\n",
        "        return super().call(inputs, training=True)\n",
        "\n",
        "class MCAlphaDropout(keras.layers.AlphaDropout):\n",
        "    def call(self, inputs):\n",
        "        return super().call(inputs, training=True)"
      ],
      "execution_count": 120,
      "outputs": []
    },
    {
      "cell_type": "code",
      "metadata": {
        "id": "rNxe3zJ8Fe6h"
      },
      "source": [
        "tf.random.set_seed(42)\n",
        "np.random.seed(42)"
      ],
      "execution_count": 121,
      "outputs": []
    },
    {
      "cell_type": "code",
      "metadata": {
        "id": "rmfJtbYDFe6h"
      },
      "source": [
        "mc_model = keras.models.Sequential([\n",
        "    MCAlphaDropout(layer.rate) if isinstance(layer, keras.layers.AlphaDropout) else layer\n",
        "    for layer in model.layers\n",
        "])"
      ],
      "execution_count": 122,
      "outputs": []
    },
    {
      "cell_type": "code",
      "metadata": {
        "id": "caSQJlAwFe6h",
        "colab": {
          "base_uri": "https://localhost:8080/"
        },
        "outputId": "0325de72-57c8-4a06-d301-7be3332028e8"
      },
      "source": [
        "mc_model.summary()"
      ],
      "execution_count": 123,
      "outputs": [
        {
          "output_type": "stream",
          "text": [
            "Model: \"sequential_20\"\n",
            "_________________________________________________________________\n",
            "Layer (type)                 Output Shape              Param #   \n",
            "=================================================================\n",
            "flatten_18 (Flatten)         (None, 784)               0         \n",
            "_________________________________________________________________\n",
            "mc_alpha_dropout (MCAlphaDro (None, 784)               0         \n",
            "_________________________________________________________________\n",
            "dense_262 (Dense)            (None, 300)               235500    \n",
            "_________________________________________________________________\n",
            "mc_alpha_dropout_1 (MCAlphaD (None, 300)               0         \n",
            "_________________________________________________________________\n",
            "dense_263 (Dense)            (None, 100)               30100     \n",
            "_________________________________________________________________\n",
            "mc_alpha_dropout_2 (MCAlphaD (None, 100)               0         \n",
            "_________________________________________________________________\n",
            "dense_264 (Dense)            (None, 10)                1010      \n",
            "=================================================================\n",
            "Total params: 266,610\n",
            "Trainable params: 266,610\n",
            "Non-trainable params: 0\n",
            "_________________________________________________________________\n"
          ],
          "name": "stdout"
        }
      ]
    },
    {
      "cell_type": "code",
      "metadata": {
        "id": "FgBtLVYlFe6h"
      },
      "source": [
        "optimizer = keras.optimizers.SGD(lr=0.01, momentum=0.9, nesterov=True)\n",
        "mc_model.compile(loss=\"sparse_categorical_crossentropy\", optimizer=optimizer, metrics=[\"accuracy\"])"
      ],
      "execution_count": 124,
      "outputs": []
    },
    {
      "cell_type": "code",
      "metadata": {
        "id": "VJxKLoxzFe6h"
      },
      "source": [
        "mc_model.set_weights(model.get_weights())"
      ],
      "execution_count": 125,
      "outputs": []
    },
    {
      "cell_type": "markdown",
      "metadata": {
        "id": "w6-LF_MOFe6h"
      },
      "source": [
        "Now we can use the model with MC Dropout:"
      ]
    },
    {
      "cell_type": "code",
      "metadata": {
        "id": "9snQQn3WFe6h",
        "colab": {
          "base_uri": "https://localhost:8080/"
        },
        "outputId": "25965f77-d12e-45cc-d6ff-1a9fbfaa423a"
      },
      "source": [
        "np.round(np.mean([mc_model.predict(X_test_scaled[:1]) for sample in range(100)], axis=0), 2)"
      ],
      "execution_count": 126,
      "outputs": [
        {
          "output_type": "execute_result",
          "data": {
            "text/plain": [
              "array([[0.  , 0.  , 0.  , 0.  , 0.  , 0.19, 0.  , 0.13, 0.  , 0.68]],\n",
              "      dtype=float32)"
            ]
          },
          "metadata": {
            "tags": []
          },
          "execution_count": 126
        }
      ]
    },
    {
      "cell_type": "markdown",
      "metadata": {
        "id": "Qx1y4z4vFe6h"
      },
      "source": [
        "## Max norm"
      ]
    },
    {
      "cell_type": "code",
      "metadata": {
        "id": "vTSylQ6PFe6h"
      },
      "source": [
        "layer = keras.layers.Dense(100, activation=\"selu\", kernel_initializer=\"lecun_normal\",\n",
        "                           kernel_constraint=keras.constraints.max_norm(1.))"
      ],
      "execution_count": 127,
      "outputs": []
    },
    {
      "cell_type": "code",
      "metadata": {
        "id": "xlbbJ-DiFe6h",
        "colab": {
          "base_uri": "https://localhost:8080/"
        },
        "outputId": "d0f4a3a8-ea3d-4029-acd9-ad1b89cdbc2a"
      },
      "source": [
        "MaxNormDense = partial(keras.layers.Dense,\n",
        "                       activation=\"selu\", kernel_initializer=\"lecun_normal\",\n",
        "                       kernel_constraint=keras.constraints.max_norm(1.))\n",
        "\n",
        "model = keras.models.Sequential([\n",
        "    keras.layers.Flatten(input_shape=[28, 28]),\n",
        "    MaxNormDense(300),\n",
        "    MaxNormDense(100),\n",
        "    keras.layers.Dense(10, activation=\"softmax\")\n",
        "])\n",
        "model.compile(loss=\"sparse_categorical_crossentropy\", optimizer=\"nadam\", metrics=[\"accuracy\"])\n",
        "n_epochs = 2\n",
        "history = model.fit(X_train_scaled, y_train, epochs=n_epochs,\n",
        "                    validation_data=(X_valid_scaled, y_valid))"
      ],
      "execution_count": 128,
      "outputs": [
        {
          "output_type": "stream",
          "text": [
            "Epoch 1/2\n",
            "1719/1719 [==============================] - 6s 4ms/step - loss: 0.4746 - accuracy: 0.8335 - val_loss: 0.3742 - val_accuracy: 0.8612\n",
            "Epoch 2/2\n",
            "1719/1719 [==============================] - 6s 3ms/step - loss: 0.3542 - accuracy: 0.8716 - val_loss: 0.3678 - val_accuracy: 0.8688\n"
          ],
          "name": "stdout"
        }
      ]
    }
  ]
}