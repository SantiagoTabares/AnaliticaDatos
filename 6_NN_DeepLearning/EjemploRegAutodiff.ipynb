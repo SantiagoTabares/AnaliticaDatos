{
  "nbformat": 4,
  "nbformat_minor": 0,
  "metadata": {
    "colab": {
      "name": "EjemploRegAutodiff.ipynb",
      "provenance": [],
      "authorship_tag": "ABX9TyP/Lp8xUrh95ABXzjlgpWMw",
      "include_colab_link": true
    },
    "kernelspec": {
      "name": "python3",
      "display_name": "Python 3"
    }
  },
  "cells": [
    {
      "cell_type": "markdown",
      "metadata": {
        "id": "view-in-github",
        "colab_type": "text"
      },
      "source": [
        "<a href=\"https://colab.research.google.com/github/amalvarezme/AnaliticaDatos/blob/master/6_NN_DeepLearning/EjemploRegAutodiff.ipynb\" target=\"_parent\"><img src=\"https://colab.research.google.com/assets/colab-badge.svg\" alt=\"Open In Colab\"/></a>"
      ]
    },
    {
      "cell_type": "code",
      "metadata": {
        "id": "eI7h4smBC44D",
        "colab_type": "code",
        "colab": {}
      },
      "source": [
        "import numpy as np\n",
        "import matplotlib.pyplot as plt"
      ],
      "execution_count": null,
      "outputs": []
    },
    {
      "cell_type": "markdown",
      "metadata": {
        "id": "hfb2YJkVygsx",
        "colab_type": "text"
      },
      "source": [
        "# Solución problema lineal por gradiente simbólico en mini lotes"
      ]
    },
    {
      "cell_type": "code",
      "metadata": {
        "id": "a771dmq1C_Tv",
        "colab_type": "code",
        "colab": {
          "base_uri": "https://localhost:8080/",
          "height": 243
        },
        "outputId": "d316bdf0-bad4-44f3-a216-77df629caedd"
      },
      "source": [
        "N = 500\n",
        "x = np.linspace(-5,5,N)\n",
        "w1 = 2\n",
        "w0 = -1\n",
        "#y = w1*x + w0\n",
        "Xdata = np.c_[x.reshape(-1,1),np.ones((N,1))]\n",
        "w = np.array([w1,w0]).reshape(-1,1)\n",
        "y = Xdata.dot(w) # 500 x2  x 2  x 1\n",
        "print(Xdata.shape)\n",
        "var = 0.8\n",
        "noise = np.sqrt(var)*np.random.randn(N)\n",
        "yn = y + noise.reshape(-1,1)\n",
        "\n",
        "#training\n",
        "epochs = 50\n",
        "batch_size = 32\n",
        "lr = 1e-4  #hyperparametro learning rate\n",
        "we = np.random.randn(2).reshape(-1,1)  #\n",
        "loss = np.zeros((epochs))\n",
        "lamb = 1e-1 # hyperparametro regularizacion\n",
        "wM = np.zeros((epochs,len(we)))\n",
        " \n",
        "Niter = int(Xdata.shape[0]/batch_size) #N iter por epoch\n",
        "for epoch in range(epochs): #epochs\n",
        "  for i in range(1,Niter+1): #iterar por bathces en epoch\n",
        "    Xbatch = Xdata[(i-1)*batch_size:i*batch_size,:]\n",
        "    ynbatch = yn[(i-1)*batch_size:i*batch_size]\n",
        "    yebatch = (Xbatch.dot(we)).reshape(-1,1)\n",
        "    grad = (2*Xbatch.T).dot(yebatch-ynbatch) + 2*lamb*we# norma l2\n",
        "    we = we - lr*grad\n",
        "  loss[epoch] = np.linalg.norm(ynbatch-yebatch) + lamb*np.linalg.norm(we)\n",
        "  wM[epoch] = we.reshape(1,-1)\n",
        "    \n",
        "\n",
        "plt.figure(figsize=(10,6))\n",
        "\n",
        "plt.subplot(421)\n",
        "plt.plot(y, label = 'original')\n",
        "plt.plot(yn,label = 'ruidosa')\n",
        "plt.xlabel('entrada')\n",
        "plt.ylabel('salida')\n",
        "plt.legend()\n",
        "\n",
        "plt.subplot(422)\n",
        "plt.plot(np.arange(epochs),loss)\n",
        "plt.xlabel('epochs')\n",
        "plt.ylabel('costo')\n",
        "\n",
        "\n",
        "plt.subplot(423)\n",
        "plt.plot(y, label = 'original')\n",
        "ye = Xdata.dot(we)\n",
        "plt.plot(ye, label = 'estimado')\n",
        "plt.xlabel('entrada')\n",
        "plt.ylabel('salida')\n",
        "plt.legend()\n",
        "\n",
        "\n",
        "plt.subplot(424)\n",
        "plt.plot(wM[:,0],wM[:,1],'.' )\n",
        "plt.plot(w[0],w[1],'rd',label='ori_par' )\n",
        "plt.plot(we[0],we[1],'gx',label='est_par' )\n",
        "\n",
        "\n",
        "plt.xlabel('w1')\n",
        "plt.ylabel('w0')\n",
        "plt.legend()\n",
        "\n",
        "\n",
        "plt.subplots_adjust(wspace=0.2,hspace=0.6)\n",
        "plt.show()\n",
        "print(w.T,we.T)"
      ],
      "execution_count": null,
      "outputs": [
        {
          "output_type": "stream",
          "text": [
            "(500, 2)\n"
          ],
          "name": "stdout"
        },
        {
          "output_type": "display_data",
          "data": {
            "image/png": "[encoded data removed]",
            "text/plain": [
              "<Figure size 720x432 with 4 Axes>"
            ]
          },
          "metadata": {
            "tags": [],
            "needs_background": "light"
          }
        },
        {
          "output_type": "stream",
          "text": [
            "[[ 2 -1]] [[ 1.99903217 -0.95676689]]\n"
          ],
          "name": "stdout"
        }
      ]
    },
    {
      "cell_type": "markdown",
      "metadata": {
        "id": "4KUqdkARyp9L",
        "colab_type": "text"
      },
      "source": [
        "# Solución problema lineal por gradiente automático (algorítmico)"
      ]
    },
    {
      "cell_type": "code",
      "metadata": {
        "id": "bLLwJI9N3_fR",
        "colab_type": "code",
        "colab": {
          "base_uri": "https://localhost:8080/",
          "height": 35
        },
        "outputId": "177cde6b-9dab-4312-d029-9e58f5529771"
      },
      "source": [
        "import tensorflow as tf\n",
        "\n",
        "Xdata_tf = tf.convert_to_tensor(Xdata,dtype=tf.float32)\n",
        "yn_tf = tf.convert_to_tensor(yn,dtype=tf.float32)\n",
        "we_tf = tf.Variable(tf.random.normal((2, 1),dtype=tf.float32))\n",
        "Xdata_tf.shape"
      ],
      "execution_count": null,
      "outputs": [
        {
          "output_type": "execute_result",
          "data": {
            "text/plain": [
              "TensorShape([500, 2])"
            ]
          },
          "metadata": {
            "tags": []
          },
          "execution_count": 222
        }
      ]
    },
    {
      "cell_type": "code",
      "metadata": {
        "id": "oquCJ5OV0CIe",
        "colab_type": "code",
        "colab": {}
      },
      "source": [
        "#funcion de perdida a derivar\n",
        "def l(w,X,y,lam=1e-3):\n",
        "    e = y-tf.linalg.matmul(X,w)\n",
        "    return tf.linalg.matmul(e,e,transpose_a=True)+  lam*tf.linalg.matmul(we_tf,we_tf,transpose_a=True)"
      ],
      "execution_count": null,
      "outputs": []
    },
    {
      "cell_type": "code",
      "metadata": {
        "id": "fCq10wC11_Yn",
        "colab_type": "code",
        "colab": {
          "base_uri": "https://localhost:8080/",
          "height": 35
        },
        "outputId": "f72e16a3-ef97-45f2-e761-7484afeecbac"
      },
      "source": [
        "z=l(we_tf,Xdata_tf,yn_tf)\n",
        "print('Costo=',z.numpy()[0])\n"
      ],
      "execution_count": null,
      "outputs": [
        {
          "output_type": "stream",
          "text": [
            "Costo= [5615.3677]\n"
          ],
          "name": "stdout"
        }
      ]
    },
    {
      "cell_type": "code",
      "metadata": {
        "id": "IM2CzbR6Fmbz",
        "colab_type": "code",
        "colab": {
          "base_uri": "https://localhost:8080/",
          "height": 121
        },
        "outputId": "6cf04e96-7093-4a17-b32e-6c577288df43"
      },
      "source": [
        "#calculo gradient con autodiff\n",
        "lr = tf.constant(1e-4,dtype=tf.float32)\n",
        "with tf.GradientTape() as tape: #crear contexto gradient tape para guardar cada operacion que envuelve una variable\n",
        "    z=l(we_tf,Xdata_tf,yn_tf) #funcion de perdida (loss) para salvar memoria colocar la menor cantidad de codigo en el tape\n",
        "gradients = tape.gradient(z,[we_tf]) # tape calcula  los gradientes del resultado z con respecto a [w1,w2]\n",
        "print('gradi=',gradients[0].numpy()) #gradient tape hace los calculos una sola vez de forma inversa sin importar la cantidad de variables\n",
        "print('wi=',we_tf.numpy())\n",
        "we_tf = tf.Variable(we_tf - lr*gradients[0],dtype=tf.float32)\n",
        "print('wi-lr*gwi=',we_tf.numpy())"
      ],
      "execution_count": null,
      "outputs": [
        {
          "output_type": "stream",
          "text": [
            "gradi= [[-1528.6265 ]\n",
            " [ -107.71942]]\n",
            "wi= [[ 1.825921]\n",
            " [-1.045743]]\n",
            "wi-lr*gwi= [[ 1.9787837]\n",
            " [-1.034971 ]]\n"
          ],
          "name": "stdout"
        }
      ]
    },
    {
      "cell_type": "markdown",
      "metadata": {
        "id": "QQRzE5nkFO3D",
        "colab_type": "text"
      },
      "source": [
        "# Ejemplo ilustrativo ciclo por lotes en keras y tf2"
      ]
    },
    {
      "cell_type": "code",
      "metadata": {
        "id": "ec4eTrnOEYwF",
        "colab_type": "code",
        "colab": {
          "base_uri": "https://localhost:8080/",
          "height": 244
        },
        "outputId": "8e0e2600-5ca6-444a-c7e6-7731287d45b2"
      },
      "source": [
        "N = 500\n",
        "x = np.linspace(-5,5,N)\n",
        "w1 = 2\n",
        "w0 = -1\n",
        "#y = w1*x + w0\n",
        "Xdata = np.c_[x.reshape(-1,1),np.ones((N,1))]\n",
        "w = np.array([w1,w0]).reshape(-1,1)\n",
        "y = Xdata.dot(w) # 500 x2  x 2  x 1\n",
        "print(Xdata.shape)\n",
        "var = 0.8\n",
        "noise = np.sqrt(var)*np.random.randn(N)\n",
        "yn = y + noise.reshape(-1,1)\n",
        "\n",
        "#pasar datos a tensores\n",
        "Xdata_tf = tf.convert_to_tensor(Xdata,dtype=tf.float32)\n",
        "yn_tf = tf.convert_to_tensor(yn,dtype=tf.float32)\n",
        "we_tf = tf.Variable(tf.random.normal((2, 1),dtype=tf.float32))\n",
        "lr = tf.constant(1e-4,dtype=tf.float32) #learning rate\n",
        "lamb = tf.constant(1e-3,dtype=tf.float32) # hyperparametro regularizacion\n",
        "\n",
        "#training\n",
        "epochs = 50\n",
        "batch_size = 32\n",
        "loss = np.zeros((epochs))\n",
        "wM = np.zeros((epochs,len(we)))\n",
        " \n",
        "Niter = int(Xdata.shape[0]/batch_size) #N iter por epoch\n",
        "for epoch in range(epochs): #epochs\n",
        "  for i in range(1,Niter+1): #iterar por bathces en epoch\n",
        "    Xbatch = Xdata[(i-1)*batch_size:i*batch_size,:]\n",
        "    Xbatch_tf = tf.convert_to_tensor(Xbatch,dtype=tf.float32)\n",
        "    ynbatch = yn[(i-1)*batch_size:i*batch_size]\n",
        "    ynbatch_tf = tf.convert_to_tensor(ynbatch,dtype=tf.float32)\n",
        "    with tf.GradientTape() as tape: #crear contexto gradient tape para guardar cada operacion que envuelve una variable\n",
        "          z=l(we_tf,Xbatch_tf,ynbatch_tf) #funcion de perdida (loss) para salvar memoria colocar la menor cantidad de codigo en el tape\n",
        "    gradients = tape.gradient(z,[we_tf]) # tape calcula  los gradientes del resultado z con respecto a [w1,w2]\n",
        "    we_tf = tf.Variable(we_tf - lr*gradients[0],dtype=tf.float32)\n",
        "  wM[epoch] = we_tf.numpy().reshape(1,-1)\n",
        "  loss[epoch] = z\n",
        "  \n",
        "we = we_tf.numpy()    \n",
        "\n",
        "plt.figure(figsize=(10,6))\n",
        "\n",
        "plt.subplot(421)\n",
        "plt.plot(y, label = 'original')\n",
        "plt.plot(yn,label = 'ruidosa')\n",
        "plt.xlabel('entrada')\n",
        "plt.ylabel('salida')\n",
        "plt.legend()\n",
        "\n",
        "plt.subplot(422)\n",
        "plt.plot(np.arange(epochs),loss)\n",
        "plt.xlabel('epochs')\n",
        "plt.ylabel('costo')\n",
        "\n",
        "\n",
        "plt.subplot(423)\n",
        "plt.plot(y, label = 'original')\n",
        "ye = Xdata.dot(we)\n",
        "plt.plot(ye, label = 'estimado')\n",
        "plt.xlabel('entrada')\n",
        "plt.ylabel('salida')\n",
        "plt.legend()\n",
        "\n",
        "\n",
        "plt.subplot(424)\n",
        "plt.plot(wM[:,0],wM[:,1],'.' )\n",
        "plt.plot(w[0],w[1],'rd',label='ori_par' )\n",
        "plt.plot(we[0],we[1],'gx',label='est_par' )\n",
        "\n",
        "\n",
        "plt.xlabel('w1')\n",
        "plt.ylabel('w0')\n",
        "plt.legend()\n",
        "\n",
        "\n",
        "plt.subplots_adjust(wspace=0.2,hspace=0.6)\n",
        "plt.show()\n",
        "print(w.T,we.T)"
      ],
      "execution_count": null,
      "outputs": [
        {
          "output_type": "stream",
          "text": [
            "(500, 2)\n"
          ],
          "name": "stdout"
        },
        {
          "output_type": "display_data",
          "data": {
            "image/png": "[encoded data removed]",
            "text/plain": [
              "<Figure size 720x432 with 4 Axes>"
            ]
          },
          "metadata": {
            "tags": [],
            "needs_background": "light"
          }
        },
        {
          "output_type": "stream",
          "text": [
            "[[ 2 -1]] [[ 2.0063348 -1.012503 ]]\n"
          ],
          "name": "stdout"
        }
      ]
    },
    {
      "cell_type": "code",
      "metadata": {
        "id": "kiO1dRUJNra5",
        "colab_type": "code",
        "colab": {}
      },
      "source": [
        ""
      ],
      "execution_count": null,
      "outputs": []
    }
  ]
}