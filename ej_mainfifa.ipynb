{
  "nbformat": 4,
  "nbformat_minor": 0,
  "metadata": {
    "colab": {
      "name": "ej_mainfifa.ipynb",
      "provenance": [],
      "authorship_tag": "ABX9TyNbpYrFXmv8hfIqur1J2eUH",
      "include_colab_link": true
    },
    "kernelspec": {
      "name": "python3",
      "display_name": "Python 3"
    }
  },
  "cells": [
    {
      "cell_type": "markdown",
      "metadata": {
        "id": "view-in-github",
        "colab_type": "text"
      },
      "source": [
        "<a href=\"https://colab.research.google.com/github/amalvarezme/AnaliticaDatos/blob/master/ej_mainfifa.ipynb\" target=\"_parent\"><img src=\"https://colab.research.google.com/assets/colab-badge.svg\" alt=\"Open In Colab\"/></a>"
      ]
    },
    {
      "cell_type": "code",
      "metadata": {
        "id": "qZl3COcadq8T",
        "colab_type": "code",
        "colab": {
          "base_uri": "https://localhost:8080/",
          "height": 1000
        },
        "outputId": "2d801a73-a567-42c7-851b-e5330e021a47"
      },
      "source": [
        "#cargar datos desde drive acceso libre\n",
        "FILEID = \"15QxsIm_jMfHEy6Y--6o19IWgr66oiTRe\"\n",
        "!wget --load-cookies /tmp/cookies.txt \"https://docs.google.com/uc?export=download&confirm=$(wget --quiet --save-cookies /tmp/cookies.txt --keep-session-cookies --no-check-certificate 'https://docs.google.com/uc?export=download&id='$FILEID -O- | sed -rn 's/.*confirm=([0-9A-Za-z_]+).*/\\1\\n/p')&id=\"$FILEID -O codigos.zip && rm -rf /tmp/cookies.txt\n",
        "!unzip codigos.zip\n",
        "!dir"
      ],
      "execution_count": 1,
      "outputs": [
        {
          "output_type": "stream",
          "text": [
            "--2020-09-23 19:37:23--  https://docs.google.com/uc?export=download&confirm=&id=15QxsIm_jMfHEy6Y--6o19IWgr66oiTRe\n",
            "Resolving docs.google.com (docs.google.com)... 172.217.212.102, 172.217.212.100, 172.217.212.138, ...\n",
            "Connecting to docs.google.com (docs.google.com)|172.217.212.102|:443... connected.\n",
            "HTTP request sent, awaiting response... 302 Moved Temporarily\n",
            "Location: https://doc-0g-78-docs.googleusercontent.com/docs/securesc/nabp897cp6eiug04e6r0lcpf4ul700ob/ft240vqbfva5ru0d0mu388lon28vhnv9/1600889775000/09173029842254050324/01385263899720721189Z/15QxsIm_jMfHEy6Y--6o19IWgr66oiTRe?e=download [following]\n",
            "--2020-09-23 19:37:25--  https://doc-0g-78-docs.googleusercontent.com/docs/securesc/nabp897cp6eiug04e6r0lcpf4ul700ob/ft240vqbfva5ru0d0mu388lon28vhnv9/1600889775000/09173029842254050324/01385263899720721189Z/15QxsIm_jMfHEy6Y--6o19IWgr66oiTRe?e=download\n",
            "Resolving doc-0g-78-docs.googleusercontent.com (doc-0g-78-docs.googleusercontent.com)... 172.217.214.132, 2607:f8b0:4001:c05::84\n",
            "Connecting to doc-0g-78-docs.googleusercontent.com (doc-0g-78-docs.googleusercontent.com)|172.217.214.132|:443... connected.\n",
            "HTTP request sent, awaiting response... 302 Found\n",
            "Location: https://docs.google.com/nonceSigner?nonce=v92c49b9g1de8&continue=https://doc-0g-78-docs.googleusercontent.com/docs/securesc/nabp897cp6eiug04e6r0lcpf4ul700ob/ft240vqbfva5ru0d0mu388lon28vhnv9/1600889775000/09173029842254050324/01385263899720721189Z/15QxsIm_jMfHEy6Y--6o19IWgr66oiTRe?e%3Ddownload&hash=ud3off17u21pmnb6amissmt8b6atv1j6 [following]\n",
            "--2020-09-23 19:37:25--  https://docs.google.com/nonceSigner?nonce=v92c49b9g1de8&continue=https://doc-0g-78-docs.googleusercontent.com/docs/securesc/nabp897cp6eiug04e6r0lcpf4ul700ob/ft240vqbfva5ru0d0mu388lon28vhnv9/1600889775000/09173029842254050324/01385263899720721189Z/15QxsIm_jMfHEy6Y--6o19IWgr66oiTRe?e%3Ddownload&hash=ud3off17u21pmnb6amissmt8b6atv1j6\n",
            "Connecting to docs.google.com (docs.google.com)|172.217.212.102|:443... connected.\n",
            "HTTP request sent, awaiting response... 302 Found\n",
            "Location: https://doc-0g-78-docs.googleusercontent.com/docs/securesc/nabp897cp6eiug04e6r0lcpf4ul700ob/ft240vqbfva5ru0d0mu388lon28vhnv9/1600889775000/09173029842254050324/01385263899720721189Z/15QxsIm_jMfHEy6Y--6o19IWgr66oiTRe?e=download&nonce=v92c49b9g1de8&user=01385263899720721189Z&hash=40mtn5edgkr6gm4smnbeoiqit8u3766a [following]\n",
            "--2020-09-23 19:37:25--  https://doc-0g-78-docs.googleusercontent.com/docs/securesc/nabp897cp6eiug04e6r0lcpf4ul700ob/ft240vqbfva5ru0d0mu388lon28vhnv9/1600889775000/09173029842254050324/01385263899720721189Z/15QxsIm_jMfHEy6Y--6o19IWgr66oiTRe?e=download&nonce=v92c49b9g1de8&user=01385263899720721189Z&hash=40mtn5edgkr6gm4smnbeoiqit8u3766a\n",
            "Connecting to doc-0g-78-docs.googleusercontent.com (doc-0g-78-docs.googleusercontent.com)|172.217.214.132|:443... connected.\n",
            "HTTP request sent, awaiting response... 200 OK\n",
            "Length: unspecified [application/zip]\n",
            "Saving to: ‘codigos.zip’\n",
            "\n",
            "codigos.zip             [ <=>                ]   3.85M  --.-KB/s    in 0.02s   \n",
            "\n",
            "2020-09-23 19:37:25 (183 MB/s) - ‘codigos.zip’ saved [4039371]\n",
            "\n",
            "Archive:  codigos.zip\n",
            "   creating: Main_Fifa/\n",
            "  inflating: Main_Fifa/main_fifa.ipynb  \n",
            "  inflating: Main_Fifa/funciones_fifa.py  \n",
            "   creating: Main_Fifa/.ipynb_checkpoints/\n",
            "  inflating: Main_Fifa/.ipynb_checkpoints/main_fifa-checkpoint.ipynb  \n",
            "  inflating: Main_Fifa/.ipynb_checkpoints/KinectDatos-checkpoint.ipynb  \n",
            "  inflating: Main_Fifa/.ipynb_checkpoints/desktop.ini  \n",
            "   creating: Main_Fifa/im2/\n",
            "  inflating: Main_Fifa/im2/tsne_2D.png  \n",
            "  inflating: Main_Fifa/im2/relevancia_PCA.png  \n",
            "  inflating: Main_Fifa/im2/red_PCA2D.png  \n",
            "  inflating: Main_Fifa/im2/mae_testing_set.png  \n",
            "  inflating: Main_Fifa/im2/desktop.ini  \n",
            "   creating: Main_Fifa/__pycache__/\n",
            "  inflating: Main_Fifa/__pycache__/funciones_fifa.cpython-37.pyc  \n",
            "  inflating: Main_Fifa/__pycache__/funciones_housing.cpython-37.pyc  \n",
            "  inflating: Main_Fifa/__pycache__/desktop.ini  \n",
            "  inflating: Main_Fifa/debug.log     \n",
            "   creating: Main_Fifa/datos/\n",
            "  inflating: Main_Fifa/datos/data.csv  \n",
            "  inflating: Main_Fifa/datos/desktop.ini  \n",
            "   creating: Main_Fifa/resultados/\n",
            "  inflating: Main_Fifa/resultados/tsne_2D.png  \n",
            "  inflating: Main_Fifa/resultados/tsne_PCA2D.png  \n",
            "  inflating: Main_Fifa/resultados/mae_testing_set.png  \n",
            "  inflating: Main_Fifa/resultados/relevancia_PCA.png  \n",
            "  inflating: Main_Fifa/resultados/red_PCA2D.png  \n",
            "  inflating: Main_Fifa/resultados/desktop.ini  \n",
            "  inflating: Main_Fifa/desktop.ini   \n",
            "codigos.zip  Main_Fifa\tsample_data\n"
          ],
          "name": "stdout"
        }
      ]
    },
    {
      "cell_type": "code",
      "metadata": {
        "id": "U6hrWmR5eFay",
        "colab_type": "code",
        "colab": {}
      },
      "source": [
        ""
      ],
      "execution_count": null,
      "outputs": []
    }
  ]
}