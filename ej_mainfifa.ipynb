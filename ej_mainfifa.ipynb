{
  "nbformat": 4,
  "nbformat_minor": 0,
  "metadata": {
    "colab": {
      "name": "ej_mainfifa.ipynb",
      "provenance": [],
      "authorship_tag": "ABX9TyODLD5StGzA2bLD8Sy9sQi3",
      "include_colab_link": true
    },
    "kernelspec": {
      "name": "python3",
      "display_name": "Python 3"
    }
  },
  "cells": [
    {
      "cell_type": "markdown",
      "metadata": {
        "id": "view-in-github",
        "colab_type": "text"
      },
      "source": [
        "<a href=\"https://colab.research.google.com/github/amalvarezme/AnaliticaDatos/blob/master/ej_mainfifa.ipynb\" target=\"_parent\"><img src=\"https://colab.research.google.com/assets/colab-badge.svg\" alt=\"Open In Colab\"/></a>"
      ]
    },
    {
      "cell_type": "code",
      "metadata": {
        "id": "qZl3COcadq8T",
        "outputId": "eed5f1dd-574b-421a-812a-e6afc1b3b848",
        "colab": {
          "base_uri": "https://localhost:8080/",
          "height": 991
        }
      },
      "source": [
        "#cargar datos desde drive acceso libre\n",
        "FILEID = \"15QxsIm_jMfHEy6Y--6o19IWgr66oiTRe\"\n",
        "!wget --load-cookies /tmp/cookies.txt \"https://docs.google.com/uc?export=download&confirm=$(wget --quiet --save-cookies /tmp/cookies.txt --keep-session-cookies --no-check-certificate 'https://docs.google.com/uc?export=download&id='$FILEID -O- | sed -rn 's/.*confirm=([0-9A-Za-z_]+).*/\\1\\n/p')&id=\"$FILEID -O codigos.zip && rm -rf /tmp/cookies.txt\n",
        "!unzip codigos.zip\n",
        "!dir"
      ],
      "execution_count": 1,
      "outputs": [
        {
          "output_type": "stream",
          "text": [
            "--2020-10-08 14:08:17--  https://docs.google.com/uc?export=download&confirm=&id=15QxsIm_jMfHEy6Y--6o19IWgr66oiTRe\n",
            "Resolving docs.google.com (docs.google.com)... 108.177.12.138, 108.177.12.113, 108.177.12.102, ...\n",
            "Connecting to docs.google.com (docs.google.com)|108.177.12.138|:443... connected.\n",
            "HTTP request sent, awaiting response... 302 Moved Temporarily\n",
            "Location: https://doc-04-0g-docs.googleusercontent.com/docs/securesc/s6bjausivml5r7pl785uujvlqbn4655f/8rmdev5p002dde47olk39s163mmh5vsf/1602166050000/09173029842254050324/10131674154563184093Z/15QxsIm_jMfHEy6Y--6o19IWgr66oiTRe?e=download [following]\n",
            "--2020-10-08 14:08:23--  https://doc-04-0g-docs.googleusercontent.com/docs/securesc/s6bjausivml5r7pl785uujvlqbn4655f/8rmdev5p002dde47olk39s163mmh5vsf/1602166050000/09173029842254050324/10131674154563184093Z/15QxsIm_jMfHEy6Y--6o19IWgr66oiTRe?e=download\n",
            "Resolving doc-04-0g-docs.googleusercontent.com (doc-04-0g-docs.googleusercontent.com)... 173.194.215.132, 2607:f8b0:400c:c0c::84\n",
            "Connecting to doc-04-0g-docs.googleusercontent.com (doc-04-0g-docs.googleusercontent.com)|173.194.215.132|:443... connected.\n",
            "HTTP request sent, awaiting response... 302 Found\n",
            "Location: https://docs.google.com/nonceSigner?nonce=mrm6m6r5nnm2c&continue=https://doc-04-0g-docs.googleusercontent.com/docs/securesc/s6bjausivml5r7pl785uujvlqbn4655f/8rmdev5p002dde47olk39s163mmh5vsf/1602166050000/09173029842254050324/10131674154563184093Z/15QxsIm_jMfHEy6Y--6o19IWgr66oiTRe?e%3Ddownload&hash=10ffemlm41h0uug92kmem6dj9g6cpr39 [following]\n",
            "--2020-10-08 14:08:23--  https://docs.google.com/nonceSigner?nonce=mrm6m6r5nnm2c&continue=https://doc-04-0g-docs.googleusercontent.com/docs/securesc/s6bjausivml5r7pl785uujvlqbn4655f/8rmdev5p002dde47olk39s163mmh5vsf/1602166050000/09173029842254050324/10131674154563184093Z/15QxsIm_jMfHEy6Y--6o19IWgr66oiTRe?e%3Ddownload&hash=10ffemlm41h0uug92kmem6dj9g6cpr39\n",
            "Connecting to docs.google.com (docs.google.com)|108.177.12.138|:443... connected.\n",
            "HTTP request sent, awaiting response... 302 Found\n",
            "Location: https://doc-04-0g-docs.googleusercontent.com/docs/securesc/s6bjausivml5r7pl785uujvlqbn4655f/8rmdev5p002dde47olk39s163mmh5vsf/1602166050000/09173029842254050324/10131674154563184093Z/15QxsIm_jMfHEy6Y--6o19IWgr66oiTRe?e=download&nonce=mrm6m6r5nnm2c&user=10131674154563184093Z&hash=h22gbk6ivns3tdc8q3120197urocbs2s [following]\n",
            "--2020-10-08 14:08:23--  https://doc-04-0g-docs.googleusercontent.com/docs/securesc/s6bjausivml5r7pl785uujvlqbn4655f/8rmdev5p002dde47olk39s163mmh5vsf/1602166050000/09173029842254050324/10131674154563184093Z/15QxsIm_jMfHEy6Y--6o19IWgr66oiTRe?e=download&nonce=mrm6m6r5nnm2c&user=10131674154563184093Z&hash=h22gbk6ivns3tdc8q3120197urocbs2s\n",
            "Connecting to doc-04-0g-docs.googleusercontent.com (doc-04-0g-docs.googleusercontent.com)|173.194.215.132|:443... connected.\n",
            "HTTP request sent, awaiting response... 200 OK\n",
            "Length: unspecified [application/zip]\n",
            "Saving to: ‘codigos.zip’\n",
            "\n",
            "codigos.zip             [ <=>                ]   3.85M  --.-KB/s    in 0.04s   \n",
            "\n",
            "2020-10-08 14:08:23 (107 MB/s) - ‘codigos.zip’ saved [4039371]\n",
            "\n",
            "Archive:  codigos.zip\n",
            "   creating: Main_Fifa/\n",
            "  inflating: Main_Fifa/main_fifa.ipynb  \n",
            "  inflating: Main_Fifa/funciones_fifa.py  \n",
            "   creating: Main_Fifa/.ipynb_checkpoints/\n",
            "  inflating: Main_Fifa/.ipynb_checkpoints/main_fifa-checkpoint.ipynb  \n",
            "  inflating: Main_Fifa/.ipynb_checkpoints/KinectDatos-checkpoint.ipynb  \n",
            "  inflating: Main_Fifa/.ipynb_checkpoints/desktop.ini  \n",
            "   creating: Main_Fifa/im2/\n",
            "  inflating: Main_Fifa/im2/tsne_2D.png  \n",
            "  inflating: Main_Fifa/im2/relevancia_PCA.png  \n",
            "  inflating: Main_Fifa/im2/red_PCA2D.png  \n",
            "  inflating: Main_Fifa/im2/mae_testing_set.png  \n",
            "  inflating: Main_Fifa/im2/desktop.ini  \n",
            "   creating: Main_Fifa/__pycache__/\n",
            "  inflating: Main_Fifa/__pycache__/funciones_fifa.cpython-37.pyc  \n",
            "  inflating: Main_Fifa/__pycache__/funciones_housing.cpython-37.pyc  \n",
            "  inflating: Main_Fifa/__pycache__/desktop.ini  \n",
            "  inflating: Main_Fifa/debug.log     \n",
            "   creating: Main_Fifa/datos/\n",
            "  inflating: Main_Fifa/datos/data.csv  \n",
            "  inflating: Main_Fifa/datos/desktop.ini  \n",
            "   creating: Main_Fifa/resultados/\n",
            "  inflating: Main_Fifa/resultados/tsne_2D.png  \n",
            "  inflating: Main_Fifa/resultados/tsne_PCA2D.png  \n",
            "  inflating: Main_Fifa/resultados/mae_testing_set.png  \n",
            "  inflating: Main_Fifa/resultados/relevancia_PCA.png  \n",
            "  inflating: Main_Fifa/resultados/red_PCA2D.png  \n",
            "  inflating: Main_Fifa/resultados/desktop.ini  \n",
            "  inflating: Main_Fifa/desktop.ini   \n",
            "codigos.zip  Main_Fifa\tsample_data\n"
          ],
          "name": "stdout"
        }
      ]
    },
    {
      "cell_type": "code",
      "metadata": {
        "id": "5hSsJ5r4exkC",
        "outputId": "c5832a75-eb79-4142-dba5-f0cac7b86ea9",
        "colab": {
          "base_uri": "https://localhost:8080/",
          "height": 373
        }
      },
      "source": [
        "#Paso 1: Lectura\n",
        "import pandas as pd\n",
        "import numpy as np\n",
        "import matplotlib.pyplot as plt\n",
        "import warnings\n",
        "warnings.filterwarnings(\"ignore\")\n",
        "\n",
        "#from funciones_fifa import dummy_fifa, pre_exploratorio, save_fig, code_euro\n",
        "\n",
        "from sklearn.impute import SimpleImputer \n",
        "from sklearn.model_selection import train_test_split, GridSearchCV,cross_val_score, cross_val_predict\n",
        "from sklearn.metrics import mean_absolute_error\n",
        "from sklearn.pipeline import Pipeline\n",
        "\n",
        "\n",
        "import pandas as pd\n",
        "%matplotlib inline\n",
        "csv_path = 'Main_Fifa/datos/data.csv'\n",
        "\n",
        "Xdata = pd.read_csv(csv_path)\n",
        "\n",
        "col_drop = ['Unnamed: 0', 'Name','ID','Photo','Flag',\n",
        "           'Club Logo','Loaned From']\n",
        "Xdata.drop(columns = col_drop, inplace = True)\n",
        "Xdata.head()"
      ],
      "execution_count": 2,
      "outputs": [
        {
          "output_type": "execute_result",
          "data": {
            "text/html": [
              "<div>\n",
              "<style scoped>\n",
              "    .dataframe tbody tr th:only-of-type {\n",
              "        vertical-align: middle;\n",
              "    }\n",
              "\n",
              "    .dataframe tbody tr th {\n",
              "        vertical-align: top;\n",
              "    }\n",
              "\n",
              "    .dataframe thead th {\n",
              "        text-align: right;\n",
              "    }\n",
              "</style>\n",
              "<table border=\"1\" class=\"dataframe\">\n",
              "  <thead>\n",
              "    <tr style=\"text-align: right;\">\n",
              "      <th></th>\n",
              "      <th>Age</th>\n",
              "      <th>Nationality</th>\n",
              "      <th>Overall</th>\n",
              "      <th>Potential</th>\n",
              "      <th>Club</th>\n",
              "      <th>Value</th>\n",
              "      <th>Wage</th>\n",
              "      <th>Special</th>\n",
              "      <th>Preferred Foot</th>\n",
              "      <th>International Reputation</th>\n",
              "      <th>Weak Foot</th>\n",
              "      <th>Skill Moves</th>\n",
              "      <th>Work Rate</th>\n",
              "      <th>Body Type</th>\n",
              "      <th>Real Face</th>\n",
              "      <th>Position</th>\n",
              "      <th>Jersey Number</th>\n",
              "      <th>Joined</th>\n",
              "      <th>Contract Valid Until</th>\n",
              "      <th>Height</th>\n",
              "      <th>Weight</th>\n",
              "      <th>LS</th>\n",
              "      <th>ST</th>\n",
              "      <th>RS</th>\n",
              "      <th>LW</th>\n",
              "      <th>LF</th>\n",
              "      <th>CF</th>\n",
              "      <th>RF</th>\n",
              "      <th>RW</th>\n",
              "      <th>LAM</th>\n",
              "      <th>CAM</th>\n",
              "      <th>RAM</th>\n",
              "      <th>LM</th>\n",
              "      <th>LCM</th>\n",
              "      <th>CM</th>\n",
              "      <th>RCM</th>\n",
              "      <th>RM</th>\n",
              "      <th>LWB</th>\n",
              "      <th>LDM</th>\n",
              "      <th>CDM</th>\n",
              "      <th>...</th>\n",
              "      <th>LB</th>\n",
              "      <th>LCB</th>\n",
              "      <th>CB</th>\n",
              "      <th>RCB</th>\n",
              "      <th>RB</th>\n",
              "      <th>Crossing</th>\n",
              "      <th>Finishing</th>\n",
              "      <th>HeadingAccuracy</th>\n",
              "      <th>ShortPassing</th>\n",
              "      <th>Volleys</th>\n",
              "      <th>Dribbling</th>\n",
              "      <th>Curve</th>\n",
              "      <th>FKAccuracy</th>\n",
              "      <th>LongPassing</th>\n",
              "      <th>BallControl</th>\n",
              "      <th>Acceleration</th>\n",
              "      <th>SprintSpeed</th>\n",
              "      <th>Agility</th>\n",
              "      <th>Reactions</th>\n",
              "      <th>Balance</th>\n",
              "      <th>ShotPower</th>\n",
              "      <th>Jumping</th>\n",
              "      <th>Stamina</th>\n",
              "      <th>Strength</th>\n",
              "      <th>LongShots</th>\n",
              "      <th>Aggression</th>\n",
              "      <th>Interceptions</th>\n",
              "      <th>Positioning</th>\n",
              "      <th>Vision</th>\n",
              "      <th>Penalties</th>\n",
              "      <th>Composure</th>\n",
              "      <th>Marking</th>\n",
              "      <th>StandingTackle</th>\n",
              "      <th>SlidingTackle</th>\n",
              "      <th>GKDiving</th>\n",
              "      <th>GKHandling</th>\n",
              "      <th>GKKicking</th>\n",
              "      <th>GKPositioning</th>\n",
              "      <th>GKReflexes</th>\n",
              "      <th>Release Clause</th>\n",
              "    </tr>\n",
              "  </thead>\n",
              "  <tbody>\n",
              "    <tr>\n",
              "      <th>0</th>\n",
              "      <td>31</td>\n",
              "      <td>Argentina</td>\n",
              "      <td>94</td>\n",
              "      <td>94</td>\n",
              "      <td>FC Barcelona</td>\n",
              "      <td>€110.5M</td>\n",
              "      <td>€565K</td>\n",
              "      <td>2202</td>\n",
              "      <td>Left</td>\n",
              "      <td>5.0</td>\n",
              "      <td>4.0</td>\n",
              "      <td>4.0</td>\n",
              "      <td>Medium/ Medium</td>\n",
              "      <td>Messi</td>\n",
              "      <td>Yes</td>\n",
              "      <td>RF</td>\n",
              "      <td>10.0</td>\n",
              "      <td>7/1/2004</td>\n",
              "      <td>2021</td>\n",
              "      <td>5'7</td>\n",
              "      <td>159lbs</td>\n",
              "      <td>88+2</td>\n",
              "      <td>88+2</td>\n",
              "      <td>88+2</td>\n",
              "      <td>92+2</td>\n",
              "      <td>93+2</td>\n",
              "      <td>93+2</td>\n",
              "      <td>93+2</td>\n",
              "      <td>92+2</td>\n",
              "      <td>93+2</td>\n",
              "      <td>93+2</td>\n",
              "      <td>93+2</td>\n",
              "      <td>91+2</td>\n",
              "      <td>84+2</td>\n",
              "      <td>84+2</td>\n",
              "      <td>84+2</td>\n",
              "      <td>91+2</td>\n",
              "      <td>64+2</td>\n",
              "      <td>61+2</td>\n",
              "      <td>61+2</td>\n",
              "      <td>...</td>\n",
              "      <td>59+2</td>\n",
              "      <td>47+2</td>\n",
              "      <td>47+2</td>\n",
              "      <td>47+2</td>\n",
              "      <td>59+2</td>\n",
              "      <td>84.0</td>\n",
              "      <td>95.0</td>\n",
              "      <td>70.0</td>\n",
              "      <td>90.0</td>\n",
              "      <td>86.0</td>\n",
              "      <td>97.0</td>\n",
              "      <td>93.0</td>\n",
              "      <td>94.0</td>\n",
              "      <td>87.0</td>\n",
              "      <td>96.0</td>\n",
              "      <td>91.0</td>\n",
              "      <td>86.0</td>\n",
              "      <td>91.0</td>\n",
              "      <td>95.0</td>\n",
              "      <td>95.0</td>\n",
              "      <td>85.0</td>\n",
              "      <td>68.0</td>\n",
              "      <td>72.0</td>\n",
              "      <td>59.0</td>\n",
              "      <td>94.0</td>\n",
              "      <td>48.0</td>\n",
              "      <td>22.0</td>\n",
              "      <td>94.0</td>\n",
              "      <td>94.0</td>\n",
              "      <td>75.0</td>\n",
              "      <td>96.0</td>\n",
              "      <td>33.0</td>\n",
              "      <td>28.0</td>\n",
              "      <td>26.0</td>\n",
              "      <td>6.0</td>\n",
              "      <td>11.0</td>\n",
              "      <td>15.0</td>\n",
              "      <td>14.0</td>\n",
              "      <td>8.0</td>\n",
              "      <td>€226.5M</td>\n",
              "    </tr>\n",
              "    <tr>\n",
              "      <th>1</th>\n",
              "      <td>33</td>\n",
              "      <td>Portugal</td>\n",
              "      <td>94</td>\n",
              "      <td>94</td>\n",
              "      <td>Juventus</td>\n",
              "      <td>€77M</td>\n",
              "      <td>€405K</td>\n",
              "      <td>2228</td>\n",
              "      <td>Right</td>\n",
              "      <td>5.0</td>\n",
              "      <td>4.0</td>\n",
              "      <td>5.0</td>\n",
              "      <td>High/ Low</td>\n",
              "      <td>C. Ronaldo</td>\n",
              "      <td>Yes</td>\n",
              "      <td>ST</td>\n",
              "      <td>7.0</td>\n",
              "      <td>7/10/2018</td>\n",
              "      <td>2022</td>\n",
              "      <td>6'2</td>\n",
              "      <td>183lbs</td>\n",
              "      <td>91+3</td>\n",
              "      <td>91+3</td>\n",
              "      <td>91+3</td>\n",
              "      <td>89+3</td>\n",
              "      <td>90+3</td>\n",
              "      <td>90+3</td>\n",
              "      <td>90+3</td>\n",
              "      <td>89+3</td>\n",
              "      <td>88+3</td>\n",
              "      <td>88+3</td>\n",
              "      <td>88+3</td>\n",
              "      <td>88+3</td>\n",
              "      <td>81+3</td>\n",
              "      <td>81+3</td>\n",
              "      <td>81+3</td>\n",
              "      <td>88+3</td>\n",
              "      <td>65+3</td>\n",
              "      <td>61+3</td>\n",
              "      <td>61+3</td>\n",
              "      <td>...</td>\n",
              "      <td>61+3</td>\n",
              "      <td>53+3</td>\n",
              "      <td>53+3</td>\n",
              "      <td>53+3</td>\n",
              "      <td>61+3</td>\n",
              "      <td>84.0</td>\n",
              "      <td>94.0</td>\n",
              "      <td>89.0</td>\n",
              "      <td>81.0</td>\n",
              "      <td>87.0</td>\n",
              "      <td>88.0</td>\n",
              "      <td>81.0</td>\n",
              "      <td>76.0</td>\n",
              "      <td>77.0</td>\n",
              "      <td>94.0</td>\n",
              "      <td>89.0</td>\n",
              "      <td>91.0</td>\n",
              "      <td>87.0</td>\n",
              "      <td>96.0</td>\n",
              "      <td>70.0</td>\n",
              "      <td>95.0</td>\n",
              "      <td>95.0</td>\n",
              "      <td>88.0</td>\n",
              "      <td>79.0</td>\n",
              "      <td>93.0</td>\n",
              "      <td>63.0</td>\n",
              "      <td>29.0</td>\n",
              "      <td>95.0</td>\n",
              "      <td>82.0</td>\n",
              "      <td>85.0</td>\n",
              "      <td>95.0</td>\n",
              "      <td>28.0</td>\n",
              "      <td>31.0</td>\n",
              "      <td>23.0</td>\n",
              "      <td>7.0</td>\n",
              "      <td>11.0</td>\n",
              "      <td>15.0</td>\n",
              "      <td>14.0</td>\n",
              "      <td>11.0</td>\n",
              "      <td>€127.1M</td>\n",
              "    </tr>\n",
              "    <tr>\n",
              "      <th>2</th>\n",
              "      <td>26</td>\n",
              "      <td>Brazil</td>\n",
              "      <td>92</td>\n",
              "      <td>93</td>\n",
              "      <td>Paris Saint-Germain</td>\n",
              "      <td>€118.5M</td>\n",
              "      <td>€290K</td>\n",
              "      <td>2143</td>\n",
              "      <td>Right</td>\n",
              "      <td>5.0</td>\n",
              "      <td>5.0</td>\n",
              "      <td>5.0</td>\n",
              "      <td>High/ Medium</td>\n",
              "      <td>Neymar</td>\n",
              "      <td>Yes</td>\n",
              "      <td>LW</td>\n",
              "      <td>10.0</td>\n",
              "      <td>8/3/2017</td>\n",
              "      <td>2022</td>\n",
              "      <td>5'9</td>\n",
              "      <td>150lbs</td>\n",
              "      <td>84+3</td>\n",
              "      <td>84+3</td>\n",
              "      <td>84+3</td>\n",
              "      <td>89+3</td>\n",
              "      <td>89+3</td>\n",
              "      <td>89+3</td>\n",
              "      <td>89+3</td>\n",
              "      <td>89+3</td>\n",
              "      <td>89+3</td>\n",
              "      <td>89+3</td>\n",
              "      <td>89+3</td>\n",
              "      <td>88+3</td>\n",
              "      <td>81+3</td>\n",
              "      <td>81+3</td>\n",
              "      <td>81+3</td>\n",
              "      <td>88+3</td>\n",
              "      <td>65+3</td>\n",
              "      <td>60+3</td>\n",
              "      <td>60+3</td>\n",
              "      <td>...</td>\n",
              "      <td>60+3</td>\n",
              "      <td>47+3</td>\n",
              "      <td>47+3</td>\n",
              "      <td>47+3</td>\n",
              "      <td>60+3</td>\n",
              "      <td>79.0</td>\n",
              "      <td>87.0</td>\n",
              "      <td>62.0</td>\n",
              "      <td>84.0</td>\n",
              "      <td>84.0</td>\n",
              "      <td>96.0</td>\n",
              "      <td>88.0</td>\n",
              "      <td>87.0</td>\n",
              "      <td>78.0</td>\n",
              "      <td>95.0</td>\n",
              "      <td>94.0</td>\n",
              "      <td>90.0</td>\n",
              "      <td>96.0</td>\n",
              "      <td>94.0</td>\n",
              "      <td>84.0</td>\n",
              "      <td>80.0</td>\n",
              "      <td>61.0</td>\n",
              "      <td>81.0</td>\n",
              "      <td>49.0</td>\n",
              "      <td>82.0</td>\n",
              "      <td>56.0</td>\n",
              "      <td>36.0</td>\n",
              "      <td>89.0</td>\n",
              "      <td>87.0</td>\n",
              "      <td>81.0</td>\n",
              "      <td>94.0</td>\n",
              "      <td>27.0</td>\n",
              "      <td>24.0</td>\n",
              "      <td>33.0</td>\n",
              "      <td>9.0</td>\n",
              "      <td>9.0</td>\n",
              "      <td>15.0</td>\n",
              "      <td>15.0</td>\n",
              "      <td>11.0</td>\n",
              "      <td>€228.1M</td>\n",
              "    </tr>\n",
              "    <tr>\n",
              "      <th>3</th>\n",
              "      <td>27</td>\n",
              "      <td>Spain</td>\n",
              "      <td>91</td>\n",
              "      <td>93</td>\n",
              "      <td>Manchester United</td>\n",
              "      <td>€72M</td>\n",
              "      <td>€260K</td>\n",
              "      <td>1471</td>\n",
              "      <td>Right</td>\n",
              "      <td>4.0</td>\n",
              "      <td>3.0</td>\n",
              "      <td>1.0</td>\n",
              "      <td>Medium/ Medium</td>\n",
              "      <td>Lean</td>\n",
              "      <td>Yes</td>\n",
              "      <td>GK</td>\n",
              "      <td>1.0</td>\n",
              "      <td>7/1/2011</td>\n",
              "      <td>2020</td>\n",
              "      <td>6'4</td>\n",
              "      <td>168lbs</td>\n",
              "      <td>NaN</td>\n",
              "      <td>NaN</td>\n",
              "      <td>NaN</td>\n",
              "      <td>NaN</td>\n",
              "      <td>NaN</td>\n",
              "      <td>NaN</td>\n",
              "      <td>NaN</td>\n",
              "      <td>NaN</td>\n",
              "      <td>NaN</td>\n",
              "      <td>NaN</td>\n",
              "      <td>NaN</td>\n",
              "      <td>NaN</td>\n",
              "      <td>NaN</td>\n",
              "      <td>NaN</td>\n",
              "      <td>NaN</td>\n",
              "      <td>NaN</td>\n",
              "      <td>NaN</td>\n",
              "      <td>NaN</td>\n",
              "      <td>NaN</td>\n",
              "      <td>...</td>\n",
              "      <td>NaN</td>\n",
              "      <td>NaN</td>\n",
              "      <td>NaN</td>\n",
              "      <td>NaN</td>\n",
              "      <td>NaN</td>\n",
              "      <td>17.0</td>\n",
              "      <td>13.0</td>\n",
              "      <td>21.0</td>\n",
              "      <td>50.0</td>\n",
              "      <td>13.0</td>\n",
              "      <td>18.0</td>\n",
              "      <td>21.0</td>\n",
              "      <td>19.0</td>\n",
              "      <td>51.0</td>\n",
              "      <td>42.0</td>\n",
              "      <td>57.0</td>\n",
              "      <td>58.0</td>\n",
              "      <td>60.0</td>\n",
              "      <td>90.0</td>\n",
              "      <td>43.0</td>\n",
              "      <td>31.0</td>\n",
              "      <td>67.0</td>\n",
              "      <td>43.0</td>\n",
              "      <td>64.0</td>\n",
              "      <td>12.0</td>\n",
              "      <td>38.0</td>\n",
              "      <td>30.0</td>\n",
              "      <td>12.0</td>\n",
              "      <td>68.0</td>\n",
              "      <td>40.0</td>\n",
              "      <td>68.0</td>\n",
              "      <td>15.0</td>\n",
              "      <td>21.0</td>\n",
              "      <td>13.0</td>\n",
              "      <td>90.0</td>\n",
              "      <td>85.0</td>\n",
              "      <td>87.0</td>\n",
              "      <td>88.0</td>\n",
              "      <td>94.0</td>\n",
              "      <td>€138.6M</td>\n",
              "    </tr>\n",
              "    <tr>\n",
              "      <th>4</th>\n",
              "      <td>27</td>\n",
              "      <td>Belgium</td>\n",
              "      <td>91</td>\n",
              "      <td>92</td>\n",
              "      <td>Manchester City</td>\n",
              "      <td>€102M</td>\n",
              "      <td>€355K</td>\n",
              "      <td>2281</td>\n",
              "      <td>Right</td>\n",
              "      <td>4.0</td>\n",
              "      <td>5.0</td>\n",
              "      <td>4.0</td>\n",
              "      <td>High/ High</td>\n",
              "      <td>Normal</td>\n",
              "      <td>Yes</td>\n",
              "      <td>RCM</td>\n",
              "      <td>7.0</td>\n",
              "      <td>8/30/2015</td>\n",
              "      <td>2023</td>\n",
              "      <td>5'11</td>\n",
              "      <td>154lbs</td>\n",
              "      <td>82+3</td>\n",
              "      <td>82+3</td>\n",
              "      <td>82+3</td>\n",
              "      <td>87+3</td>\n",
              "      <td>87+3</td>\n",
              "      <td>87+3</td>\n",
              "      <td>87+3</td>\n",
              "      <td>87+3</td>\n",
              "      <td>88+3</td>\n",
              "      <td>88+3</td>\n",
              "      <td>88+3</td>\n",
              "      <td>88+3</td>\n",
              "      <td>87+3</td>\n",
              "      <td>87+3</td>\n",
              "      <td>87+3</td>\n",
              "      <td>88+3</td>\n",
              "      <td>77+3</td>\n",
              "      <td>77+3</td>\n",
              "      <td>77+3</td>\n",
              "      <td>...</td>\n",
              "      <td>73+3</td>\n",
              "      <td>66+3</td>\n",
              "      <td>66+3</td>\n",
              "      <td>66+3</td>\n",
              "      <td>73+3</td>\n",
              "      <td>93.0</td>\n",
              "      <td>82.0</td>\n",
              "      <td>55.0</td>\n",
              "      <td>92.0</td>\n",
              "      <td>82.0</td>\n",
              "      <td>86.0</td>\n",
              "      <td>85.0</td>\n",
              "      <td>83.0</td>\n",
              "      <td>91.0</td>\n",
              "      <td>91.0</td>\n",
              "      <td>78.0</td>\n",
              "      <td>76.0</td>\n",
              "      <td>79.0</td>\n",
              "      <td>91.0</td>\n",
              "      <td>77.0</td>\n",
              "      <td>91.0</td>\n",
              "      <td>63.0</td>\n",
              "      <td>90.0</td>\n",
              "      <td>75.0</td>\n",
              "      <td>91.0</td>\n",
              "      <td>76.0</td>\n",
              "      <td>61.0</td>\n",
              "      <td>87.0</td>\n",
              "      <td>94.0</td>\n",
              "      <td>79.0</td>\n",
              "      <td>88.0</td>\n",
              "      <td>68.0</td>\n",
              "      <td>58.0</td>\n",
              "      <td>51.0</td>\n",
              "      <td>15.0</td>\n",
              "      <td>13.0</td>\n",
              "      <td>5.0</td>\n",
              "      <td>10.0</td>\n",
              "      <td>13.0</td>\n",
              "      <td>€196.4M</td>\n",
              "    </tr>\n",
              "  </tbody>\n",
              "</table>\n",
              "<p>5 rows × 82 columns</p>\n",
              "</div>"
            ],
            "text/plain": [
              "   Age Nationality  Overall  ...  GKPositioning GKReflexes Release Clause\n",
              "0   31   Argentina       94  ...           14.0        8.0        €226.5M\n",
              "1   33    Portugal       94  ...           14.0       11.0        €127.1M\n",
              "2   26      Brazil       92  ...           15.0       11.0        €228.1M\n",
              "3   27       Spain       91  ...           88.0       94.0        €138.6M\n",
              "4   27     Belgium       91  ...           10.0       13.0        €196.4M\n",
              "\n",
              "[5 rows x 82 columns]"
            ]
          },
          "metadata": {
            "tags": []
          },
          "execution_count": 2
        }
      ]
    },
    {
      "cell_type": "code",
      "metadata": {
        "id": "U6hrWmR5eFay",
        "outputId": "936664f4-9bb5-4ba3-bf35-0965f0568217",
        "colab": {
          "base_uri": "https://localhost:8080/",
          "height": 1000
        }
      },
      "source": [
        "Xdata.info()"
      ],
      "execution_count": 3,
      "outputs": [
        {
          "output_type": "stream",
          "text": [
            "<class 'pandas.core.frame.DataFrame'>\n",
            "RangeIndex: 18207 entries, 0 to 18206\n",
            "Data columns (total 82 columns):\n",
            " #   Column                    Non-Null Count  Dtype  \n",
            "---  ------                    --------------  -----  \n",
            " 0   Age                       18207 non-null  int64  \n",
            " 1   Nationality               18207 non-null  object \n",
            " 2   Overall                   18207 non-null  int64  \n",
            " 3   Potential                 18207 non-null  int64  \n",
            " 4   Club                      17966 non-null  object \n",
            " 5   Value                     18207 non-null  object \n",
            " 6   Wage                      18207 non-null  object \n",
            " 7   Special                   18207 non-null  int64  \n",
            " 8   Preferred Foot            18159 non-null  object \n",
            " 9   International Reputation  18159 non-null  float64\n",
            " 10  Weak Foot                 18159 non-null  float64\n",
            " 11  Skill Moves               18159 non-null  float64\n",
            " 12  Work Rate                 18159 non-null  object \n",
            " 13  Body Type                 18159 non-null  object \n",
            " 14  Real Face                 18159 non-null  object \n",
            " 15  Position                  18147 non-null  object \n",
            " 16  Jersey Number             18147 non-null  float64\n",
            " 17  Joined                    16654 non-null  object \n",
            " 18  Contract Valid Until      17918 non-null  object \n",
            " 19  Height                    18159 non-null  object \n",
            " 20  Weight                    18159 non-null  object \n",
            " 21  LS                        16122 non-null  object \n",
            " 22  ST                        16122 non-null  object \n",
            " 23  RS                        16122 non-null  object \n",
            " 24  LW                        16122 non-null  object \n",
            " 25  LF                        16122 non-null  object \n",
            " 26  CF                        16122 non-null  object \n",
            " 27  RF                        16122 non-null  object \n",
            " 28  RW                        16122 non-null  object \n",
            " 29  LAM                       16122 non-null  object \n",
            " 30  CAM                       16122 non-null  object \n",
            " 31  RAM                       16122 non-null  object \n",
            " 32  LM                        16122 non-null  object \n",
            " 33  LCM                       16122 non-null  object \n",
            " 34  CM                        16122 non-null  object \n",
            " 35  RCM                       16122 non-null  object \n",
            " 36  RM                        16122 non-null  object \n",
            " 37  LWB                       16122 non-null  object \n",
            " 38  LDM                       16122 non-null  object \n",
            " 39  CDM                       16122 non-null  object \n",
            " 40  RDM                       16122 non-null  object \n",
            " 41  RWB                       16122 non-null  object \n",
            " 42  LB                        16122 non-null  object \n",
            " 43  LCB                       16122 non-null  object \n",
            " 44  CB                        16122 non-null  object \n",
            " 45  RCB                       16122 non-null  object \n",
            " 46  RB                        16122 non-null  object \n",
            " 47  Crossing                  18159 non-null  float64\n",
            " 48  Finishing                 18159 non-null  float64\n",
            " 49  HeadingAccuracy           18159 non-null  float64\n",
            " 50  ShortPassing              18159 non-null  float64\n",
            " 51  Volleys                   18159 non-null  float64\n",
            " 52  Dribbling                 18159 non-null  float64\n",
            " 53  Curve                     18159 non-null  float64\n",
            " 54  FKAccuracy                18159 non-null  float64\n",
            " 55  LongPassing               18159 non-null  float64\n",
            " 56  BallControl               18159 non-null  float64\n",
            " 57  Acceleration              18159 non-null  float64\n",
            " 58  SprintSpeed               18159 non-null  float64\n",
            " 59  Agility                   18159 non-null  float64\n",
            " 60  Reactions                 18159 non-null  float64\n",
            " 61  Balance                   18159 non-null  float64\n",
            " 62  ShotPower                 18159 non-null  float64\n",
            " 63  Jumping                   18159 non-null  float64\n",
            " 64  Stamina                   18159 non-null  float64\n",
            " 65  Strength                  18159 non-null  float64\n",
            " 66  LongShots                 18159 non-null  float64\n",
            " 67  Aggression                18159 non-null  float64\n",
            " 68  Interceptions             18159 non-null  float64\n",
            " 69  Positioning               18159 non-null  float64\n",
            " 70  Vision                    18159 non-null  float64\n",
            " 71  Penalties                 18159 non-null  float64\n",
            " 72  Composure                 18159 non-null  float64\n",
            " 73  Marking                   18159 non-null  float64\n",
            " 74  StandingTackle            18159 non-null  float64\n",
            " 75  SlidingTackle             18159 non-null  float64\n",
            " 76  GKDiving                  18159 non-null  float64\n",
            " 77  GKHandling                18159 non-null  float64\n",
            " 78  GKKicking                 18159 non-null  float64\n",
            " 79  GKPositioning             18159 non-null  float64\n",
            " 80  GKReflexes                18159 non-null  float64\n",
            " 81  Release Clause            16643 non-null  object \n",
            "dtypes: float64(38), int64(4), object(40)\n",
            "memory usage: 11.4+ MB\n"
          ],
          "name": "stdout"
        }
      ]
    },
    {
      "cell_type": "code",
      "metadata": {
        "id": "mM_si20zfVQz"
      },
      "source": [
        "#Paso 2: Particion entrenamiento y validacion\n",
        "# Tamaño Xtrain 70%, Tamaño Xtest 30%\n",
        "import warnings\n",
        "warnings.filterwarnings(\"ignore\")\n",
        "\n",
        "from sklearn.model_selection import train_test_split\n",
        "Xtrain, Xtest = train_test_split(Xdata,test_size=0.3)\n",
        "col_sal = \"Release Clause\"\n",
        "ytrain = Xtrain[col_sal]\n",
        "ytest = Xtest[col_sal]\n",
        "Xtrain.drop(columns=col_sal,inplace=True)\n",
        "Xtest.drop(columns=col_sal,inplace=True)\n"
      ],
      "execution_count": 4,
      "outputs": []
    },
    {
      "cell_type": "code",
      "metadata": {
        "id": "hHjxl2-2iNzX",
        "outputId": "2b190343-635f-4f93-f9e0-1d3f9fc9ecde",
        "colab": {
          "base_uri": "https://localhost:8080/",
          "height": 35
        }
      },
      "source": [
        "from sklearn.impute import SimpleImputer\n",
        "imputer = SimpleImputer(strategy=\"most_frequent\")\n",
        "ytrain = imputer.fit_transform(pd.DataFrame(ytrain))\n",
        "ytrain = ytrain.reshape(-1)\n",
        "\n",
        "ytest = imputer.transform(pd.DataFrame(ytest))\n",
        "ytest = ytest.reshape(-1)\n",
        "\n",
        "print(ytrain.shape, ytest.shape)"
      ],
      "execution_count": 5,
      "outputs": [
        {
          "output_type": "stream",
          "text": [
            "(12744,) (5463,)\n"
          ],
          "name": "stdout"
        }
      ]
    },
    {
      "cell_type": "code",
      "metadata": {
        "id": "1EO1E8DQljhF",
        "outputId": "53ee9ae0-48b2-4475-f726-861ae1d743f4",
        "colab": {
          "base_uri": "https://localhost:8080/",
          "height": 52
        }
      },
      "source": [
        "a = ytrain[0]\n",
        "print(a,print(a[1:-1]))\n"
      ],
      "execution_count": 6,
      "outputs": [
        {
          "output_type": "stream",
          "text": [
            "9.6\n",
            "€9.6M None\n"
          ],
          "name": "stdout"
        }
      ]
    },
    {
      "cell_type": "code",
      "metadata": {
        "id": "7LgKYWa0l9xc"
      },
      "source": [
        "#%%   \n",
        "#codificar estadísticas -> jugadores fifa ej 88+3\n",
        "def code_stats(y):\n",
        "    yc = np.zeros(y.shape[0])\n",
        "    for i in range(y.shape[0]):\n",
        "        #print(y.iloc[i])\n",
        "        \n",
        "        if y.iloc[i].find(\"+\") > -1: # encontrar signo mas en str y casteo a flotante\n",
        "            yc[i] = float(y.iloc[i][:y.iloc[i].find(\"+\")])+float(y.iloc[i][y.iloc[i].find(\"+\")+1:])\n",
        "        else: yc[i] = float(y.iloc[i])\n",
        "        #print(yc[i])\n",
        "    return yc   \n",
        "\n",
        "#codificar moneda ->\n",
        "def code_euro(y):\n",
        "    yc = np.zeros(y.shape[0])\n",
        "    for i in range(y.shape[0]):\n",
        "      #  print(i,y[i])\n",
        "        if y[i][-1]=='M': yc[i] = float(y[i][1:-1])*10**6 #buscar M y reemplazar 10^6\n",
        "        elif y[i][-1]=='K': yc[i] = float(y[i][1:-1])*10**3 # buscar K y reemplazar por 10^3\n",
        "        else: yc[i] = float(y[i][1:])\n",
        "        #print(yc[i])\n",
        "    return yc "
      ],
      "execution_count": 7,
      "outputs": []
    },
    {
      "cell_type": "code",
      "metadata": {
        "id": "_MU_7r93ndmv"
      },
      "source": [
        "#codificar salida\n",
        "ytrain_num = code_euro(ytrain)\n",
        "ytest_num = code_euro(ytest)"
      ],
      "execution_count": 8,
      "outputs": []
    },
    {
      "cell_type": "code",
      "metadata": {
        "id": "IPODsXh8ntmQ",
        "outputId": "36d15e77-e3b2-446e-afa7-bbaf535a3d6f",
        "colab": {
          "base_uri": "https://localhost:8080/",
          "height": 35
        }
      },
      "source": [
        "ytrain_num[:5]"
      ],
      "execution_count": 9,
      "outputs": [
        {
          "output_type": "execute_result",
          "data": {
            "text/plain": [
              "array([9600000.,  914000., 3500000., 1100000., 1000000.])"
            ]
          },
          "metadata": {
            "tags": []
          },
          "execution_count": 9
        }
      ]
    },
    {
      "cell_type": "code",
      "metadata": {
        "id": "5TOiHnaJnvhF",
        "outputId": "8f2df6b1-285c-4a23-f411-30feebfbd572",
        "colab": {
          "base_uri": "https://localhost:8080/",
          "height": 537
        }
      },
      "source": [
        "import matplotlib.pyplot as plt\n",
        "plt.hist(ytrain_num,bins = 100)\n",
        "plt.show()\n",
        "\n",
        "plt.boxplot(ytrain_num)\n",
        "plt.show()"
      ],
      "execution_count": 10,
      "outputs": [
        {
          "output_type": "display_data",
          "data": {
            "image/png": "[encoded data removed]",
            "text/plain": [
              "<Figure size 432x288 with 1 Axes>"
            ]
          },
          "metadata": {
            "tags": [],
            "needs_background": "light"
          }
        },
        {
          "output_type": "display_data",
          "data": {
            "image/png": "[encoded data removed]",
            "text/plain": [
              "<Figure size 432x288 with 1 Axes>"
            ]
          },
          "metadata": {
            "tags": [],
            "needs_background": "light"
          }
        }
      ]
    },
    {
      "cell_type": "code",
      "metadata": {
        "id": "7i4yEtRcoC1F"
      },
      "source": [
        "#definir columnas tipo string  para codificar moneda, estadistica fifa y categoricas\n",
        "col_euro = ['Value','Wage'];\n",
        "col_stats = ['LS','ST','RS','LW','LF','CF','RF','RW','LAM',\n",
        "             'CAM','RAM','LM','LCM','CM','RCM','RM','LWB',\n",
        "             'LDM','CDM','RDM','RWB','LB','LCB','CB','RCB','RB'];\n",
        "\n",
        "cat = ['Nationality','Club','Body Type','Position','Preferred Foot',\n",
        "        'Work Rate','Real Face','Contract Valid Until']\n",
        "items = [] \n",
        "for i in cat:\n",
        "    items += [list(Xdata[i].value_counts().index)]# ['Alto','Medio','Bajo']\n",
        "cat_usr = dict(zip(cat, items))"
      ],
      "execution_count": 11,
      "outputs": []
    },
    {
      "cell_type": "markdown",
      "metadata": {
        "id": "7AzzTDXFYLyU"
      },
      "source": [
        "# Crear clase propia de preproceso para Fifa"
      ]
    },
    {
      "cell_type": "code",
      "metadata": {
        "id": "L511SbLFq4xM"
      },
      "source": [
        "#%% dummy transformer\n",
        "from sklearn.base import BaseEstimator, TransformerMixin\n",
        "from sklearn.impute import SimpleImputer \n",
        "from sklearn.preprocessing import OrdinalEncoder,OneHotEncoder\n",
        "\n",
        "class dummy_fifa(BaseEstimator,TransformerMixin):\n",
        "    #inicializacion de clase y varaibles\n",
        "    def __init__(self, col_euro,col_stats, cat_usr): #constructor clase\n",
        "        self.col_euro = col_euro #lista atributos tipo moneda\n",
        "        self.col_stats = col_stats #lista atributos tipo estadistica\n",
        "        self.cat_usr = cat_usr #lista de atributos categoricos\n",
        "\n",
        "    def fit(self,X, *_):\n",
        "        Xi = X.copy() #copiar dataset para no reemplazar original\n",
        "        self.imputer_num = SimpleImputer(strategy=\"most_frequent\") #crear imputador tipo modo\n",
        "        self.a = Xi.columns[np.sum(Xi.isna())> 0] #encontrar columnas con datos faltantes\n",
        "        #print(a)\n",
        "        self.imputer_num.fit(Xi[self.a]) # ajustar imputador\n",
        "        \n",
        "        Xi[self.a] = self.imputer_num.transform(Xi[self.a]) #evaluar  sobre datos imputador\n",
        "        #print('Cod Euros\\n')\n",
        "        for i in self.col_euro: #codificar tipo moneda\n",
        "         #   print(i)\n",
        "            Xi[i] = code_euro(np.array(Xi[i]))\n",
        "        #print('Cod stats\\n')    \n",
        "        for i in self.col_stats: #codificar datos estadisticos\n",
        "         #   print(i)\n",
        "            Xi[i] = code_stats(Xi[i])\n",
        "        \n",
        "        #height, wieght corregir formato\n",
        "        Xi['Height'].replace(regex=[\"'\"], value='.',inplace=True)        \n",
        "        for i in Xi.index:\n",
        "            #print(float(Xi.loc[i,'Weight'][:-3]))\n",
        "            Xi.loc[i,'Weight'] = float(Xi.loc[i,'Weight'][:-3])\n",
        "            Xi.loc[i,'Height'] = float(Xi.loc[i,'Height'])\n",
        "        \n",
        "        Xi['Height'] = Xi['Height'].astype('float64');#print(Xi['Height'].dtype)\n",
        "        \n",
        "        Xi['Joined'] = Xi['Joined'].replace(regex=\"/\",value=\"\")\n",
        "        Xi['Joined'] = Xi['Joined'].astype('float64')\n",
        "        \n",
        "        \n",
        "        \n",
        "        cat = [] #codificar variables categoricas con ordinal encoder\n",
        "        for i in self.cat_usr.keys():\n",
        "            cat = cat + [[*self.cat_usr.get(i)]]\n",
        "        self.col_cat_usr = OrdinalEncoder(categories=cat)\n",
        "        Xi[[*self.cat_usr.keys()]] =self.col_cat_usr.fit_transform(Xi[[*self.cat_usr.keys()]])\n",
        "        \n",
        "        #self.col_cat = Xi.columns[Xi.dtypes=='O']\n",
        "        #self.cod = OrdinalEncoder()\n",
        "        #self.cod.fit(Xi[self.col_cat])\n",
        "        \n",
        "        return self    \n",
        "\n",
        "    def transform(self, X, *_):#funcion transformador\n",
        "        Xi = X.copy()\n",
        "        Xi[self.a] = self.imputer_num.transform(Xi[self.a])\n",
        "        \n",
        "        for i in self.col_euro:\n",
        "         #   print(i)\n",
        "            Xi[i] = code_euro(np.array(Xi[i]))\n",
        "        #print('Cod stats\\n')    \n",
        "        for i in self.col_stats:\n",
        "         #   print(i)\n",
        "            Xi[i] = code_stats(Xi[i])\n",
        "        \n",
        "        #height, wieght\n",
        "        Xi['Height'].replace(regex=[\"'\"], value='.',inplace=True)        \n",
        "        for i in Xi.index:\n",
        "            #print(float(Xi.loc[i,'Weight'][:-3]))\n",
        "            Xi.loc[i,'Weight'] = float(Xi.loc[i,'Weight'][:-3])\n",
        "            Xi.loc[i,'Height'] = float(Xi.loc[i,'Height'])\n",
        "        \n",
        "        Xi['Height'] = Xi['Height'].astype('float64')\n",
        "        Xi['Weight'] = Xi['Weight'].astype('float64')\n",
        "            \n",
        "        Xi['Joined'] = Xi['Joined'].replace(regex=\"/\",value=\"\")\n",
        "        Xi['Joined'] = Xi['Joined'].astype('float64')\n",
        "        \n",
        "        Xi[[*self.cat_usr.keys()]] =self.col_cat_usr.transform(Xi[[*self.cat_usr.keys()]])\n",
        "        #Xi[self.col_cat]= self.cod.transform(Xi[self.col_cat])\n",
        "        return Xi\n",
        "    \n",
        "    def fit_transform(self,X,*_):\n",
        "        self.fit(X)\n",
        "        return self.transform(X)"
      ],
      "execution_count": 12,
      "outputs": []
    },
    {
      "cell_type": "code",
      "metadata": {
        "id": "e6vm9wF_q_8E"
      },
      "source": [
        "dummy = dummy_fifa(col_euro=col_euro,col_stats=col_stats,cat_usr = cat_usr)\n",
        "Xtrain_pre = dummy.fit_transform(Xtrain)"
      ],
      "execution_count": 13,
      "outputs": []
    },
    {
      "cell_type": "code",
      "metadata": {
        "id": "ir2sCB3lfQsc",
        "outputId": "2a7f9816-07a3-420c-9359-9d2b1a2bcbc6",
        "colab": {
          "base_uri": "https://localhost:8080/",
          "height": 1000
        }
      },
      "source": [
        "Xtrain_pre.info()"
      ],
      "execution_count": 14,
      "outputs": [
        {
          "output_type": "stream",
          "text": [
            "<class 'pandas.core.frame.DataFrame'>\n",
            "Int64Index: 12744 entries, 5057 to 11387\n",
            "Data columns (total 81 columns):\n",
            " #   Column                    Non-Null Count  Dtype  \n",
            "---  ------                    --------------  -----  \n",
            " 0   Age                       12744 non-null  int64  \n",
            " 1   Nationality               12744 non-null  float64\n",
            " 2   Overall                   12744 non-null  int64  \n",
            " 3   Potential                 12744 non-null  int64  \n",
            " 4   Club                      12744 non-null  float64\n",
            " 5   Value                     12744 non-null  float64\n",
            " 6   Wage                      12744 non-null  float64\n",
            " 7   Special                   12744 non-null  int64  \n",
            " 8   Preferred Foot            12744 non-null  float64\n",
            " 9   International Reputation  12744 non-null  float64\n",
            " 10  Weak Foot                 12744 non-null  float64\n",
            " 11  Skill Moves               12744 non-null  float64\n",
            " 12  Work Rate                 12744 non-null  float64\n",
            " 13  Body Type                 12744 non-null  float64\n",
            " 14  Real Face                 12744 non-null  float64\n",
            " 15  Position                  12744 non-null  float64\n",
            " 16  Jersey Number             12744 non-null  float64\n",
            " 17  Joined                    12744 non-null  float64\n",
            " 18  Contract Valid Until      12744 non-null  float64\n",
            " 19  Height                    12744 non-null  float64\n",
            " 20  Weight                    12744 non-null  float64\n",
            " 21  LS                        12744 non-null  float64\n",
            " 22  ST                        12744 non-null  float64\n",
            " 23  RS                        12744 non-null  float64\n",
            " 24  LW                        12744 non-null  float64\n",
            " 25  LF                        12744 non-null  float64\n",
            " 26  CF                        12744 non-null  float64\n",
            " 27  RF                        12744 non-null  float64\n",
            " 28  RW                        12744 non-null  float64\n",
            " 29  LAM                       12744 non-null  float64\n",
            " 30  CAM                       12744 non-null  float64\n",
            " 31  RAM                       12744 non-null  float64\n",
            " 32  LM                        12744 non-null  float64\n",
            " 33  LCM                       12744 non-null  float64\n",
            " 34  CM                        12744 non-null  float64\n",
            " 35  RCM                       12744 non-null  float64\n",
            " 36  RM                        12744 non-null  float64\n",
            " 37  LWB                       12744 non-null  float64\n",
            " 38  LDM                       12744 non-null  float64\n",
            " 39  CDM                       12744 non-null  float64\n",
            " 40  RDM                       12744 non-null  float64\n",
            " 41  RWB                       12744 non-null  float64\n",
            " 42  LB                        12744 non-null  float64\n",
            " 43  LCB                       12744 non-null  float64\n",
            " 44  CB                        12744 non-null  float64\n",
            " 45  RCB                       12744 non-null  float64\n",
            " 46  RB                        12744 non-null  float64\n",
            " 47  Crossing                  12744 non-null  float64\n",
            " 48  Finishing                 12744 non-null  float64\n",
            " 49  HeadingAccuracy           12744 non-null  float64\n",
            " 50  ShortPassing              12744 non-null  float64\n",
            " 51  Volleys                   12744 non-null  float64\n",
            " 52  Dribbling                 12744 non-null  float64\n",
            " 53  Curve                     12744 non-null  float64\n",
            " 54  FKAccuracy                12744 non-null  float64\n",
            " 55  LongPassing               12744 non-null  float64\n",
            " 56  BallControl               12744 non-null  float64\n",
            " 57  Acceleration              12744 non-null  float64\n",
            " 58  SprintSpeed               12744 non-null  float64\n",
            " 59  Agility                   12744 non-null  float64\n",
            " 60  Reactions                 12744 non-null  float64\n",
            " 61  Balance                   12744 non-null  float64\n",
            " 62  ShotPower                 12744 non-null  float64\n",
            " 63  Jumping                   12744 non-null  float64\n",
            " 64  Stamina                   12744 non-null  float64\n",
            " 65  Strength                  12744 non-null  float64\n",
            " 66  LongShots                 12744 non-null  float64\n",
            " 67  Aggression                12744 non-null  float64\n",
            " 68  Interceptions             12744 non-null  float64\n",
            " 69  Positioning               12744 non-null  float64\n",
            " 70  Vision                    12744 non-null  float64\n",
            " 71  Penalties                 12744 non-null  float64\n",
            " 72  Composure                 12744 non-null  float64\n",
            " 73  Marking                   12744 non-null  float64\n",
            " 74  StandingTackle            12744 non-null  float64\n",
            " 75  SlidingTackle             12744 non-null  float64\n",
            " 76  GKDiving                  12744 non-null  float64\n",
            " 77  GKHandling                12744 non-null  float64\n",
            " 78  GKKicking                 12744 non-null  float64\n",
            " 79  GKPositioning             12744 non-null  float64\n",
            " 80  GKReflexes                12744 non-null  float64\n",
            "dtypes: float64(77), int64(4)\n",
            "memory usage: 8.6 MB\n"
          ],
          "name": "stdout"
        }
      ]
    },
    {
      "cell_type": "markdown",
      "metadata": {
        "id": "rsQw6ftajLgW"
      },
      "source": [
        "# Predicción variable de interés desde datos preprocesados"
      ]
    },
    {
      "cell_type": "code",
      "metadata": {
        "id": "vjB8mmnIjOdM"
      },
      "source": [
        "\n",
        "from sklearn.decomposition import PCA \n",
        "from sklearn.preprocessing import StandardScaler\n",
        "sca = StandardScaler()\n",
        "Xtrain_pre_z = sca.fit_transform(Xtrain_pre)\n"
      ],
      "execution_count": 15,
      "outputs": []
    },
    {
      "cell_type": "code",
      "metadata": {
        "id": "Be8U9QqLj3YF",
        "outputId": "fb816ce7-f32e-4920-8ad4-72b73ea0ab39",
        "colab": {
          "base_uri": "https://localhost:8080/",
          "height": 104
        }
      },
      "source": [
        "Xtrain_pre_z.var(axis=0)"
      ],
      "execution_count": 18,
      "outputs": [
        {
          "output_type": "execute_result",
          "data": {
            "text/plain": [
              "array([1., 1., 1., 1., 1., 1., 1., 1., 1., 1., 1., 1., 1., 1., 1., 1., 1.,\n",
              "       1., 1., 1., 1., 1., 1., 1., 1., 1., 1., 1., 1., 1., 1., 1., 1., 1.,\n",
              "       1., 1., 1., 1., 1., 1., 1., 1., 1., 1., 1., 1., 1., 1., 1., 1., 1.,\n",
              "       1., 1., 1., 1., 1., 1., 1., 1., 1., 1., 1., 1., 1., 1., 1., 1., 1.,\n",
              "       1., 1., 1., 1., 1., 1., 1., 1., 1., 1., 1., 1., 1.])"
            ]
          },
          "metadata": {
            "tags": []
          },
          "execution_count": 18
        }
      ]
    },
    {
      "cell_type": "code",
      "metadata": {
        "id": "26hg10Bhj404",
        "outputId": "d5c4ee33-149c-4091-d7b0-ac727e69c34c",
        "colab": {
          "base_uri": "https://localhost:8080/",
          "height": 225
        }
      },
      "source": [
        "Xtrain_pre.var(axis=0)"
      ],
      "execution_count": 20,
      "outputs": [
        {
          "output_type": "execute_result",
          "data": {
            "text/plain": [
              "Age                 21.728137\n",
              "Nationality        429.420420\n",
              "Overall             47.896924\n",
              "Potential           37.519902\n",
              "Club             35228.559656\n",
              "                     ...     \n",
              "GKDiving           309.723264\n",
              "GKHandling         281.911583\n",
              "GKKicking          269.689187\n",
              "GKPositioning      285.858641\n",
              "GKReflexes         318.604599\n",
              "Length: 81, dtype: float64"
            ]
          },
          "metadata": {
            "tags": []
          },
          "execution_count": 20
        }
      ]
    },
    {
      "cell_type": "code",
      "metadata": {
        "id": "AZfq1b1PlH5R"
      },
      "source": [
        "red = PCA()\n",
        "zz = red.fit_transform(Xtrain_pre_z)\n",
        "\n",
        "zztest = \n"
      ],
      "execution_count": 24,
      "outputs": []
    },
    {
      "cell_type": "code",
      "metadata": {
        "id": "bFpDVDvBkHPU",
        "outputId": "b44c26fe-e1a2-4d06-d40b-a8fce8f7a2b9",
        "colab": {
          "base_uri": "https://localhost:8080/",
          "height": 276
        }
      },
      "source": [
        "plt.scatter(zz[:,0],zz[:,1],c=ytrain_num,s = 100*Xtrain_pre['Value']/(Xtrain_pre['Value'].max()))\n",
        "plt.colorbar()\n",
        "plt.show()"
      ],
      "execution_count": 27,
      "outputs": [
        {
          "output_type": "display_data",
          "data": {
            "image/png": "[encoded data removed]",
            "text/plain": [
              "<Figure size 432x288 with 2 Axes>"
            ]
          },
          "metadata": {
            "tags": [],
            "needs_background": "light"
          }
        }
      ]
    },
    {
      "cell_type": "code",
      "metadata": {
        "id": "GGdRHKsgmDwb"
      },
      "source": [
        "# proceso con test\n",
        "Xtest_pre = dummy.transform(Xtest)\n"
      ],
      "execution_count": 28,
      "outputs": []
    },
    {
      "cell_type": "code",
      "metadata": {
        "id": "ZJ3r4lVupOOo",
        "outputId": "585b3b45-3986-4157-de2f-df81f72dc963",
        "colab": {
          "base_uri": "https://localhost:8080/",
          "height": 225
        }
      },
      "source": [
        "Xtest_pre['Value']"
      ],
      "execution_count": 37,
      "outputs": [
        {
          "output_type": "execute_result",
          "data": {
            "text/plain": [
              "7123      600000.0\n",
              "11979     800000.0\n",
              "12683     425000.0\n",
              "13240     400000.0\n",
              "8342      825000.0\n",
              "           ...    \n",
              "6382     1400000.0\n",
              "13149     300000.0\n",
              "8279     1300000.0\n",
              "16308     150000.0\n",
              "2024     6000000.0\n",
              "Name: Value, Length: 5463, dtype: float64"
            ]
          },
          "metadata": {
            "tags": []
          },
          "execution_count": 37
        }
      ]
    },
    {
      "cell_type": "code",
      "metadata": {
        "id": "KC-q25BPmHsN",
        "outputId": "e569fa39-3d74-4e64-d648-16f0b9439992",
        "colab": {
          "base_uri": "https://localhost:8080/",
          "height": 1000
        }
      },
      "source": [
        "Xtest_pre.info()"
      ],
      "execution_count": 30,
      "outputs": [
        {
          "output_type": "stream",
          "text": [
            "<class 'pandas.core.frame.DataFrame'>\n",
            "Int64Index: 5463 entries, 7123 to 2024\n",
            "Data columns (total 81 columns):\n",
            " #   Column                    Non-Null Count  Dtype  \n",
            "---  ------                    --------------  -----  \n",
            " 0   Age                       5463 non-null   int64  \n",
            " 1   Nationality               5463 non-null   float64\n",
            " 2   Overall                   5463 non-null   int64  \n",
            " 3   Potential                 5463 non-null   int64  \n",
            " 4   Club                      5463 non-null   float64\n",
            " 5   Value                     5463 non-null   float64\n",
            " 6   Wage                      5463 non-null   float64\n",
            " 7   Special                   5463 non-null   int64  \n",
            " 8   Preferred Foot            5463 non-null   float64\n",
            " 9   International Reputation  5463 non-null   float64\n",
            " 10  Weak Foot                 5463 non-null   float64\n",
            " 11  Skill Moves               5463 non-null   float64\n",
            " 12  Work Rate                 5463 non-null   float64\n",
            " 13  Body Type                 5463 non-null   float64\n",
            " 14  Real Face                 5463 non-null   float64\n",
            " 15  Position                  5463 non-null   float64\n",
            " 16  Jersey Number             5463 non-null   float64\n",
            " 17  Joined                    5463 non-null   float64\n",
            " 18  Contract Valid Until      5463 non-null   float64\n",
            " 19  Height                    5463 non-null   float64\n",
            " 20  Weight                    5463 non-null   float64\n",
            " 21  LS                        5463 non-null   float64\n",
            " 22  ST                        5463 non-null   float64\n",
            " 23  RS                        5463 non-null   float64\n",
            " 24  LW                        5463 non-null   float64\n",
            " 25  LF                        5463 non-null   float64\n",
            " 26  CF                        5463 non-null   float64\n",
            " 27  RF                        5463 non-null   float64\n",
            " 28  RW                        5463 non-null   float64\n",
            " 29  LAM                       5463 non-null   float64\n",
            " 30  CAM                       5463 non-null   float64\n",
            " 31  RAM                       5463 non-null   float64\n",
            " 32  LM                        5463 non-null   float64\n",
            " 33  LCM                       5463 non-null   float64\n",
            " 34  CM                        5463 non-null   float64\n",
            " 35  RCM                       5463 non-null   float64\n",
            " 36  RM                        5463 non-null   float64\n",
            " 37  LWB                       5463 non-null   float64\n",
            " 38  LDM                       5463 non-null   float64\n",
            " 39  CDM                       5463 non-null   float64\n",
            " 40  RDM                       5463 non-null   float64\n",
            " 41  RWB                       5463 non-null   float64\n",
            " 42  LB                        5463 non-null   float64\n",
            " 43  LCB                       5463 non-null   float64\n",
            " 44  CB                        5463 non-null   float64\n",
            " 45  RCB                       5463 non-null   float64\n",
            " 46  RB                        5463 non-null   float64\n",
            " 47  Crossing                  5463 non-null   float64\n",
            " 48  Finishing                 5463 non-null   float64\n",
            " 49  HeadingAccuracy           5463 non-null   float64\n",
            " 50  ShortPassing              5463 non-null   float64\n",
            " 51  Volleys                   5463 non-null   float64\n",
            " 52  Dribbling                 5463 non-null   float64\n",
            " 53  Curve                     5463 non-null   float64\n",
            " 54  FKAccuracy                5463 non-null   float64\n",
            " 55  LongPassing               5463 non-null   float64\n",
            " 56  BallControl               5463 non-null   float64\n",
            " 57  Acceleration              5463 non-null   float64\n",
            " 58  SprintSpeed               5463 non-null   float64\n",
            " 59  Agility                   5463 non-null   float64\n",
            " 60  Reactions                 5463 non-null   float64\n",
            " 61  Balance                   5463 non-null   float64\n",
            " 62  ShotPower                 5463 non-null   float64\n",
            " 63  Jumping                   5463 non-null   float64\n",
            " 64  Stamina                   5463 non-null   float64\n",
            " 65  Strength                  5463 non-null   float64\n",
            " 66  LongShots                 5463 non-null   float64\n",
            " 67  Aggression                5463 non-null   float64\n",
            " 68  Interceptions             5463 non-null   float64\n",
            " 69  Positioning               5463 non-null   float64\n",
            " 70  Vision                    5463 non-null   float64\n",
            " 71  Penalties                 5463 non-null   float64\n",
            " 72  Composure                 5463 non-null   float64\n",
            " 73  Marking                   5463 non-null   float64\n",
            " 74  StandingTackle            5463 non-null   float64\n",
            " 75  SlidingTackle             5463 non-null   float64\n",
            " 76  GKDiving                  5463 non-null   float64\n",
            " 77  GKHandling                5463 non-null   float64\n",
            " 78  GKKicking                 5463 non-null   float64\n",
            " 79  GKPositioning             5463 non-null   float64\n",
            " 80  GKReflexes                5463 non-null   float64\n",
            "dtypes: float64(77), int64(4)\n",
            "memory usage: 3.6 MB\n"
          ],
          "name": "stdout"
        }
      ]
    },
    {
      "cell_type": "code",
      "metadata": {
        "id": "gViiTCT6nXnB"
      },
      "source": [
        "#Xtest_pre_z = sca.transform(Xtest_pre) # standardizacion\n",
        "#zztest = red.transform(Xtest_pre_z) # llevarlo a 2D con pca\n",
        "\n",
        "zztest = red.transform(sca.transform(dummy.transform(Xtest))) # una sola linea"
      ],
      "execution_count": 31,
      "outputs": []
    },
    {
      "cell_type": "code",
      "metadata": {
        "id": "2kIgjsUKoGvX",
        "outputId": "de7ad7b4-e788-4e07-9ca8-d8df8d067a00",
        "colab": {
          "base_uri": "https://localhost:8080/",
          "height": 276
        }
      },
      "source": [
        "plt.scatter(zz[:,0],zz[:,1],c=ytrain_num,s = 100*Xtrain_pre['Value']/(Xtrain_pre['Value'].max()),label='train')\n",
        "plt.colorbar()\n",
        "plt.scatter(zztest[:,0],zztest[:,1],c=ytest_num,s=100*Xtest_pre['Value']/Xtest_pre['Value'].max(),marker='d',label='test')\n",
        "plt.legend()\n",
        "plt.show()"
      ],
      "execution_count": 40,
      "outputs": [
        {
          "output_type": "display_data",
          "data": {
            "image/png": "[encoded data removed]",
            "text/plain": [
              "<Figure size 432x288 with 2 Axes>"
            ]
          },
          "metadata": {
            "tags": [],
            "needs_background": "light"
          }
        }
      ]
    },
    {
      "cell_type": "code",
      "metadata": {
        "id": "F8i0DDa5pAG8"
      },
      "source": [
        "# definir modelos de predicción\n",
        "from sklearn.linear_model import LinearRegression, ElasticNet\n",
        "\n",
        "steps = [\n",
        "         [('scaler', StandardScaler()), #estandarizar cada atriuto columna de xtrain centrada en 0 y var = 1\n",
        "          ('reg', LinearRegression())],\n",
        "         \n",
        "         [('scaler',StandardScaler()),\n",
        "          ('reg',ElasticNet())]\n",
        "         \n",
        "        # [('scaler', StandardScaler()), #estandarizar cada atriuto columna de xtrain centrada en 0 y var = 1\n",
        "        #  ('reg',  KernelRidge(kernel = 'rbf'))], #clasificador \n",
        "         ]        \n",
        "\n",
        "#parametros a buscar por busqueda por grilla\n",
        "parameters =[ \n",
        "             {'reg__fit_intercept':[True, False]             \n",
        "             },\n",
        "             {\n",
        "              'reg__alpha': [0,1e-3,1e-2,1e-1,1,10], #parametros n_neighbors debe ser siempre un int\n",
        "              'reg__l1_ratio':[0,0.25,0.5,0.75,1]\n",
        "             }\n",
        "              ]\n",
        "\n",
        "label_model = ['Nor+RegLin','Nor+ElasticNet']"
      ],
      "execution_count": 50,
      "outputs": []
    },
    {
      "cell_type": "code",
      "metadata": {
        "id": "-Ot___sqtX-i",
        "outputId": "738e62cc-36ac-4ade-a070-ffe5085d6d58",
        "colab": {
          "base_uri": "https://localhost:8080/",
          "height": 69
        }
      },
      "source": [
        "parameters"
      ],
      "execution_count": 51,
      "outputs": [
        {
          "output_type": "execute_result",
          "data": {
            "text/plain": [
              "[{'reg__fit_intercept': [True, False]},\n",
              " {'reg__alpha': [0, 0.001, 0.01, 0.1, 1, 10],\n",
              "  'reg__l1_ratio': [0, 0.25, 0.5, 0.75, 1]}]"
            ]
          },
          "metadata": {
            "tags": []
          },
          "execution_count": 51
        }
      ]
    },
    {
      "cell_type": "code",
      "metadata": {
        "id": "7wm28_2HwBs3",
        "outputId": "f11114b0-b886-4249-aff5-81643010b6cb",
        "colab": {
          "base_uri": "https://localhost:8080/",
          "height": 35
        }
      },
      "source": [
        "import os\n",
        "pathpre = 'datospre'\n",
        "\n",
        "try:\n",
        "  os.mkdir(pathpre)\n",
        "except:\n",
        "  print(\"Carpeta results ya existe\")\n",
        "\n"
      ],
      "execution_count": 52,
      "outputs": [
        {
          "output_type": "stream",
          "text": [
            "Carpeta results ya existe\n"
          ],
          "name": "stdout"
        }
      ]
    },
    {
      "cell_type": "code",
      "metadata": {
        "id": "pnXdErprtcR6",
        "outputId": "34c4cb2a-30bb-415f-9ee0-6de43a181ee7",
        "colab": {
          "base_uri": "https://localhost:8080/",
          "height": 1000
        }
      },
      "source": [
        "#valildacion cruzada anidada\n",
        "from joblib import dump, load\n",
        "from sklearn.metrics import mean_absolute_error as msa \n",
        "Niter = 10 #numero particiones outter loop nested cross-validation\n",
        "msev =np.zeros((Niter,len(steps)))#arreglo para guardar acierto/error\n",
        "Nmod = len(steps) #numero de modelos a probar\n",
        "best_estimators = Niter*[None]#mejor metodo por iteracion\n",
        "###clave del funcionamiento\n",
        "best_hyperpar = Niter*[None]#mejor metodo por iteracion \n",
        "\n",
        "\n",
        "#############################\n",
        "for j in range(Niter): #outter loop # SI TIENE MENOS DE 1000 DATOS BORRAR ESTE CICLO SOLO CV EN LINEA 16\n",
        "      #print('it %d/%d'%(j+1,Niter))\n",
        "      #particiono datos outter loop\n",
        "      X_trainj, X_testj, y_trainj, y_testj = train_test_split(Xtrain_pre,ytrain_num,test_size=0.3) # xtrain 60, xtest 26\n",
        "      list_est = [] #lista lazo interno para guardar mejor estimador por modelo para iteracion j\n",
        "      list_hyper = [] #lista lazo interno para guardar mejores hyperparametros por modelo para iteracion j\n",
        "      for r in range(Nmod): #recorro todos los posibles modelos a probar en iteracion j del outter loop\n",
        "          grid_search = GridSearchCV(Pipeline(steps[r],memory=pathpre), parameters[r],cv=5,verbose=5,scoring='neg_mean_absolute_error',n_jobs=-1) #cv inner loop\n",
        "          #xtrain gridsearchcv xtrain split en 12 / cv, 60/5 = 12, xtrain 48 datos validar 12\n",
        "          # cv = N -> leave one out N <30\n",
        "          #generar mejor modelo\n",
        "          grid_search.fit(X_trainj,y_trainj)\n",
        "          #estimar salida conjunto de test\n",
        "          y_pred = grid_search.best_estimator_.predict(X_testj)\n",
        "          #guardar mejor modelo\n",
        "          list_est.append(grid_search.best_estimator_)\n",
        "          list_hyper.append(grid_search.best_params_)\n",
        "          #guardar acierto\n",
        "          msev[j,r] = msa(y_testj,y_pred)\n",
        "          print('it %d/%d-Modelo %d/%d'%(j+1,Niter,r+1,len(steps)))\n",
        "          print('best hyper', grid_search.best_params_)\n",
        "          print('msa:',msev[j,r])\n",
        "          \n",
        "      best_estimators[j] = list_est #guardar mejores modelos \n",
        "      best_hyperpar[j] = list_hyper #mejores hyperparametros\n",
        "          \n",
        "          \n",
        "      savedata = {\n",
        "          'acc':msev,\n",
        "          'best_models':best_estimators,\n",
        "          'best_parameters':best_hyperpar,\n",
        "            } \n",
        "      dump(savedata,'fifa.joblib')"
      ],
      "execution_count": 55,
      "outputs": [
        {
          "output_type": "stream",
          "text": [
            "Fitting 5 folds for each of 2 candidates, totalling 10 fits\n"
          ],
          "name": "stdout"
        },
        {
          "output_type": "stream",
          "text": [
            "[Parallel(n_jobs=-1)]: Using backend LokyBackend with 2 concurrent workers.\n",
            "[Parallel(n_jobs=-1)]: Done  10 out of  10 | elapsed:    1.4s remaining:    0.0s\n",
            "[Parallel(n_jobs=-1)]: Done  10 out of  10 | elapsed:    1.4s finished\n"
          ],
          "name": "stderr"
        },
        {
          "output_type": "stream",
          "text": [
            "it 1/10-Modelo 1/2\n",
            "best hyper {'reg__fit_intercept': True}\n",
            "msa: 941344.5294467913\n",
            "Fitting 5 folds for each of 30 candidates, totalling 150 fits\n"
          ],
          "name": "stdout"
        },
        {
          "output_type": "stream",
          "text": [
            "[Parallel(n_jobs=-1)]: Using backend LokyBackend with 2 concurrent workers.\n",
            "[Parallel(n_jobs=-1)]: Done  14 tasks      | elapsed:    9.4s\n",
            "[Parallel(n_jobs=-1)]: Done  68 tasks      | elapsed:   44.2s\n",
            "[Parallel(n_jobs=-1)]: Done 150 out of 150 | elapsed:  1.4min finished\n"
          ],
          "name": "stderr"
        },
        {
          "output_type": "stream",
          "text": [
            "it 1/10-Modelo 2/2\n",
            "best hyper {'reg__alpha': 0.01, 'reg__l1_ratio': 0}\n",
            "msa: 893711.4807132004\n",
            "Fitting 5 folds for each of 2 candidates, totalling 10 fits\n"
          ],
          "name": "stdout"
        },
        {
          "output_type": "stream",
          "text": [
            "[Parallel(n_jobs=-1)]: Using backend LokyBackend with 2 concurrent workers.\n",
            "[Parallel(n_jobs=-1)]: Done  10 out of  10 | elapsed:    1.2s remaining:    0.0s\n",
            "[Parallel(n_jobs=-1)]: Done  10 out of  10 | elapsed:    1.2s finished\n"
          ],
          "name": "stderr"
        },
        {
          "output_type": "stream",
          "text": [
            "it 2/10-Modelo 1/2\n",
            "best hyper {'reg__fit_intercept': True}\n",
            "msa: 915999.6610880487\n",
            "Fitting 5 folds for each of 30 candidates, totalling 150 fits\n"
          ],
          "name": "stdout"
        },
        {
          "output_type": "stream",
          "text": [
            "[Parallel(n_jobs=-1)]: Using backend LokyBackend with 2 concurrent workers.\n",
            "[Parallel(n_jobs=-1)]: Done  14 tasks      | elapsed:    8.5s\n",
            "[Parallel(n_jobs=-1)]: Done  68 tasks      | elapsed:   42.7s\n",
            "[Parallel(n_jobs=-1)]: Done 150 out of 150 | elapsed:  1.4min finished\n"
          ],
          "name": "stderr"
        },
        {
          "output_type": "stream",
          "text": [
            "it 2/10-Modelo 2/2\n",
            "best hyper {'reg__alpha': 0.01, 'reg__l1_ratio': 0}\n",
            "msa: 882104.071107386\n",
            "Fitting 5 folds for each of 2 candidates, totalling 10 fits\n"
          ],
          "name": "stdout"
        },
        {
          "output_type": "stream",
          "text": [
            "[Parallel(n_jobs=-1)]: Using backend LokyBackend with 2 concurrent workers.\n",
            "[Parallel(n_jobs=-1)]: Done  10 out of  10 | elapsed:    1.3s remaining:    0.0s\n",
            "[Parallel(n_jobs=-1)]: Done  10 out of  10 | elapsed:    1.3s finished\n"
          ],
          "name": "stderr"
        },
        {
          "output_type": "stream",
          "text": [
            "it 3/10-Modelo 1/2\n",
            "best hyper {'reg__fit_intercept': True}\n",
            "msa: 900803.8225845068\n",
            "Fitting 5 folds for each of 30 candidates, totalling 150 fits\n"
          ],
          "name": "stdout"
        },
        {
          "output_type": "stream",
          "text": [
            "[Parallel(n_jobs=-1)]: Using backend LokyBackend with 2 concurrent workers.\n",
            "[Parallel(n_jobs=-1)]: Done  14 tasks      | elapsed:    8.5s\n",
            "[Parallel(n_jobs=-1)]: Done  68 tasks      | elapsed:   41.8s\n",
            "[Parallel(n_jobs=-1)]: Done 150 out of 150 | elapsed:  1.4min finished\n"
          ],
          "name": "stderr"
        },
        {
          "output_type": "stream",
          "text": [
            "it 3/10-Modelo 2/2\n",
            "best hyper {'reg__alpha': 0.01, 'reg__l1_ratio': 0}\n",
            "msa: 867461.5194649121\n",
            "Fitting 5 folds for each of 2 candidates, totalling 10 fits\n"
          ],
          "name": "stdout"
        },
        {
          "output_type": "stream",
          "text": [
            "[Parallel(n_jobs=-1)]: Using backend LokyBackend with 2 concurrent workers.\n",
            "[Parallel(n_jobs=-1)]: Done  10 out of  10 | elapsed:    1.2s remaining:    0.0s\n",
            "[Parallel(n_jobs=-1)]: Done  10 out of  10 | elapsed:    1.2s finished\n"
          ],
          "name": "stderr"
        },
        {
          "output_type": "stream",
          "text": [
            "it 4/10-Modelo 1/2\n",
            "best hyper {'reg__fit_intercept': True}\n",
            "msa: 958924.0567807403\n",
            "Fitting 5 folds for each of 30 candidates, totalling 150 fits\n"
          ],
          "name": "stdout"
        },
        {
          "output_type": "stream",
          "text": [
            "[Parallel(n_jobs=-1)]: Using backend LokyBackend with 2 concurrent workers.\n",
            "[Parallel(n_jobs=-1)]: Done  14 tasks      | elapsed:    9.5s\n",
            "[Parallel(n_jobs=-1)]: Done  68 tasks      | elapsed:   47.1s\n",
            "[Parallel(n_jobs=-1)]: Done 150 out of 150 | elapsed:  1.5min finished\n"
          ],
          "name": "stderr"
        },
        {
          "output_type": "stream",
          "text": [
            "it 4/10-Modelo 2/2\n",
            "best hyper {'reg__alpha': 0.1, 'reg__l1_ratio': 0.75}\n",
            "msa: 927843.6374565338\n",
            "Fitting 5 folds for each of 2 candidates, totalling 10 fits\n"
          ],
          "name": "stdout"
        },
        {
          "output_type": "stream",
          "text": [
            "[Parallel(n_jobs=-1)]: Using backend LokyBackend with 2 concurrent workers.\n",
            "[Parallel(n_jobs=-1)]: Done  10 out of  10 | elapsed:    1.3s remaining:    0.0s\n",
            "[Parallel(n_jobs=-1)]: Done  10 out of  10 | elapsed:    1.3s finished\n"
          ],
          "name": "stderr"
        },
        {
          "output_type": "stream",
          "text": [
            "it 5/10-Modelo 1/2\n",
            "best hyper {'reg__fit_intercept': True}\n",
            "msa: 917848.2228749185\n",
            "Fitting 5 folds for each of 30 candidates, totalling 150 fits\n"
          ],
          "name": "stdout"
        },
        {
          "output_type": "stream",
          "text": [
            "[Parallel(n_jobs=-1)]: Using backend LokyBackend with 2 concurrent workers.\n",
            "[Parallel(n_jobs=-1)]: Done  14 tasks      | elapsed:    8.9s\n",
            "[Parallel(n_jobs=-1)]: Done  68 tasks      | elapsed:   42.8s\n",
            "[Parallel(n_jobs=-1)]: Done 150 out of 150 | elapsed:  1.4min finished\n"
          ],
          "name": "stderr"
        },
        {
          "output_type": "stream",
          "text": [
            "it 5/10-Modelo 2/2\n",
            "best hyper {'reg__alpha': 0.1, 'reg__l1_ratio': 0.75}\n",
            "msa: 873204.9314324494\n",
            "Fitting 5 folds for each of 2 candidates, totalling 10 fits\n"
          ],
          "name": "stdout"
        },
        {
          "output_type": "stream",
          "text": [
            "[Parallel(n_jobs=-1)]: Using backend LokyBackend with 2 concurrent workers.\n",
            "[Parallel(n_jobs=-1)]: Done  10 out of  10 | elapsed:    1.2s remaining:    0.0s\n",
            "[Parallel(n_jobs=-1)]: Done  10 out of  10 | elapsed:    1.2s finished\n"
          ],
          "name": "stderr"
        },
        {
          "output_type": "stream",
          "text": [
            "it 6/10-Modelo 1/2\n",
            "best hyper {'reg__fit_intercept': True}\n",
            "msa: 918998.5124748008\n",
            "Fitting 5 folds for each of 30 candidates, totalling 150 fits\n"
          ],
          "name": "stdout"
        },
        {
          "output_type": "stream",
          "text": [
            "[Parallel(n_jobs=-1)]: Using backend LokyBackend with 2 concurrent workers.\n",
            "[Parallel(n_jobs=-1)]: Done  14 tasks      | elapsed:    8.9s\n",
            "[Parallel(n_jobs=-1)]: Done  68 tasks      | elapsed:   43.5s\n",
            "[Parallel(n_jobs=-1)]: Done 150 out of 150 | elapsed:  1.4min finished\n"
          ],
          "name": "stderr"
        },
        {
          "output_type": "stream",
          "text": [
            "it 6/10-Modelo 2/2\n",
            "best hyper {'reg__alpha': 0.1, 'reg__l1_ratio': 0.75}\n",
            "msa: 874294.457095926\n",
            "Fitting 5 folds for each of 2 candidates, totalling 10 fits\n"
          ],
          "name": "stdout"
        },
        {
          "output_type": "stream",
          "text": [
            "[Parallel(n_jobs=-1)]: Using backend LokyBackend with 2 concurrent workers.\n",
            "[Parallel(n_jobs=-1)]: Done  10 out of  10 | elapsed:    1.3s remaining:    0.0s\n",
            "[Parallel(n_jobs=-1)]: Done  10 out of  10 | elapsed:    1.3s finished\n"
          ],
          "name": "stderr"
        },
        {
          "output_type": "stream",
          "text": [
            "it 7/10-Modelo 1/2\n",
            "best hyper {'reg__fit_intercept': True}\n",
            "msa: 1502107.453967849\n",
            "Fitting 5 folds for each of 30 candidates, totalling 150 fits\n"
          ],
          "name": "stdout"
        },
        {
          "output_type": "stream",
          "text": [
            "[Parallel(n_jobs=-1)]: Using backend LokyBackend with 2 concurrent workers.\n",
            "[Parallel(n_jobs=-1)]: Done  14 tasks      | elapsed:    9.2s\n",
            "[Parallel(n_jobs=-1)]: Done  68 tasks      | elapsed:   44.1s\n",
            "[Parallel(n_jobs=-1)]: Done 150 out of 150 | elapsed:  1.4min finished\n"
          ],
          "name": "stderr"
        },
        {
          "output_type": "stream",
          "text": [
            "it 7/10-Modelo 2/2\n",
            "best hyper {'reg__alpha': 0.01, 'reg__l1_ratio': 0}\n",
            "msa: 864935.5990792656\n",
            "Fitting 5 folds for each of 2 candidates, totalling 10 fits\n"
          ],
          "name": "stdout"
        },
        {
          "output_type": "stream",
          "text": [
            "[Parallel(n_jobs=-1)]: Using backend LokyBackend with 2 concurrent workers.\n",
            "[Parallel(n_jobs=-1)]: Done  10 out of  10 | elapsed:    1.2s remaining:    0.0s\n",
            "[Parallel(n_jobs=-1)]: Done  10 out of  10 | elapsed:    1.2s finished\n"
          ],
          "name": "stderr"
        },
        {
          "output_type": "stream",
          "text": [
            "it 8/10-Modelo 1/2\n",
            "best hyper {'reg__fit_intercept': True}\n",
            "msa: 902002.7387884521\n",
            "Fitting 5 folds for each of 30 candidates, totalling 150 fits\n"
          ],
          "name": "stdout"
        },
        {
          "output_type": "stream",
          "text": [
            "[Parallel(n_jobs=-1)]: Using backend LokyBackend with 2 concurrent workers.\n",
            "[Parallel(n_jobs=-1)]: Done  14 tasks      | elapsed:    8.7s\n",
            "[Parallel(n_jobs=-1)]: Done  68 tasks      | elapsed:   44.2s\n",
            "[Parallel(n_jobs=-1)]: Done 150 out of 150 | elapsed:  1.4min finished\n"
          ],
          "name": "stderr"
        },
        {
          "output_type": "stream",
          "text": [
            "it 8/10-Modelo 2/2\n",
            "best hyper {'reg__alpha': 0.1, 'reg__l1_ratio': 0.75}\n",
            "msa: 872879.32720552\n",
            "Fitting 5 folds for each of 2 candidates, totalling 10 fits\n"
          ],
          "name": "stdout"
        },
        {
          "output_type": "stream",
          "text": [
            "[Parallel(n_jobs=-1)]: Using backend LokyBackend with 2 concurrent workers.\n",
            "[Parallel(n_jobs=-1)]: Done  10 out of  10 | elapsed:    1.2s remaining:    0.0s\n",
            "[Parallel(n_jobs=-1)]: Done  10 out of  10 | elapsed:    1.2s finished\n"
          ],
          "name": "stderr"
        },
        {
          "output_type": "stream",
          "text": [
            "it 9/10-Modelo 1/2\n",
            "best hyper {'reg__fit_intercept': True}\n",
            "msa: 961744.070343278\n",
            "Fitting 5 folds for each of 30 candidates, totalling 150 fits\n"
          ],
          "name": "stdout"
        },
        {
          "output_type": "stream",
          "text": [
            "[Parallel(n_jobs=-1)]: Using backend LokyBackend with 2 concurrent workers.\n",
            "[Parallel(n_jobs=-1)]: Done  14 tasks      | elapsed:    8.8s\n",
            "[Parallel(n_jobs=-1)]: Done  68 tasks      | elapsed:   42.8s\n",
            "[Parallel(n_jobs=-1)]: Done 150 out of 150 | elapsed:  1.4min finished\n"
          ],
          "name": "stderr"
        },
        {
          "output_type": "stream",
          "text": [
            "it 9/10-Modelo 2/2\n",
            "best hyper {'reg__alpha': 0.01, 'reg__l1_ratio': 0}\n",
            "msa: 906138.0954893361\n",
            "Fitting 5 folds for each of 2 candidates, totalling 10 fits\n"
          ],
          "name": "stdout"
        },
        {
          "output_type": "stream",
          "text": [
            "[Parallel(n_jobs=-1)]: Using backend LokyBackend with 2 concurrent workers.\n",
            "[Parallel(n_jobs=-1)]: Done  10 out of  10 | elapsed:    1.3s remaining:    0.0s\n",
            "[Parallel(n_jobs=-1)]: Done  10 out of  10 | elapsed:    1.3s finished\n"
          ],
          "name": "stderr"
        },
        {
          "output_type": "stream",
          "text": [
            "it 10/10-Modelo 1/2\n",
            "best hyper {'reg__fit_intercept': True}\n",
            "msa: 923884.9235558618\n",
            "Fitting 5 folds for each of 30 candidates, totalling 150 fits\n"
          ],
          "name": "stdout"
        },
        {
          "output_type": "stream",
          "text": [
            "[Parallel(n_jobs=-1)]: Using backend LokyBackend with 2 concurrent workers.\n",
            "[Parallel(n_jobs=-1)]: Done  14 tasks      | elapsed:    9.2s\n",
            "[Parallel(n_jobs=-1)]: Done  68 tasks      | elapsed:   44.9s\n",
            "[Parallel(n_jobs=-1)]: Done 150 out of 150 | elapsed:  1.4min finished\n"
          ],
          "name": "stderr"
        },
        {
          "output_type": "stream",
          "text": [
            "it 10/10-Modelo 2/2\n",
            "best hyper {'reg__alpha': 0.1, 'reg__l1_ratio': 0.75}\n",
            "msa: 898331.1884403775\n"
          ],
          "name": "stdout"
        }
      ]
    },
    {
      "cell_type": "code",
      "metadata": {
        "id": "A_8zm8N10v07"
      },
      "source": [
        "X.drop(columns=['',''],inplace=True)"
      ],
      "execution_count": null,
      "outputs": []
    }
  ]
}